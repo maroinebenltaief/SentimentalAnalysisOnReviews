{
 "cells": [
  {
   "cell_type": "raw",
   "id": "3d5c1c34",
   "metadata": {},
   "source": [
    "\"\"\"\n",
    "Created on Sun Jun 11 12:54:58 2023\n",
    "\n",
    "Scrapping and saving the data from trustpilot to a csv\n",
    "\n",
    "@author: Maroine\n",
    "\"\"\"\n",
    "\n",
    "# Import Library\n",
    "from selenium import webdriver\n",
    "from selenium.webdriver.common.by import By\n",
    "from selenium.webdriver.chrome.options import Options\n",
    "import pandas as pd\n",
    "\n",
    "# Set Chrome options to run in headless mode\n",
    "chrome_options = Options()\n",
    "chrome_options.add_argument(\"--headless\")\n",
    "\n",
    "# Chrome Path\n",
    "driver = webdriver.Chrome(options = chrome_options)\n",
    "df=pd.DataFrame()\n",
    "\n",
    "# Get Text\n",
    "for i in range(245):\n",
    "    # Web URL\n",
    "    url=f\"{'https://ca.trustpilot.com/review/www.canadapost.ca?page='}{i+1}{'&sort=recency'}\"\n",
    "    driver.get(url)\n",
    "  \n",
    "    element = driver.find_elements(By.TAG_NAME,'p')\n",
    "\n",
    "    temp=[]\n",
    "\n",
    "    for i in range (len(element)):\n",
    "        temp.append(([element[i].text]))\n",
    "\n",
    "    aux=pd.DataFrame(temp)    \n",
    "    df=df.append(aux,ignore_index=True)\n",
    "      \n",
    "df.to_csv('reviews.csv',index=False)\n",
    "  \n",
    "# Close the window\n",
    "driver.close()"
   ]
  },
  {
   "cell_type": "code",
   "execution_count": 1,
   "id": "dc458a41",
   "metadata": {},
   "outputs": [],
   "source": [
    "import pandas as pd\n",
    "pd.set_option('display.max_colwidth', None)"
   ]
  },
  {
   "cell_type": "code",
   "execution_count": 2,
   "id": "4e4c3b84",
   "metadata": {},
   "outputs": [
    {
     "data": {
      "text/plain": [
       "(16114, 1)"
      ]
     },
     "execution_count": 2,
     "metadata": {},
     "output_type": "execute_result"
    }
   ],
   "source": [
    "df = pd.read_csv(\"reviews_trustpilot.csv\", index_col = None)\n",
    "df.shape"
   ]
  },
  {
   "cell_type": "code",
   "execution_count": 3,
   "id": "5b6679f1",
   "metadata": {},
   "outputs": [
    {
     "data": {
      "text/html": [
       "<div>\n",
       "<style scoped>\n",
       "    .dataframe tbody tr th:only-of-type {\n",
       "        vertical-align: middle;\n",
       "    }\n",
       "\n",
       "    .dataframe tbody tr th {\n",
       "        vertical-align: top;\n",
       "    }\n",
       "\n",
       "    .dataframe thead th {\n",
       "        text-align: right;\n",
       "    }\n",
       "</style>\n",
       "<table border=\"1\" class=\"dataframe\">\n",
       "  <thead>\n",
       "    <tr style=\"text-align: right;\">\n",
       "      <th></th>\n",
       "      <th>0</th>\n",
       "    </tr>\n",
       "  </thead>\n",
       "  <tbody>\n",
       "    <tr>\n",
       "      <th>0</th>\n",
       "      <td>1.2</td>\n",
       "    </tr>\n",
       "    <tr>\n",
       "      <th>1</th>\n",
       "      <td>NaN</td>\n",
       "    </tr>\n",
       "    <tr>\n",
       "      <th>2</th>\n",
       "      <td>Visit this website</td>\n",
       "    </tr>\n",
       "    <tr>\n",
       "      <th>3</th>\n",
       "      <td>5,389 total</td>\n",
       "    </tr>\n",
       "    <tr>\n",
       "      <th>4</th>\n",
       "      <td>5-star</td>\n",
       "    </tr>\n",
       "    <tr>\n",
       "      <th>5</th>\n",
       "      <td>2%</td>\n",
       "    </tr>\n",
       "    <tr>\n",
       "      <th>6</th>\n",
       "      <td>4-star</td>\n",
       "    </tr>\n",
       "    <tr>\n",
       "      <th>7</th>\n",
       "      <td>&lt;1%</td>\n",
       "    </tr>\n",
       "    <tr>\n",
       "      <th>8</th>\n",
       "      <td>3-star</td>\n",
       "    </tr>\n",
       "    <tr>\n",
       "      <th>9</th>\n",
       "      <td>&lt;1%</td>\n",
       "    </tr>\n",
       "    <tr>\n",
       "      <th>10</th>\n",
       "      <td>2-star</td>\n",
       "    </tr>\n",
       "    <tr>\n",
       "      <th>11</th>\n",
       "      <td>2%</td>\n",
       "    </tr>\n",
       "    <tr>\n",
       "      <th>12</th>\n",
       "      <td>1-star</td>\n",
       "    </tr>\n",
       "    <tr>\n",
       "      <th>13</th>\n",
       "      <td>95%</td>\n",
       "    </tr>\n",
       "    <tr>\n",
       "      <th>14</th>\n",
       "      <td>Filter</td>\n",
       "    </tr>\n",
       "    <tr>\n",
       "      <th>15</th>\n",
       "      <td>Most relevant</td>\n",
       "    </tr>\n",
       "    <tr>\n",
       "      <th>16</th>\n",
       "      <td>Signed up for MyMail just now. I had to use a different e-mail address because the recovery process for my long-forgotten e-Post username and password crashed. Created new profile under a different e-mail only to discover MyMail is not available for my address. COMPLETE CANADA POST APP-TESTING FAIL!!!</td>\n",
       "    </tr>\n",
       "    <tr>\n",
       "      <th>17</th>\n",
       "      <td>Date of experience: June 08, 2023</td>\n",
       "    </tr>\n",
       "    <tr>\n",
       "      <th>18</th>\n",
       "      <td>Sent an iPhone expresspost to Philippines from Ontario. Came back 14 days later with sticker ✅ dangerous goods. I told the guy at the counter it was a used iPhone in original box, and he does not know it is classed as dangerous goods? If he does not know, how should I know? 🙄</td>\n",
       "    </tr>\n",
       "    <tr>\n",
       "      <th>19</th>\n",
       "      <td>Date of experience: June 08, 2023</td>\n",
       "    </tr>\n",
       "  </tbody>\n",
       "</table>\n",
       "</div>"
      ],
      "text/plain": [
       "                                                                                                                                                                                                                                                                                                                 0\n",
       "0                                                                                                                                                                                                                                                                                                              1.2\n",
       "1                                                                                                                                                                                                                                                                                                              NaN\n",
       "2                                                                                                                                                                                                                                                                                               Visit this website\n",
       "3                                                                                                                                                                                                                                                                                                      5,389 total\n",
       "4                                                                                                                                                                                                                                                                                                           5-star\n",
       "5                                                                                                                                                                                                                                                                                                               2%\n",
       "6                                                                                                                                                                                                                                                                                                           4-star\n",
       "7                                                                                                                                                                                                                                                                                                              <1%\n",
       "8                                                                                                                                                                                                                                                                                                           3-star\n",
       "9                                                                                                                                                                                                                                                                                                              <1%\n",
       "10                                                                                                                                                                                                                                                                                                          2-star\n",
       "11                                                                                                                                                                                                                                                                                                              2%\n",
       "12                                                                                                                                                                                                                                                                                                          1-star\n",
       "13                                                                                                                                                                                                                                                                                                             95%\n",
       "14                                                                                                                                                                                                                                                                                                          Filter\n",
       "15                                                                                                                                                                                                                                                                                                   Most relevant\n",
       "16  Signed up for MyMail just now. I had to use a different e-mail address because the recovery process for my long-forgotten e-Post username and password crashed. Created new profile under a different e-mail only to discover MyMail is not available for my address. COMPLETE CANADA POST APP-TESTING FAIL!!!\n",
       "17                                                                                                                                                                                                                                                                               Date of experience: June 08, 2023\n",
       "18                            Sent an iPhone expresspost to Philippines from Ontario. Came back 14 days later with sticker ✅ dangerous goods. I told the guy at the counter it was a used iPhone in original box, and he does not know it is classed as dangerous goods? If he does not know, how should I know? 🙄\n",
       "19                                                                                                                                                                                                                                                                               Date of experience: June 08, 2023"
      ]
     },
     "execution_count": 3,
     "metadata": {},
     "output_type": "execute_result"
    }
   ],
   "source": [
    "df.head(20)"
   ]
  },
  {
   "cell_type": "code",
   "execution_count": 4,
   "id": "dbd74ffa",
   "metadata": {},
   "outputs": [
    {
     "data": {
      "text/html": [
       "<div>\n",
       "<style scoped>\n",
       "    .dataframe tbody tr th:only-of-type {\n",
       "        vertical-align: middle;\n",
       "    }\n",
       "\n",
       "    .dataframe tbody tr th {\n",
       "        vertical-align: top;\n",
       "    }\n",
       "\n",
       "    .dataframe thead th {\n",
       "        text-align: right;\n",
       "    }\n",
       "</style>\n",
       "<table border=\"1\" class=\"dataframe\">\n",
       "  <thead>\n",
       "    <tr style=\"text-align: right;\">\n",
       "      <th></th>\n",
       "      <th>0</th>\n",
       "    </tr>\n",
       "  </thead>\n",
       "  <tbody>\n",
       "    <tr>\n",
       "      <th>16104</th>\n",
       "      <td>Date of experience: November 30, 2016</td>\n",
       "    </tr>\n",
       "    <tr>\n",
       "      <th>16105</th>\n",
       "      <td>Claim your profile to access Trustpilot’s free business tools and connect with customers.</td>\n",
       "    </tr>\n",
       "    <tr>\n",
       "      <th>16106</th>\n",
       "      <td>Claim your profile to access Trustpilot’s free business tools and connect with customers.</td>\n",
       "    </tr>\n",
       "    <tr>\n",
       "      <th>16107</th>\n",
       "      <td>NaN</td>\n",
       "    </tr>\n",
       "    <tr>\n",
       "      <th>16108</th>\n",
       "      <td>NaN</td>\n",
       "    </tr>\n",
       "    <tr>\n",
       "      <th>16109</th>\n",
       "      <td>NaN</td>\n",
       "    </tr>\n",
       "    <tr>\n",
       "      <th>16110</th>\n",
       "      <td>NaN</td>\n",
       "    </tr>\n",
       "    <tr>\n",
       "      <th>16111</th>\n",
       "      <td>NaN</td>\n",
       "    </tr>\n",
       "    <tr>\n",
       "      <th>16112</th>\n",
       "      <td>NaN</td>\n",
       "    </tr>\n",
       "    <tr>\n",
       "      <th>16113</th>\n",
       "      <td>NaN</td>\n",
       "    </tr>\n",
       "  </tbody>\n",
       "</table>\n",
       "</div>"
      ],
      "text/plain": [
       "                                                                                               0\n",
       "16104                                                      Date of experience: November 30, 2016\n",
       "16105  Claim your profile to access Trustpilot’s free business tools and connect with customers.\n",
       "16106  Claim your profile to access Trustpilot’s free business tools and connect with customers.\n",
       "16107                                                                                        NaN\n",
       "16108                                                                                        NaN\n",
       "16109                                                                                        NaN\n",
       "16110                                                                                        NaN\n",
       "16111                                                                                        NaN\n",
       "16112                                                                                        NaN\n",
       "16113                                                                                        NaN"
      ]
     },
     "execution_count": 4,
     "metadata": {},
     "output_type": "execute_result"
    }
   ],
   "source": [
    "df.tail(10)"
   ]
  },
  {
   "cell_type": "code",
   "execution_count": 5,
   "id": "392ab095",
   "metadata": {},
   "outputs": [
    {
     "data": {
      "text/plain": [
       "(16089, 1)"
      ]
     },
     "execution_count": 5,
     "metadata": {},
     "output_type": "execute_result"
    }
   ],
   "source": [
    "# Removing additional headers and tails\n",
    "\n",
    "df = df.loc[16:16104,:]\n",
    "df.shape"
   ]
  },
  {
   "cell_type": "code",
   "execution_count": 6,
   "id": "c29ddbde",
   "metadata": {},
   "outputs": [
    {
     "data": {
      "text/html": [
       "<div>\n",
       "<style scoped>\n",
       "    .dataframe tbody tr th:only-of-type {\n",
       "        vertical-align: middle;\n",
       "    }\n",
       "\n",
       "    .dataframe tbody tr th {\n",
       "        vertical-align: top;\n",
       "    }\n",
       "\n",
       "    .dataframe thead th {\n",
       "        text-align: right;\n",
       "    }\n",
       "</style>\n",
       "<table border=\"1\" class=\"dataframe\">\n",
       "  <thead>\n",
       "    <tr style=\"text-align: right;\">\n",
       "      <th></th>\n",
       "      <th>0</th>\n",
       "    </tr>\n",
       "  </thead>\n",
       "  <tbody>\n",
       "    <tr>\n",
       "      <th>16</th>\n",
       "      <td>Signed up for MyMail just now. I had to use a different e-mail address because the recovery process for my long-forgotten e-Post username and password crashed. Created new profile under a different e-mail only to discover MyMail is not available for my address. COMPLETE CANADA POST APP-TESTING FAIL!!!</td>\n",
       "    </tr>\n",
       "    <tr>\n",
       "      <th>17</th>\n",
       "      <td>Date of experience: June 08, 2023</td>\n",
       "    </tr>\n",
       "    <tr>\n",
       "      <th>18</th>\n",
       "      <td>Sent an iPhone expresspost to Philippines from Ontario. Came back 14 days later with sticker ✅ dangerous goods. I told the guy at the counter it was a used iPhone in original box, and he does not know it is classed as dangerous goods? If he does not know, how should I know? 🙄</td>\n",
       "    </tr>\n",
       "    <tr>\n",
       "      <th>19</th>\n",
       "      <td>Date of experience: June 08, 2023</td>\n",
       "    </tr>\n",
       "    <tr>\n",
       "      <th>20</th>\n",
       "      <td>Canada post out of order and is a reflection of our Liberal government who don’t give a dam about its citizens. Don’t forget, we sign your pay cheque. Do better.</td>\n",
       "    </tr>\n",
       "  </tbody>\n",
       "</table>\n",
       "</div>"
      ],
      "text/plain": [
       "                                                                                                                                                                                                                                                                                                                 0\n",
       "16  Signed up for MyMail just now. I had to use a different e-mail address because the recovery process for my long-forgotten e-Post username and password crashed. Created new profile under a different e-mail only to discover MyMail is not available for my address. COMPLETE CANADA POST APP-TESTING FAIL!!!\n",
       "17                                                                                                                                                                                                                                                                               Date of experience: June 08, 2023\n",
       "18                            Sent an iPhone expresspost to Philippines from Ontario. Came back 14 days later with sticker ✅ dangerous goods. I told the guy at the counter it was a used iPhone in original box, and he does not know it is classed as dangerous goods? If he does not know, how should I know? 🙄\n",
       "19                                                                                                                                                                                                                                                                               Date of experience: June 08, 2023\n",
       "20                                                                                                                                               Canada post out of order and is a reflection of our Liberal government who don’t give a dam about its citizens. Don’t forget, we sign your pay cheque. Do better."
      ]
     },
     "execution_count": 6,
     "metadata": {},
     "output_type": "execute_result"
    }
   ],
   "source": [
    "df.head(5)"
   ]
  },
  {
   "cell_type": "code",
   "execution_count": 7,
   "id": "0202ee94",
   "metadata": {},
   "outputs": [
    {
     "data": {
      "text/html": [
       "<div>\n",
       "<style scoped>\n",
       "    .dataframe tbody tr th:only-of-type {\n",
       "        vertical-align: middle;\n",
       "    }\n",
       "\n",
       "    .dataframe tbody tr th {\n",
       "        vertical-align: top;\n",
       "    }\n",
       "\n",
       "    .dataframe thead th {\n",
       "        text-align: right;\n",
       "    }\n",
       "</style>\n",
       "<table border=\"1\" class=\"dataframe\">\n",
       "  <thead>\n",
       "    <tr style=\"text-align: right;\">\n",
       "      <th></th>\n",
       "      <th>0</th>\n",
       "    </tr>\n",
       "  </thead>\n",
       "  <tbody>\n",
       "    <tr>\n",
       "      <th>16100</th>\n",
       "      <td>Date of experience: December 06, 2016</td>\n",
       "    </tr>\n",
       "    <tr>\n",
       "      <th>16101</th>\n",
       "      <td>Crown Corporation opt out: Important: We're working hard to process and deliver record holiday parcel volumes as quickly as possible. Please note that it may take up to 24 hours for customers to see tracking information on our website. In some cases, customers may also experience a delay in delivery. We continue to devote extra resources to serve you and apologize for any delays\\n\\nFull disclosure aside, why is it that a package dispatched from Mississauga to an address in Mississauga, a distance of maximum seven kilometres, was sent instead to Stoney Creek for sorting, a round trip of about 100 kilometres. The package has yet to be delivered over four days past scheduled delivery. Am I missing something subtle here? We all know that we would be sacked if we did something as stupid as this where we work.\\nAnd talking of deliveries, a very expensive laptop was left on our porch as the Canada Post delivery man could not be bothered to even ring the doorbell. Perhaps the powers that be, occupying jobs for life, ought to monitor news reports of people cruising streets to steal parcels from porches.</td>\n",
       "    </tr>\n",
       "    <tr>\n",
       "      <th>16102</th>\n",
       "      <td>Date of experience: December 03, 2016</td>\n",
       "    </tr>\n",
       "    <tr>\n",
       "      <th>16103</th>\n",
       "      <td>Canada post fails to deliver packages on time on the regular, spending time \"processing\" the package for much too long. When packages arrive, they often don't even knock and just leave their little paper slip. Government employees should not be in charge of mail, and Canada Post shows what happens when you let incompetence run the show.</td>\n",
       "    </tr>\n",
       "    <tr>\n",
       "      <th>16104</th>\n",
       "      <td>Date of experience: November 30, 2016</td>\n",
       "    </tr>\n",
       "  </tbody>\n",
       "</table>\n",
       "</div>"
      ],
      "text/plain": [
       "                                                                                                                                                                                                                                                                                                                                                                                                                                                                                                                                                                                                                                                                                                                                                                                                                                                                                                                                                                                                                                                                                                                                                             0\n",
       "16100                                                                                                                                                                                                                                                                                                                                                                                                                                                                                                                                                                                                                                                                                                                                                                                                                                                                                                                                                                                                                                                                                                                    Date of experience: December 06, 2016\n",
       "16101  Crown Corporation opt out: Important: We're working hard to process and deliver record holiday parcel volumes as quickly as possible. Please note that it may take up to 24 hours for customers to see tracking information on our website. In some cases, customers may also experience a delay in delivery. We continue to devote extra resources to serve you and apologize for any delays\\n\\nFull disclosure aside, why is it that a package dispatched from Mississauga to an address in Mississauga, a distance of maximum seven kilometres, was sent instead to Stoney Creek for sorting, a round trip of about 100 kilometres. The package has yet to be delivered over four days past scheduled delivery. Am I missing something subtle here? We all know that we would be sacked if we did something as stupid as this where we work.\\nAnd talking of deliveries, a very expensive laptop was left on our porch as the Canada Post delivery man could not be bothered to even ring the doorbell. Perhaps the powers that be, occupying jobs for life, ought to monitor news reports of people cruising streets to steal parcels from porches.\n",
       "16102                                                                                                                                                                                                                                                                                                                                                                                                                                                                                                                                                                                                                                                                                                                                                                                                                                                                                                                                                                                                                                                                                                                    Date of experience: December 03, 2016\n",
       "16103                                                                                                                                                                                                                                                                                                                                                                                                                                                                                                                                                                                                                                                                                                                                                                                                       Canada post fails to deliver packages on time on the regular, spending time \"processing\" the package for much too long. When packages arrive, they often don't even knock and just leave their little paper slip. Government employees should not be in charge of mail, and Canada Post shows what happens when you let incompetence run the show.\n",
       "16104                                                                                                                                                                                                                                                                                                                                                                                                                                                                                                                                                                                                                                                                                                                                                                                                                                                                                                                                                                                                                                                                                                                    Date of experience: November 30, 2016"
      ]
     },
     "execution_count": 7,
     "metadata": {},
     "output_type": "execute_result"
    }
   ],
   "source": [
    "df.tail(5)"
   ]
  },
  {
   "cell_type": "code",
   "execution_count": 8,
   "id": "cfa306f5",
   "metadata": {
    "scrolled": true
   },
   "outputs": [
    {
     "data": {
      "text/plain": [
       "(14137, 1)"
      ]
     },
     "execution_count": 8,
     "metadata": {},
     "output_type": "execute_result"
    }
   ],
   "source": [
    "# Remove blank rows (missing - Nan values)\n",
    "\n",
    "df = df.dropna(axis=0)\n",
    "df.shape"
   ]
  },
  {
   "cell_type": "code",
   "execution_count": 9,
   "id": "6afd7bd4",
   "metadata": {},
   "outputs": [],
   "source": [
    "# locating the index of number of stars\n",
    "\n",
    "star_index = df[(df[\"0\"]== \"1-star\") | (df[\"0\"] == \"2-star\") | (df[\"0\"]== \"3-star\") | \n",
    "                (df[\"0\"]== \"4-star\") | (df[\"0\"]== \"5-star\")].index"
   ]
  },
  {
   "cell_type": "code",
   "execution_count": 10,
   "id": "bee7754b",
   "metadata": {},
   "outputs": [
    {
     "data": {
      "text/plain": [
       "(12917, 1)"
      ]
     },
     "execution_count": 10,
     "metadata": {},
     "output_type": "execute_result"
    }
   ],
   "source": [
    "# dropping the rows with the summary starts of each page \n",
    "\n",
    "df = df.drop(star_index, axis=0)\n",
    "df.shape"
   ]
  },
  {
   "cell_type": "code",
   "execution_count": 11,
   "id": "60f274a7",
   "metadata": {},
   "outputs": [
    {
     "name": "stdout",
     "output_type": "stream",
     "text": [
      " Last review date:  [['Date of experience: June 08, 2023']]\n",
      " First review date: [['Date of experience: November 30, 2016']]\n"
     ]
    }
   ],
   "source": [
    "str_dates = df[df[\"0\"].str.contains('Date of experience:')]\n",
    "dates_index = str_dates.index\n",
    "\n",
    "print(f\" Last review date:  {str_dates.head(1).values}\\n First review date: {str_dates.tail(1).values}\")"
   ]
  },
  {
   "cell_type": "code",
   "execution_count": 12,
   "id": "9df94e40",
   "metadata": {},
   "outputs": [
    {
     "data": {
      "text/plain": [
       "(8017, 1)"
      ]
     },
     "execution_count": 12,
     "metadata": {},
     "output_type": "execute_result"
    }
   ],
   "source": [
    "# dropping the rows with dates\n",
    "\n",
    "df = df.drop(dates_index, axis=0)\n",
    "df.shape"
   ]
  },
  {
   "cell_type": "code",
   "execution_count": 13,
   "id": "e8a74125",
   "metadata": {
    "scrolled": false
   },
   "outputs": [
    {
     "data": {
      "text/plain": [
       "<1%                                                                                                                                                                                                                                                                                                                                                                                              488\n",
       "2%                                                                                                                                                                                                                                                                                                                                                                                               488\n",
       "Claim your profile to access Trustpilot’s free business tools and connect with customers.                                                                                                                                                                                                                                                                                                        488\n",
       "See Trustpilot reviews directly in your Google searches                                                                                                                                                                                                                                                                                                                                          245\n",
       "Most recent                                                                                                                                                                                                                                                                                                                                                                                      244\n",
       "Filter                                                                                                                                                                                                                                                                                                                                                                                           244\n",
       "95%                                                                                                                                                                                                                                                                                                                                                                                              244\n",
       "5,389 total                                                                                                                                                                                                                                                                                                                                                                                      244\n",
       "Visit this website                                                                                                                                                                                                                                                                                                                                                                               244\n",
       "1.2                                                                                                                                                                                                                                                                                                                                                                                              244\n",
       "We use cookies to personalize content and ads, to provide social media features, and to analyze our traffic. We also share information about your use of our site with our partners in social media, advertising, and analytics. By continuing to use our website, you accept the use of all cookies. You can always access and change your cookie preferences in the footer of this website.     14\n",
       "Name: 0, dtype: int64"
      ]
     },
     "execution_count": 13,
     "metadata": {},
     "output_type": "execute_result"
    }
   ],
   "source": [
    "# Let's find the most repeated, non intuitive words or phrases\n",
    "df[\"0\"].value_counts()[0:11]"
   ]
  },
  {
   "cell_type": "code",
   "execution_count": 14,
   "id": "d4e9e755",
   "metadata": {},
   "outputs": [],
   "source": [
    "todrop_index = df[(df[\"0\"]== \"<1%\") | (df[\"0\"] == \"2%\") |\n",
    "                  (df[\"0\"]== \"Claim your profile to access Trustpilot’s free business tools and connect with customers.\") | \n",
    "                  (df[\"0\"]== \"See Trustpilot reviews directly in your Google searches\") | \n",
    "                  (df[\"0\"]== \"Most recent\") |\n",
    "                  (df[\"0\"]== \"Filter\") |\n",
    "                  (df[\"0\"]== \"95%\") |\n",
    "                  (df[\"0\"]== \"5,389 total\") |\n",
    "                  (df[\"0\"]== \"Visit this website\") |\n",
    "                  (df[\"0\"]== \"1.2\") |\n",
    "                  (df[\"0\"]== \"We use cookies to personalize content and ads, to provide social media features, and to analyze our traffic. We also share information about your use of our site with our partners in social media, advertising, and analytics. By continuing to use our website, you accept the use of all cookies. You can always access and change your cookie preferences in the footer of this website.\")\n",
    "                 ].index"
   ]
  },
  {
   "cell_type": "code",
   "execution_count": 15,
   "id": "233a28fa",
   "metadata": {},
   "outputs": [
    {
     "data": {
      "text/plain": [
       "(4830, 1)"
      ]
     },
     "execution_count": 15,
     "metadata": {},
     "output_type": "execute_result"
    }
   ],
   "source": [
    "df = df.drop(todrop_index, axis=0)\n",
    "df.shape"
   ]
  },
  {
   "cell_type": "code",
   "execution_count": 16,
   "id": "920f514b",
   "metadata": {
    "scrolled": false
   },
   "outputs": [
    {
     "data": {
      "text/html": [
       "<div>\n",
       "<style scoped>\n",
       "    .dataframe tbody tr th:only-of-type {\n",
       "        vertical-align: middle;\n",
       "    }\n",
       "\n",
       "    .dataframe tbody tr th {\n",
       "        vertical-align: top;\n",
       "    }\n",
       "\n",
       "    .dataframe thead th {\n",
       "        text-align: right;\n",
       "    }\n",
       "</style>\n",
       "<table border=\"1\" class=\"dataframe\">\n",
       "  <thead>\n",
       "    <tr style=\"text-align: right;\">\n",
       "      <th></th>\n",
       "      <th>0</th>\n",
       "    </tr>\n",
       "  </thead>\n",
       "  <tbody>\n",
       "    <tr>\n",
       "      <th>8564</th>\n",
       "      <td>What is up with these guys? Expedited package, received a tracking with delivery of May 28 before end of day, mail delivery dor June 3 is here and the package still not delivered!!!!Now tracking says do not know when delivery will happen, it shows it was received in my city days and days ago. That's it, I will no longer use this service, not worth the money, they do not deliver</td>\n",
       "    </tr>\n",
       "    <tr>\n",
       "      <th>643</th>\n",
       "      <td>What is going on at Canada Post? My package was processed at their factory in Kitchener on February 14th. Since then it gets delayed by a day and since yesterday it's been \"in transit\" for the last 24 hours. Now their terrible tracking system just says \"delayed\" with no date in sight. I get delays happen since my last 2 orders were late by 2 days but this is getting ridiculous. I'm guessing I won't get my package until February 21st since this Monday is a holiday.</td>\n",
       "    </tr>\n",
       "    <tr>\n",
       "      <th>15142</th>\n",
       "      <td>REALLY CANADA POST????\\nI sent a letter registered mail from Thunder Bay to Toronto - so it won't get lost (or hopefully not) on December 23rd and it says the expected delivery date is January 2nd?\\nI could probably walk with the letter to Toronto and get it there faster.</td>\n",
       "    </tr>\n",
       "  </tbody>\n",
       "</table>\n",
       "</div>"
      ],
      "text/plain": [
       "                                                                                                                                                                                                                                                                                                                                                                                                                                                                                          0\n",
       "8564                                                                                           What is up with these guys? Expedited package, received a tracking with delivery of May 28 before end of day, mail delivery dor June 3 is here and the package still not delivered!!!!Now tracking says do not know when delivery will happen, it shows it was received in my city days and days ago. That's it, I will no longer use this service, not worth the money, they do not deliver\n",
       "643    What is going on at Canada Post? My package was processed at their factory in Kitchener on February 14th. Since then it gets delayed by a day and since yesterday it's been \"in transit\" for the last 24 hours. Now their terrible tracking system just says \"delayed\" with no date in sight. I get delays happen since my last 2 orders were late by 2 days but this is getting ridiculous. I'm guessing I won't get my package until February 21st since this Monday is a holiday.\n",
       "15142                                                                                                                                                                                                      REALLY CANADA POST????\\nI sent a letter registered mail from Thunder Bay to Toronto - so it won't get lost (or hopefully not) on December 23rd and it says the expected delivery date is January 2nd?\\nI could probably walk with the letter to Toronto and get it there faster."
      ]
     },
     "execution_count": 16,
     "metadata": {},
     "output_type": "execute_result"
    }
   ],
   "source": [
    "df.sample(3)"
   ]
  },
  {
   "cell_type": "code",
   "execution_count": 17,
   "id": "9ca6f487",
   "metadata": {},
   "outputs": [
    {
     "data": {
      "text/plain": [
       "8"
      ]
     },
     "execution_count": 17,
     "metadata": {},
     "output_type": "execute_result"
    }
   ],
   "source": [
    "# Checking the number of duplicated comments\n",
    "df.duplicated().sum()"
   ]
  },
  {
   "cell_type": "code",
   "execution_count": 18,
   "id": "9e837d27",
   "metadata": {},
   "outputs": [
    {
     "data": {
      "text/plain": [
       "(4822, 1)"
      ]
     },
     "execution_count": 18,
     "metadata": {},
     "output_type": "execute_result"
    }
   ],
   "source": [
    "df = df.drop_duplicates()\n",
    "df.shape"
   ]
  },
  {
   "cell_type": "code",
   "execution_count": 19,
   "id": "df81cf27",
   "metadata": {},
   "outputs": [],
   "source": [
    "df.to_csv('reviews_trustpilot_clean.csv',index=False)"
   ]
  }
 ],
 "metadata": {
  "kernelspec": {
   "display_name": "Python 3 (ipykernel)",
   "language": "python",
   "name": "python3"
  },
  "language_info": {
   "codemirror_mode": {
    "name": "ipython",
    "version": 3
   },
   "file_extension": ".py",
   "mimetype": "text/x-python",
   "name": "python",
   "nbconvert_exporter": "python",
   "pygments_lexer": "ipython3",
   "version": "3.10.9"
  }
 },
 "nbformat": 4,
 "nbformat_minor": 5
}
