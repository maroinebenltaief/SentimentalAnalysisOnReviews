{
 "cells": [
  {
   "cell_type": "code",
   "execution_count": 1,
   "id": "29a1b9a0",
   "metadata": {},
   "outputs": [],
   "source": [
    "import pandas as pd\n",
    "import re\n",
    "import nltk\n",
    "from nltk.corpus import stopwords\n",
    "from nltk.sentiment import SentimentIntensityAnalyzer\n",
    "from sklearn.feature_extraction.text import TfidfVectorizer\n",
    "from sklearn.decomposition import LatentDirichletAllocation\n",
    "\n",
    "import seaborn as sns\n",
    "import matplotlib.pyplot as plt\n",
    "\n",
    "pd.set_option('display.max_colwidth', None)"
   ]
  },
  {
   "cell_type": "markdown",
   "id": "cb03f00d",
   "metadata": {},
   "source": [
    "### From google reviews:"
   ]
  },
  {
   "cell_type": "code",
   "execution_count": 2,
   "id": "86dd83fe",
   "metadata": {},
   "outputs": [
    {
     "data": {
      "text/html": [
       "<div>\n",
       "<style scoped>\n",
       "    .dataframe tbody tr th:only-of-type {\n",
       "        vertical-align: middle;\n",
       "    }\n",
       "\n",
       "    .dataframe tbody tr th {\n",
       "        vertical-align: top;\n",
       "    }\n",
       "\n",
       "    .dataframe thead th {\n",
       "        text-align: right;\n",
       "    }\n",
       "</style>\n",
       "<table border=\"1\" class=\"dataframe\">\n",
       "  <thead>\n",
       "    <tr style=\"text-align: right;\">\n",
       "      <th></th>\n",
       "      <th>Reviews</th>\n",
       "      <th>Source</th>\n",
       "    </tr>\n",
       "  </thead>\n",
       "  <tbody>\n",
       "    <tr>\n",
       "      <th>0</th>\n",
       "      <td>Great customer service, never had an issue here. Barbara is super helpful and I'm always confident my packages will be dispatched efficiently here. Thank you!</td>\n",
       "      <td>Google reviews</td>\n",
       "    </tr>\n",
       "    <tr>\n",
       "      <th>1</th>\n",
       "      <td>The woman that works there in the afternoons is rude and has an attitude if you ask for a receipt. I wish they’d replace her</td>\n",
       "      <td>Google reviews</td>\n",
       "    </tr>\n",
       "    <tr>\n",
       "      <th>2</th>\n",
       "      <td>Great service fast and the staff alway polite. Barbara thank you for your professionalism.</td>\n",
       "      <td>Google reviews</td>\n",
       "    </tr>\n",
       "  </tbody>\n",
       "</table>\n",
       "</div>"
      ],
      "text/plain": [
       "                                                                                                                                                          Reviews  \\\n",
       "0  Great customer service, never had an issue here. Barbara is super helpful and I'm always confident my packages will be dispatched efficiently here. Thank you!   \n",
       "1                                    The woman that works there in the afternoons is rude and has an attitude if you ask for a receipt. I wish they’d replace her   \n",
       "2                                                                      Great service fast and the staff alway polite. Barbara thank you for your professionalism.   \n",
       "\n",
       "           Source  \n",
       "0  Google reviews  \n",
       "1  Google reviews  \n",
       "2  Google reviews  "
      ]
     },
     "execution_count": 2,
     "metadata": {},
     "output_type": "execute_result"
    }
   ],
   "source": [
    "# Load the dataset\n",
    "df = pd.read_csv(\"CanadaPostGoogleReviews.csv\")\n",
    "df[\"Source\"] = \"Google reviews\"\n",
    "df = df[[\"Reviews\", \"Source\"]]\n",
    "df = df.dropna()\n",
    "df.head(3)"
   ]
  },
  {
   "cell_type": "code",
   "execution_count": 3,
   "id": "a8d169c9",
   "metadata": {},
   "outputs": [],
   "source": [
    "def preprocess_text(text):\n",
    "    if isinstance(text, str):\n",
    "        \n",
    "        text = text.lower() # Convert to lowercase       \n",
    "        text = re.sub(r'[^a-zA-Z\\s]', '', text) # Remove special characters and digits\n",
    "        \n",
    "    return text"
   ]
  },
  {
   "cell_type": "code",
   "execution_count": 4,
   "id": "c6abe492",
   "metadata": {},
   "outputs": [],
   "source": [
    "# Applying preprocessing to the 'Reviews' column\n",
    "df['Reviews'] = df['Reviews'].apply(preprocess_text)"
   ]
  },
  {
   "cell_type": "code",
   "execution_count": 5,
   "id": "6d3c147b",
   "metadata": {},
   "outputs": [],
   "source": [
    "# Sentiment analysis\n",
    "sia = SentimentIntensityAnalyzer()\n",
    "df['Sentiment'] = df['Reviews'].apply(lambda x: sia.polarity_scores(x)['compound'])"
   ]
  },
  {
   "cell_type": "code",
   "execution_count": 6,
   "id": "11ef6018",
   "metadata": {},
   "outputs": [],
   "source": [
    "# Applying TF-IDF vectorization\n",
    "stop_words = stopwords.words('english')\n",
    "vectorizer = TfidfVectorizer(stop_words=stop_words)\n",
    "tfidf_matrix = vectorizer.fit_transform(df['Reviews'])"
   ]
  },
  {
   "cell_type": "code",
   "execution_count": 7,
   "id": "6e1ed2d2",
   "metadata": {},
   "outputs": [],
   "source": [
    "# Performing topic modeling using LDA\n",
    "lda_model = LatentDirichletAllocation(n_components=3, random_state=42)\n",
    "lda_matrix = lda_model.fit_transform(tfidf_matrix)"
   ]
  },
  {
   "cell_type": "code",
   "execution_count": 8,
   "id": "c226b36c",
   "metadata": {},
   "outputs": [],
   "source": [
    "# Finding dominant topic for each review\n",
    "dominant_topic = lda_matrix.argmax(axis=1)\n",
    "df['Topic'] = dominant_topic"
   ]
  },
  {
   "cell_type": "code",
   "execution_count": 9,
   "id": "a808a28a",
   "metadata": {
    "scrolled": false
   },
   "outputs": [
    {
     "data": {
      "text/html": [
       "<div>\n",
       "<style scoped>\n",
       "    .dataframe tbody tr th:only-of-type {\n",
       "        vertical-align: middle;\n",
       "    }\n",
       "\n",
       "    .dataframe tbody tr th {\n",
       "        vertical-align: top;\n",
       "    }\n",
       "\n",
       "    .dataframe thead th {\n",
       "        text-align: right;\n",
       "    }\n",
       "</style>\n",
       "<table border=\"1\" class=\"dataframe\">\n",
       "  <thead>\n",
       "    <tr style=\"text-align: right;\">\n",
       "      <th></th>\n",
       "      <th>Reviews</th>\n",
       "      <th>Sentiment</th>\n",
       "    </tr>\n",
       "  </thead>\n",
       "  <tbody>\n",
       "    <tr>\n",
       "      <th>670</th>\n",
       "      <td>unfriendly and unhelpful staff</td>\n",
       "      <td>-0.3612</td>\n",
       "    </tr>\n",
       "    <tr>\n",
       "      <th>310</th>\n",
       "      <td>avoid this location the two male staff are very rude and not helpful do better canada post</td>\n",
       "      <td>-0.8493</td>\n",
       "    </tr>\n",
       "    <tr>\n",
       "      <th>655</th>\n",
       "      <td>very disappointed rude and insufficient staffs obviously very unhappy with their job and no idea about customer care i read similar reviews below and im surprised that nobody has taken any action to fix this issue yet wow</td>\n",
       "      <td>-0.4704</td>\n",
       "    </tr>\n",
       "  </tbody>\n",
       "</table>\n",
       "</div>"
      ],
      "text/plain": [
       "                                                                                                                                                                                                                           Reviews  \\\n",
       "670                                                                                                                                                                                                 unfriendly and unhelpful staff   \n",
       "310                                                                                                                                     avoid this location the two male staff are very rude and not helpful do better canada post   \n",
       "655  very disappointed rude and insufficient staffs obviously very unhappy with their job and no idea about customer care i read similar reviews below and im surprised that nobody has taken any action to fix this issue yet wow   \n",
       "\n",
       "     Sentiment  \n",
       "670    -0.3612  \n",
       "310    -0.8493  \n",
       "655    -0.4704  "
      ]
     },
     "execution_count": 9,
     "metadata": {},
     "output_type": "execute_result"
    }
   ],
   "source": [
    "# Complaint analysis\n",
    "negative_reviews = df[df['Sentiment'] < 0]\n",
    "complaints = negative_reviews[['Reviews','Sentiment']]\n",
    "complaints.sample(3)"
   ]
  },
  {
   "cell_type": "code",
   "execution_count": 10,
   "id": "8f0e35d7",
   "metadata": {},
   "outputs": [],
   "source": [
    "# Customer service analysis\n",
    "customer_service_reviews = df[df['Reviews'].str.contains('service', case=False)]\n",
    "\n",
    "# User experience analysis\n",
    "waiting_time_reviews = df[df['Reviews'].str.contains('wait', case=False)]\n",
    "convenience_reviews = df[df['Reviews'].str.contains('convenient', case=False)]\n",
    "damages_reviews = df[df['Reviews'].str.contains('damage', case=False)]"
   ]
  },
  {
   "cell_type": "code",
   "execution_count": 11,
   "id": "677dd14b",
   "metadata": {},
   "outputs": [
    {
     "data": {
      "text/html": [
       "<div>\n",
       "<style scoped>\n",
       "    .dataframe tbody tr th:only-of-type {\n",
       "        vertical-align: middle;\n",
       "    }\n",
       "\n",
       "    .dataframe tbody tr th {\n",
       "        vertical-align: top;\n",
       "    }\n",
       "\n",
       "    .dataframe thead th {\n",
       "        text-align: right;\n",
       "    }\n",
       "</style>\n",
       "<table border=\"1\" class=\"dataframe\">\n",
       "  <thead>\n",
       "    <tr style=\"text-align: right;\">\n",
       "      <th></th>\n",
       "      <th>Reviews</th>\n",
       "      <th>Source</th>\n",
       "      <th>Sentiment</th>\n",
       "      <th>Topic</th>\n",
       "    </tr>\n",
       "  </thead>\n",
       "  <tbody>\n",
       "    <tr>\n",
       "      <th>644</th>\n",
       "      <td>the service here is frankly terrible the staff are rude and show no interest in helping customers go to any other location if you can</td>\n",
       "      <td>Google reviews</td>\n",
       "      <td>-0.4767</td>\n",
       "      <td>0</td>\n",
       "    </tr>\n",
       "    <tr>\n",
       "      <th>1073</th>\n",
       "      <td>quick service and friendly service</td>\n",
       "      <td>Google reviews</td>\n",
       "      <td>0.4939</td>\n",
       "      <td>1</td>\n",
       "    </tr>\n",
       "    <tr>\n",
       "      <th>824</th>\n",
       "      <td>the filipino staffs there gave me attitude every time i ask any questions after my questions they looked at each other like what the heck this girl is asking before giving any explanation or answer if you are not willing to work in a customer service position you better not to be there</td>\n",
       "      <td>Google reviews</td>\n",
       "      <td>0.7783</td>\n",
       "      <td>1</td>\n",
       "    </tr>\n",
       "  </tbody>\n",
       "</table>\n",
       "</div>"
      ],
      "text/plain": [
       "                                                                                                                                                                                                                                                                                             Reviews  \\\n",
       "644                                                                                                                                                            the service here is frankly terrible the staff are rude and show no interest in helping customers go to any other location if you can   \n",
       "1073                                                                                                                                                                                                                                                              quick service and friendly service   \n",
       "824   the filipino staffs there gave me attitude every time i ask any questions after my questions they looked at each other like what the heck this girl is asking before giving any explanation or answer if you are not willing to work in a customer service position you better not to be there   \n",
       "\n",
       "              Source  Sentiment  Topic  \n",
       "644   Google reviews    -0.4767      0  \n",
       "1073  Google reviews     0.4939      1  \n",
       "824   Google reviews     0.7783      1  "
      ]
     },
     "execution_count": 11,
     "metadata": {},
     "output_type": "execute_result"
    }
   ],
   "source": [
    "customer_service_reviews.sample(3)"
   ]
  },
  {
   "cell_type": "code",
   "execution_count": 12,
   "id": "a9be8f5f",
   "metadata": {},
   "outputs": [
    {
     "data": {
      "text/html": [
       "<div>\n",
       "<style scoped>\n",
       "    .dataframe tbody tr th:only-of-type {\n",
       "        vertical-align: middle;\n",
       "    }\n",
       "\n",
       "    .dataframe tbody tr th {\n",
       "        vertical-align: top;\n",
       "    }\n",
       "\n",
       "    .dataframe thead th {\n",
       "        text-align: right;\n",
       "    }\n",
       "</style>\n",
       "<table border=\"1\" class=\"dataframe\">\n",
       "  <thead>\n",
       "    <tr style=\"text-align: right;\">\n",
       "      <th></th>\n",
       "      <th>Reviews</th>\n",
       "      <th>Source</th>\n",
       "      <th>Sentiment</th>\n",
       "      <th>Topic</th>\n",
       "    </tr>\n",
       "  </thead>\n",
       "  <tbody>\n",
       "    <tr>\n",
       "      <th>663</th>\n",
       "      <td>they closed half an hour earlier than they were supposed to while i was waiting at the door</td>\n",
       "      <td>Google reviews</td>\n",
       "      <td>0.0000</td>\n",
       "      <td>0</td>\n",
       "    </tr>\n",
       "    <tr>\n",
       "      <th>967</th>\n",
       "      <td>have come here to pick up and send off packages for the last  years never had to wait more than  minutes in line always treated in a professional manner have always been offered tracking and whatever addons to sending out packages but ive always declined with ease</td>\n",
       "      <td>Google reviews</td>\n",
       "      <td>0.5023</td>\n",
       "      <td>1</td>\n",
       "    </tr>\n",
       "    <tr>\n",
       "      <th>383</th>\n",
       "      <td>the reason why i order online less and less ive waited an hour to simply pick up a package countless times the audacity cp has in having one staff member at peak hours while the line snakes out the store is just amazing the height of incompetence</td>\n",
       "      <td>Google reviews</td>\n",
       "      <td>0.1280</td>\n",
       "      <td>1</td>\n",
       "    </tr>\n",
       "  </tbody>\n",
       "</table>\n",
       "</div>"
      ],
      "text/plain": [
       "                                                                                                                                                                                                                                                                      Reviews  \\\n",
       "663                                                                                                                                                                               they closed half an hour earlier than they were supposed to while i was waiting at the door   \n",
       "967  have come here to pick up and send off packages for the last  years never had to wait more than  minutes in line always treated in a professional manner have always been offered tracking and whatever addons to sending out packages but ive always declined with ease   \n",
       "383                    the reason why i order online less and less ive waited an hour to simply pick up a package countless times the audacity cp has in having one staff member at peak hours while the line snakes out the store is just amazing the height of incompetence   \n",
       "\n",
       "             Source  Sentiment  Topic  \n",
       "663  Google reviews     0.0000      0  \n",
       "967  Google reviews     0.5023      1  \n",
       "383  Google reviews     0.1280      1  "
      ]
     },
     "execution_count": 12,
     "metadata": {},
     "output_type": "execute_result"
    }
   ],
   "source": [
    "waiting_time_reviews.sample(3)"
   ]
  },
  {
   "cell_type": "code",
   "execution_count": 13,
   "id": "6549934e",
   "metadata": {},
   "outputs": [
    {
     "data": {
      "text/html": [
       "<div>\n",
       "<style scoped>\n",
       "    .dataframe tbody tr th:only-of-type {\n",
       "        vertical-align: middle;\n",
       "    }\n",
       "\n",
       "    .dataframe tbody tr th {\n",
       "        vertical-align: top;\n",
       "    }\n",
       "\n",
       "    .dataframe thead th {\n",
       "        text-align: right;\n",
       "    }\n",
       "</style>\n",
       "<table border=\"1\" class=\"dataframe\">\n",
       "  <thead>\n",
       "    <tr style=\"text-align: right;\">\n",
       "      <th></th>\n",
       "      <th>Reviews</th>\n",
       "      <th>Source</th>\n",
       "      <th>Sentiment</th>\n",
       "      <th>Topic</th>\n",
       "    </tr>\n",
       "  </thead>\n",
       "  <tbody>\n",
       "    <tr>\n",
       "      <th>52</th>\n",
       "      <td>good experience overall the location is quite convenient too</td>\n",
       "      <td>Google reviews</td>\n",
       "      <td>0.4404</td>\n",
       "      <td>1</td>\n",
       "    </tr>\n",
       "    <tr>\n",
       "      <th>914</th>\n",
       "      <td>we have been going to this post office for a while now yeah its small but if you need to pick up a package send a money gram transfer or ship something they got you the hours staying open until pm makes it convenient when having to go after work the staff have been helpful and friendly</td>\n",
       "      <td>Google reviews</td>\n",
       "      <td>0.8625</td>\n",
       "      <td>1</td>\n",
       "    </tr>\n",
       "    <tr>\n",
       "      <th>623</th>\n",
       "      <td>this canada post location is located conveniently in the first canadian place i frequent this location often as its right by my workplace</td>\n",
       "      <td>Google reviews</td>\n",
       "      <td>0.0000</td>\n",
       "      <td>1</td>\n",
       "    </tr>\n",
       "  </tbody>\n",
       "</table>\n",
       "</div>"
      ],
      "text/plain": [
       "                                                                                                                                                                                                                                                                                            Reviews  \\\n",
       "52                                                                                                                                                                                                                                     good experience overall the location is quite convenient too   \n",
       "914  we have been going to this post office for a while now yeah its small but if you need to pick up a package send a money gram transfer or ship something they got you the hours staying open until pm makes it convenient when having to go after work the staff have been helpful and friendly   \n",
       "623                                                                                                                                                      this canada post location is located conveniently in the first canadian place i frequent this location often as its right by my workplace    \n",
       "\n",
       "             Source  Sentiment  Topic  \n",
       "52   Google reviews     0.4404      1  \n",
       "914  Google reviews     0.8625      1  \n",
       "623  Google reviews     0.0000      1  "
      ]
     },
     "execution_count": 13,
     "metadata": {},
     "output_type": "execute_result"
    }
   ],
   "source": [
    "convenience_reviews.sample(3)"
   ]
  },
  {
   "cell_type": "code",
   "execution_count": 14,
   "id": "ea7f9a42",
   "metadata": {
    "scrolled": true
   },
   "outputs": [
    {
     "name": "stdout",
     "output_type": "stream",
     "text": [
      "Overall Sentiment:  0.0410\n",
      "Complaints: -0.5581\n",
      "Customer Service Reviews: -0.0246\n",
      "Waiting Time Reviews:  0.0498\n",
      "Convenience Reviews:  0.4655\n",
      "Damages Reviews:  nan\n"
     ]
    }
   ],
   "source": [
    "avg_overall_sent     = df['Sentiment'].mean()\n",
    "avg_complaint_sent   = complaints['Sentiment'].mean()\n",
    "avg_customer_sent    = customer_service_reviews['Sentiment'].mean()\n",
    "avg_wait_sent        =  waiting_time_reviews['Sentiment'].mean()\n",
    "avg_convenience_sent = convenience_reviews['Sentiment'].mean()\n",
    "avg_damage_sent      = damages_reviews['Sentiment'].mean()\n",
    "\n",
    "# Output\n",
    "print(f\"Overall Sentiment: { avg_overall_sent : .4f}\")\n",
    "print(f\"Complaints: { avg_complaint_sent : .4f}\")\n",
    "print(f\"Customer Service Reviews: { avg_customer_sent : .4f}\")\n",
    "print(f\"Waiting Time Reviews: { avg_wait_sent : .4f}\")\n",
    "print(f\"Convenience Reviews: { avg_convenience_sent : .4f}\")\n",
    "print(f\"Damages Reviews: { avg_damage_sent : .4f}\")"
   ]
  },
  {
   "cell_type": "code",
   "execution_count": 15,
   "id": "cee5c210",
   "metadata": {},
   "outputs": [
    {
     "data": {
      "image/png": "[encoded data removed]",
      "text/plain": [
       "<Figure size 500x400 with 1 Axes>"
      ]
     },
     "metadata": {},
     "output_type": "display_data"
    }
   ],
   "source": [
    "labels = ['Overall', \n",
    "          'Complaints', \n",
    "          'Customer Service',\n",
    "          'Waiting Time',\n",
    "          'Convenience',\n",
    "          'Damages' \n",
    "         ]\n",
    "\n",
    "data =  [avg_overall_sent, \n",
    "         avg_complaint_sent, \n",
    "         avg_customer_sent,\n",
    "         avg_wait_sent,\n",
    "         avg_convenience_sent,\n",
    "         avg_damage_sent\n",
    "         ]\n",
    "\n",
    "plt.figure(figsize = (5, 4))\n",
    "\n",
    "sns.barplot(x=labels, y=data)\n",
    "plt.ylabel('Sentiment')\n",
    "plt.title('Sentiment by topic - Canada Post in Google')\n",
    "plt.xticks(rotation=45)\n",
    "plt.grid(axis='y', linestyle='--', alpha=0.6)\n",
    "\n",
    "plt.show()"
   ]
  },
  {
   "cell_type": "code",
   "execution_count": 16,
   "id": "fa24aa6a",
   "metadata": {
    "scrolled": false
   },
   "outputs": [
    {
     "name": "stdout",
     "output_type": "stream",
     "text": [
      "Percentage of positive reviews:  45.72%\n",
      "Percentage of neutral reviews:  9.74%\n",
      "Percentage of negative reviews:  44.54%\n"
     ]
    }
   ],
   "source": [
    "percentage_positive_rev = df[df['Sentiment'] > 0].shape[0] / df.shape[0] * 100\n",
    "percentage_neutral_rev = df[df['Sentiment'] == 0].shape[0] / df.shape[0] * 100\n",
    "percentage_negative_rev = df[df['Sentiment'] < 0].shape[0] / df.shape[0] * 100\n",
    "\n",
    "print(f\"Percentage of positive reviews: {percentage_positive_rev : .2f}%\")\n",
    "print(f\"Percentage of neutral reviews: {percentage_neutral_rev : .2f}%\")\n",
    "print(f\"Percentage of negative reviews: {percentage_negative_rev : .2f}%\")"
   ]
  },
  {
   "cell_type": "code",
   "execution_count": 17,
   "id": "bfd57a54",
   "metadata": {},
   "outputs": [
    {
     "data": {
      "image/png": "[encoded data removed]",
      "text/plain": [
       "<Figure size 400x300 with 1 Axes>"
      ]
     },
     "metadata": {},
     "output_type": "display_data"
    }
   ],
   "source": [
    "labels = ['Positive Revs', 'Neutral Rev', 'Negative Rev']\n",
    "\n",
    "data = [percentage_positive_rev, \n",
    "        percentage_neutral_rev, \n",
    "        percentage_negative_rev]\n",
    "\n",
    "plt.figure(figsize = (4, 3))\n",
    "\n",
    "sns.barplot(x=labels, y=data)\n",
    "plt.ylabel('Percentage')\n",
    "plt.title('Sentiment - Canada Post in Google')\n",
    "plt.show()"
   ]
  },
  {
   "cell_type": "code",
   "execution_count": 18,
   "id": "4e5ebff8",
   "metadata": {},
   "outputs": [
    {
     "data": {
      "text/html": [
       "<div>\n",
       "<style scoped>\n",
       "    .dataframe tbody tr th:only-of-type {\n",
       "        vertical-align: middle;\n",
       "    }\n",
       "\n",
       "    .dataframe tbody tr th {\n",
       "        vertical-align: top;\n",
       "    }\n",
       "\n",
       "    .dataframe thead th {\n",
       "        text-align: right;\n",
       "    }\n",
       "</style>\n",
       "<table border=\"1\" class=\"dataframe\">\n",
       "  <thead>\n",
       "    <tr style=\"text-align: right;\">\n",
       "      <th></th>\n",
       "      <th>Reviews</th>\n",
       "      <th>Source</th>\n",
       "      <th>Sentiment</th>\n",
       "      <th>Topic</th>\n",
       "    </tr>\n",
       "  </thead>\n",
       "  <tbody>\n",
       "    <tr>\n",
       "      <th>566</th>\n",
       "      <td>havent been to a post office in some time to buy stamps thought it would be slow at pm on a monday but i was pleasantly surprised a cheery staff person teresita greeted me and recommended that i buy the booklet of  stamps with the cardinals on them the cardinal stamps are pretty cute</td>\n",
       "      <td>Google reviews</td>\n",
       "      <td>0.9765</td>\n",
       "      <td>0</td>\n",
       "    </tr>\n",
       "    <tr>\n",
       "      <th>580</th>\n",
       "      <td>its not often you get great service when theres a huge line at any business the male clerk with the buzzed hair and glasses was super friendly quick efficient and thorough i go to canada post often between three downtown locations and this was probably the best and most pleasant experience</td>\n",
       "      <td>Google reviews</td>\n",
       "      <td>0.9753</td>\n",
       "      <td>1</td>\n",
       "    </tr>\n",
       "    <tr>\n",
       "      <th>276</th>\n",
       "      <td>best canada post ive been to so far in the region service is excellent and most importantly staff is so nice helpful and always smiling this has became my postal office of choice i highly recommend going there for your postal services</td>\n",
       "      <td>Google reviews</td>\n",
       "      <td>0.9719</td>\n",
       "      <td>1</td>\n",
       "    </tr>\n",
       "  </tbody>\n",
       "</table>\n",
       "</div>"
      ],
      "text/plain": [
       "                                                                                                                                                                                                                                                                                                Reviews  \\\n",
       "566        havent been to a post office in some time to buy stamps thought it would be slow at pm on a monday but i was pleasantly surprised a cheery staff person teresita greeted me and recommended that i buy the booklet of  stamps with the cardinals on them the cardinal stamps are pretty cute   \n",
       "580  its not often you get great service when theres a huge line at any business the male clerk with the buzzed hair and glasses was super friendly quick efficient and thorough i go to canada post often between three downtown locations and this was probably the best and most pleasant experience   \n",
       "276                                                          best canada post ive been to so far in the region service is excellent and most importantly staff is so nice helpful and always smiling this has became my postal office of choice i highly recommend going there for your postal services   \n",
       "\n",
       "             Source  Sentiment  Topic  \n",
       "566  Google reviews     0.9765      0  \n",
       "580  Google reviews     0.9753      1  \n",
       "276  Google reviews     0.9719      1  "
      ]
     },
     "execution_count": 18,
     "metadata": {},
     "output_type": "execute_result"
    }
   ],
   "source": [
    "# Top 3 best reviews\n",
    "df.sort_values(by = 'Sentiment', ascending = False).head(3)"
   ]
  },
  {
   "cell_type": "code",
   "execution_count": 19,
   "id": "17dc1a0b",
   "metadata": {},
   "outputs": [
    {
     "data": {
      "text/html": [
       "<div>\n",
       "<style scoped>\n",
       "    .dataframe tbody tr th:only-of-type {\n",
       "        vertical-align: middle;\n",
       "    }\n",
       "\n",
       "    .dataframe tbody tr th {\n",
       "        vertical-align: top;\n",
       "    }\n",
       "\n",
       "    .dataframe thead th {\n",
       "        text-align: right;\n",
       "    }\n",
       "</style>\n",
       "<table border=\"1\" class=\"dataframe\">\n",
       "  <thead>\n",
       "    <tr style=\"text-align: right;\">\n",
       "      <th></th>\n",
       "      <th>Reviews</th>\n",
       "      <th>Source</th>\n",
       "      <th>Sentiment</th>\n",
       "      <th>Topic</th>\n",
       "    </tr>\n",
       "  </thead>\n",
       "  <tbody>\n",
       "    <tr>\n",
       "      <th>415</th>\n",
       "      <td>workers and customers here are angry miserable and they all look suicidal maybe cause the poor area avoid if you cankeep driving</td>\n",
       "      <td>Google reviews</td>\n",
       "      <td>-0.9460</td>\n",
       "      <td>0</td>\n",
       "    </tr>\n",
       "    <tr>\n",
       "      <th>303</th>\n",
       "      <td>rude staff the man in there was so rude and meanful person bad behavior and he threw my box on table and at the back he was saing bad words   i didnt see like this before   i was shocked</td>\n",
       "      <td>Google reviews</td>\n",
       "      <td>-0.9469</td>\n",
       "      <td>0</td>\n",
       "    </tr>\n",
       "    <tr>\n",
       "      <th>511</th>\n",
       "      <td>there is one man in particular who works here who is incredibly rude i was shocked to overhear him literally yell at a customer who wanted to check her po box just disgusting behaviour avoid this place if possible every time i have gone through this location this man is just a terror</td>\n",
       "      <td>Google reviews</td>\n",
       "      <td>-0.9549</td>\n",
       "      <td>1</td>\n",
       "    </tr>\n",
       "  </tbody>\n",
       "</table>\n",
       "</div>"
      ],
      "text/plain": [
       "                                                                                                                                                                                                                                                                                          Reviews  \\\n",
       "415                                                                                                                                                              workers and customers here are angry miserable and they all look suicidal maybe cause the poor area avoid if you cankeep driving   \n",
       "303                                                                                                    rude staff the man in there was so rude and meanful person bad behavior and he threw my box on table and at the back he was saing bad words   i didnt see like this before   i was shocked   \n",
       "511  there is one man in particular who works here who is incredibly rude i was shocked to overhear him literally yell at a customer who wanted to check her po box just disgusting behaviour avoid this place if possible every time i have gone through this location this man is just a terror   \n",
       "\n",
       "             Source  Sentiment  Topic  \n",
       "415  Google reviews    -0.9460      0  \n",
       "303  Google reviews    -0.9469      0  \n",
       "511  Google reviews    -0.9549      1  "
      ]
     },
     "execution_count": 19,
     "metadata": {},
     "output_type": "execute_result"
    }
   ],
   "source": [
    "# Top 3 worst reviews\n",
    "df.sort_values(by = 'Sentiment', ascending = False).tail(3)"
   ]
  },
  {
   "cell_type": "code",
   "execution_count": 20,
   "id": "b3f1af68",
   "metadata": {},
   "outputs": [],
   "source": [
    "df_google = df"
   ]
  },
  {
   "cell_type": "markdown",
   "id": "ac61636a",
   "metadata": {},
   "source": [
    "### From Trustpilot:"
   ]
  },
  {
   "cell_type": "code",
   "execution_count": 21,
   "id": "758baa55",
   "metadata": {},
   "outputs": [
    {
     "data": {
      "text/html": [
       "<div>\n",
       "<style scoped>\n",
       "    .dataframe tbody tr th:only-of-type {\n",
       "        vertical-align: middle;\n",
       "    }\n",
       "\n",
       "    .dataframe tbody tr th {\n",
       "        vertical-align: top;\n",
       "    }\n",
       "\n",
       "    .dataframe thead th {\n",
       "        text-align: right;\n",
       "    }\n",
       "</style>\n",
       "<table border=\"1\" class=\"dataframe\">\n",
       "  <thead>\n",
       "    <tr style=\"text-align: right;\">\n",
       "      <th></th>\n",
       "      <th>Reviews</th>\n",
       "      <th>Source</th>\n",
       "    </tr>\n",
       "  </thead>\n",
       "  <tbody>\n",
       "    <tr>\n",
       "      <th>3164</th>\n",
       "      <td>If I could give 0 stars I would.\\n\\nThese clowns are the worst of the worst. Parcels late or in bad condition.\\n\\nJust placed an order over the weekend from Amazon and they chose Canada Post!! of course it never arrived on the guaranteed date and now apparently stuck/misplaced at the depot.\\n\\nClowns....typical government run crap service.</td>\n",
       "      <td>Trustpilot</td>\n",
       "    </tr>\n",
       "    <tr>\n",
       "      <th>1238</th>\n",
       "      <td>I f i could gve a ZERO i would- paid $90 for express delivery to UK for a small package. got stopped along the way. been trying to find out what is the hold up. no one can tell me . their customer service center is useless- they cant ick u the phone and call someone to check this out? 3 weeks later - no sign of anything. they have the nerve to transfer me to the purolator office to figure it out myself? oh forgot to mention when i raised a service ticket , their system message said they would get back to me 3 months after i sent my package - 3 months!! (remember that i had sent the package rush for a 2 day delivery!!!??) . so when i called to check this out , they told me 2 weeks you would get some info. well its been 3 weeks and i am yet to receive anything. Typical governmental organization- no ownership of anything and its always someone else's fault</td>\n",
       "      <td>Trustpilot</td>\n",
       "    </tr>\n",
       "    <tr>\n",
       "      <th>3887</th>\n",
       "      <td>Canada Post has become a real pain in the .....! i paid to receive my order in 48h! MONDAY!!!!!!!! it's even written on their site that my order is due for today!!! STILL WAITING!!!!!!! 🤬🤬🤬🤬🤬🤬🤬🤬</td>\n",
       "      <td>Trustpilot</td>\n",
       "    </tr>\n",
       "  </tbody>\n",
       "</table>\n",
       "</div>"
      ],
      "text/plain": [
       "                                                                                                                                                                                                                                                                                                                                                                                                                                                                                                                                                                                                                                                                                                                                                                                                                                                                                                Reviews  \\\n",
       "3164                                                                                                                                                                                                                                                                                                                                                                                                                                                                                                                                              If I could give 0 stars I would.\\n\\nThese clowns are the worst of the worst. Parcels late or in bad condition.\\n\\nJust placed an order over the weekend from Amazon and they chose Canada Post!! of course it never arrived on the guaranteed date and now apparently stuck/misplaced at the depot.\\n\\nClowns....typical government run crap service.   \n",
       "1238  I f i could gve a ZERO i would- paid $90 for express delivery to UK for a small package. got stopped along the way. been trying to find out what is the hold up. no one can tell me . their customer service center is useless- they cant ick u the phone and call someone to check this out? 3 weeks later - no sign of anything. they have the nerve to transfer me to the purolator office to figure it out myself? oh forgot to mention when i raised a service ticket , their system message said they would get back to me 3 months after i sent my package - 3 months!! (remember that i had sent the package rush for a 2 day delivery!!!??) . so when i called to check this out , they told me 2 weeks you would get some info. well its been 3 weeks and i am yet to receive anything. Typical governmental organization- no ownership of anything and its always someone else's fault   \n",
       "3887                                                                                                                                                                                                                                                                                                                                                                                                                                                                                                                                                                                                                                                                                                 Canada Post has become a real pain in the .....! i paid to receive my order in 48h! MONDAY!!!!!!!! it's even written on their site that my order is due for today!!! STILL WAITING!!!!!!! 🤬🤬🤬🤬🤬🤬🤬🤬   \n",
       "\n",
       "          Source  \n",
       "3164  Trustpilot  \n",
       "1238  Trustpilot  \n",
       "3887  Trustpilot  "
      ]
     },
     "execution_count": 21,
     "metadata": {},
     "output_type": "execute_result"
    }
   ],
   "source": [
    "# Load the dataset\n",
    "df = pd.read_csv(\"reviews_trustpilot_Canada_Post_clean.csv\")\n",
    "df[\"Source\"] = \"Trustpilot\"\n",
    "df.rename(columns = {'0':'Reviews'}, inplace = True)\n",
    "df = df.dropna()\n",
    "\n",
    "df.sample(3)"
   ]
  },
  {
   "cell_type": "code",
   "execution_count": 22,
   "id": "fea95819",
   "metadata": {},
   "outputs": [
    {
     "data": {
      "text/html": [
       "<div>\n",
       "<style scoped>\n",
       "    .dataframe tbody tr th:only-of-type {\n",
       "        vertical-align: middle;\n",
       "    }\n",
       "\n",
       "    .dataframe tbody tr th {\n",
       "        vertical-align: top;\n",
       "    }\n",
       "\n",
       "    .dataframe thead th {\n",
       "        text-align: right;\n",
       "    }\n",
       "</style>\n",
       "<table border=\"1\" class=\"dataframe\">\n",
       "  <thead>\n",
       "    <tr style=\"text-align: right;\">\n",
       "      <th></th>\n",
       "      <th>Reviews</th>\n",
       "      <th>Source</th>\n",
       "      <th>Sentiment</th>\n",
       "      <th>Topic</th>\n",
       "    </tr>\n",
       "  </thead>\n",
       "  <tbody>\n",
       "    <tr>\n",
       "      <th>3189</th>\n",
       "      <td>i had some personal items mailed and paid extra to have them rushed it was supposed to take  days before i knew it it had been  weeks and my parcel had not arrived turns out they lost it after almost a month and a half they finally found my parcel and just mailed it back to the return address what a joke of a service now im afraid to mail anything in the fear they will lose it</td>\n",
       "      <td>Trustpilot</td>\n",
       "      <td>-0.7184</td>\n",
       "      <td>1</td>\n",
       "    </tr>\n",
       "    <tr>\n",
       "      <th>1476</th>\n",
       "      <td>a piece of sh service never be on time and always says  slightly delay is  or  days delay slightly\\nthey fool the customer hopefully it shut down soon completely</td>\n",
       "      <td>Trustpilot</td>\n",
       "      <td>-0.4471</td>\n",
       "      <td>1</td>\n",
       "    </tr>\n",
       "    <tr>\n",
       "      <th>3393</th>\n",
       "      <td>always delayed from what they say expected delivery  whenever i see something being posted by canada post i get upset as they are never on time  and usually not according to tracking information</td>\n",
       "      <td>Trustpilot</td>\n",
       "      <td>-0.5423</td>\n",
       "      <td>1</td>\n",
       "    </tr>\n",
       "  </tbody>\n",
       "</table>\n",
       "</div>"
      ],
      "text/plain": [
       "                                                                                                                                                                                                                                                                                                                                                                                          Reviews  \\\n",
       "3189  i had some personal items mailed and paid extra to have them rushed it was supposed to take  days before i knew it it had been  weeks and my parcel had not arrived turns out they lost it after almost a month and a half they finally found my parcel and just mailed it back to the return address what a joke of a service now im afraid to mail anything in the fear they will lose it   \n",
       "1476                                                                                                                                                                                                                            a piece of sh service never be on time and always says  slightly delay is  or  days delay slightly\\nthey fool the customer hopefully it shut down soon completely   \n",
       "3393                                                                                                                                                                                          always delayed from what they say expected delivery  whenever i see something being posted by canada post i get upset as they are never on time  and usually not according to tracking information    \n",
       "\n",
       "          Source  Sentiment  Topic  \n",
       "3189  Trustpilot    -0.7184      1  \n",
       "1476  Trustpilot    -0.4471      1  \n",
       "3393  Trustpilot    -0.5423      1  "
      ]
     },
     "execution_count": 22,
     "metadata": {},
     "output_type": "execute_result"
    }
   ],
   "source": [
    "# Applying preprocessing to the 'Reviews' column\n",
    "df['Reviews'] = df['Reviews'].apply(preprocess_text)\n",
    "\n",
    "# Sentiment analysis\n",
    "sia = SentimentIntensityAnalyzer()\n",
    "df['Sentiment'] = df['Reviews'].apply(lambda x: sia.polarity_scores(x)['compound'])\n",
    "\n",
    "# Applying TF-IDF vectorization\n",
    "stop_words = stopwords.words('english')\n",
    "vectorizer = TfidfVectorizer(stop_words=stop_words)\n",
    "tfidf_matrix = vectorizer.fit_transform(df['Reviews'])\n",
    "\n",
    "# Performing topic modeling using LDA\n",
    "lda_model = LatentDirichletAllocation(n_components=3, random_state=42)\n",
    "lda_matrix = lda_model.fit_transform(tfidf_matrix)\n",
    "\n",
    "# Finding dominant topic for each review\n",
    "dominant_topic = lda_matrix.argmax(axis=1)\n",
    "df['Topic'] = dominant_topic\n",
    "\n",
    "df.sample(3)"
   ]
  },
  {
   "cell_type": "code",
   "execution_count": 23,
   "id": "9e8ac743",
   "metadata": {
    "scrolled": true
   },
   "outputs": [
    {
     "data": {
      "text/html": [
       "<div>\n",
       "<style scoped>\n",
       "    .dataframe tbody tr th:only-of-type {\n",
       "        vertical-align: middle;\n",
       "    }\n",
       "\n",
       "    .dataframe tbody tr th {\n",
       "        vertical-align: top;\n",
       "    }\n",
       "\n",
       "    .dataframe thead th {\n",
       "        text-align: right;\n",
       "    }\n",
       "</style>\n",
       "<table border=\"1\" class=\"dataframe\">\n",
       "  <thead>\n",
       "    <tr style=\"text-align: right;\">\n",
       "      <th></th>\n",
       "      <th>Reviews</th>\n",
       "      <th>Sentiment</th>\n",
       "    </tr>\n",
       "  </thead>\n",
       "  <tbody>\n",
       "    <tr>\n",
       "      <th>1121</th>\n",
       "      <td>ordered rc parts express post yeah right no guarantee with covid forgot my unit number phoned cp undated it contacted cp today they said could take up to a week to get my  lb package i can see the post office out my front window as i type this i work for a shipping company if i took a week to deliver a package less than a block id get fired companys get discounted rates when using one shipping company what your paying their are making  off it when ever possible i avoid canada post is it owned by the government this would explain alot</td>\n",
       "      <td>-0.8984</td>\n",
       "    </tr>\n",
       "    <tr>\n",
       "      <th>1320</th>\n",
       "      <td>canada post is an embarrassment i ordered very expensive item they picked it up on feb nd and was supposed to reach me on feb th and guess what it is now march  and they still have no info on where it is this is canada post for crying out loudso the sender opened a ticket on it and decided to send me the item by ups she had it picked up at pm on thursday february thfrom bellville ontario and it arrived february th at am near calgary alberta thats incredible but yet canada post has no idea what happened to my package bs also the item is  pounds and xx not small at all so its not like it got misplacedthere answer from the manager was sorry there is nothing i can do this is very disgusting business practicecanada post is not reliable and in my opinion not worth using anymore</td>\n",
       "      <td>-0.9509</td>\n",
       "    </tr>\n",
       "    <tr>\n",
       "      <th>2454</th>\n",
       "      <td>last friday june th i ordered some lug nuts from miami florida and a cell phone case from montreal quebec\\n\\ni am near ottawa ontario lug nuts arrived from the states via fed ex this past wednesday june \\n\\nthe cell phone case to be delivered by canada post and a mere two hours away from my residence is still  in transit</td>\n",
       "      <td>-0.5574</td>\n",
       "    </tr>\n",
       "  </tbody>\n",
       "</table>\n",
       "</div>"
      ],
      "text/plain": [
       "                                                                                                                                                                                                                                                                                                                                                                                                                                                                                                                                                                                                                                                                                                                                                                                                             Reviews  \\\n",
       "1121                                                                                                                                                                                                                                                     ordered rc parts express post yeah right no guarantee with covid forgot my unit number phoned cp undated it contacted cp today they said could take up to a week to get my  lb package i can see the post office out my front window as i type this i work for a shipping company if i took a week to deliver a package less than a block id get fired companys get discounted rates when using one shipping company what your paying their are making  off it when ever possible i avoid canada post is it owned by the government this would explain alot   \n",
       "1320  canada post is an embarrassment i ordered very expensive item they picked it up on feb nd and was supposed to reach me on feb th and guess what it is now march  and they still have no info on where it is this is canada post for crying out loudso the sender opened a ticket on it and decided to send me the item by ups she had it picked up at pm on thursday february thfrom bellville ontario and it arrived february th at am near calgary alberta thats incredible but yet canada post has no idea what happened to my package bs also the item is  pounds and xx not small at all so its not like it got misplacedthere answer from the manager was sorry there is nothing i can do this is very disgusting business practicecanada post is not reliable and in my opinion not worth using anymore   \n",
       "2454                                                                                                                                                                                                                                                                                                                                                                                                                                                                              last friday june th i ordered some lug nuts from miami florida and a cell phone case from montreal quebec\\n\\ni am near ottawa ontario lug nuts arrived from the states via fed ex this past wednesday june \\n\\nthe cell phone case to be delivered by canada post and a mere two hours away from my residence is still  in transit   \n",
       "\n",
       "      Sentiment  \n",
       "1121    -0.8984  \n",
       "1320    -0.9509  \n",
       "2454    -0.5574  "
      ]
     },
     "execution_count": 23,
     "metadata": {},
     "output_type": "execute_result"
    }
   ],
   "source": [
    "# Complaint analysis\n",
    "negative_reviews = df[df['Sentiment'] < 0]\n",
    "complaints = negative_reviews[['Reviews','Sentiment']]\n",
    "\n",
    "complaints.sample(3)"
   ]
  },
  {
   "cell_type": "code",
   "execution_count": 24,
   "id": "34d67c08",
   "metadata": {},
   "outputs": [
    {
     "data": {
      "text/html": [
       "<div>\n",
       "<style scoped>\n",
       "    .dataframe tbody tr th:only-of-type {\n",
       "        vertical-align: middle;\n",
       "    }\n",
       "\n",
       "    .dataframe tbody tr th {\n",
       "        vertical-align: top;\n",
       "    }\n",
       "\n",
       "    .dataframe thead th {\n",
       "        text-align: right;\n",
       "    }\n",
       "</style>\n",
       "<table border=\"1\" class=\"dataframe\">\n",
       "  <thead>\n",
       "    <tr style=\"text-align: right;\">\n",
       "      <th></th>\n",
       "      <th>Reviews</th>\n",
       "      <th>Source</th>\n",
       "      <th>Sentiment</th>\n",
       "      <th>Topic</th>\n",
       "    </tr>\n",
       "  </thead>\n",
       "  <tbody>\n",
       "    <tr>\n",
       "      <th>3476</th>\n",
       "      <td>very bad delivery service\\ni live in maple\\nall time my packages and mail recieving for another persons becouse responsibility from canada post person put him to wrong mailbox</td>\n",
       "      <td>Trustpilot</td>\n",
       "      <td>-0.7841</td>\n",
       "      <td>1</td>\n",
       "    </tr>\n",
       "    <tr>\n",
       "      <th>1310</th>\n",
       "      <td>why do businesses continue to do business with cp is beyond me it has been the worst postal delivery service for decades package delivery take an iternity to arrive no accountability outclassed by all their competitors i patiently waited a week and a half for my package a new mobile phone being sent within my city not an international or provincial shipment check my tracking number verifying recipient address from the day tracking was availablea week ago ok i didnt get a call neither did my mobile company so i call oh yes sir your package is with us can you verify your address now now were clarifying two days later still no change to tracking info i call again oh yeah i see you spoke to someone im going to place a note it should ship next week utter garbage service and company</td>\n",
       "      <td>Trustpilot</td>\n",
       "      <td>-0.2111</td>\n",
       "      <td>1</td>\n",
       "    </tr>\n",
       "    <tr>\n",
       "      <th>508</th>\n",
       "      <td>wow i was forced to give one star to complete the review but they deserve zero canada post is masterful at dropping the ball many times i have noticed my tracking info has been doctored after an update has been made changing it to look like they are still on time i regularly place an order for items from a business in bc and am just blown away at the inconsistency of the delivery times to my home in sk they often love to sit on my orders when they arrive wed or thurs after a monday order only to have me wait until the following monday their virtual assistant is useless they have the nerve to post on their website they are working hard to stay safe blah blah news flash the rest of the world went back to normal service a year ago i would recommend if at all possible use another service</td>\n",
       "      <td>Trustpilot</td>\n",
       "      <td>0.9011</td>\n",
       "      <td>1</td>\n",
       "    </tr>\n",
       "  </tbody>\n",
       "</table>\n",
       "</div>"
      ],
      "text/plain": [
       "                                                                                                                                                                                                                                                                                                                                                                                                                                                                                                                                                                                                                                                                                                                                                                                                                         Reviews  \\\n",
       "3476                                                                                                                                                                                                                                                                                                                                                                                                                                                                                                                                                                                                                                             very bad delivery service\\ni live in maple\\nall time my packages and mail recieving for another persons becouse responsibility from canada post person put him to wrong mailbox   \n",
       "1310         why do businesses continue to do business with cp is beyond me it has been the worst postal delivery service for decades package delivery take an iternity to arrive no accountability outclassed by all their competitors i patiently waited a week and a half for my package a new mobile phone being sent within my city not an international or provincial shipment check my tracking number verifying recipient address from the day tracking was availablea week ago ok i didnt get a call neither did my mobile company so i call oh yes sir your package is with us can you verify your address now now were clarifying two days later still no change to tracking info i call again oh yeah i see you spoke to someone im going to place a note it should ship next week utter garbage service and company   \n",
       "508   wow i was forced to give one star to complete the review but they deserve zero canada post is masterful at dropping the ball many times i have noticed my tracking info has been doctored after an update has been made changing it to look like they are still on time i regularly place an order for items from a business in bc and am just blown away at the inconsistency of the delivery times to my home in sk they often love to sit on my orders when they arrive wed or thurs after a monday order only to have me wait until the following monday their virtual assistant is useless they have the nerve to post on their website they are working hard to stay safe blah blah news flash the rest of the world went back to normal service a year ago i would recommend if at all possible use another service   \n",
       "\n",
       "          Source  Sentiment  Topic  \n",
       "3476  Trustpilot    -0.7841      1  \n",
       "1310  Trustpilot    -0.2111      1  \n",
       "508   Trustpilot     0.9011      1  "
      ]
     },
     "execution_count": 24,
     "metadata": {},
     "output_type": "execute_result"
    }
   ],
   "source": [
    "# Customer service analysis\n",
    "customer_service_reviews = df[df['Reviews'].str.contains('service', case=False)]\n",
    "customer_service_reviews.sample(3)"
   ]
  },
  {
   "cell_type": "code",
   "execution_count": 25,
   "id": "06952575",
   "metadata": {
    "scrolled": true
   },
   "outputs": [
    {
     "data": {
      "text/html": [
       "<div>\n",
       "<style scoped>\n",
       "    .dataframe tbody tr th:only-of-type {\n",
       "        vertical-align: middle;\n",
       "    }\n",
       "\n",
       "    .dataframe tbody tr th {\n",
       "        vertical-align: top;\n",
       "    }\n",
       "\n",
       "    .dataframe thead th {\n",
       "        text-align: right;\n",
       "    }\n",
       "</style>\n",
       "<table border=\"1\" class=\"dataframe\">\n",
       "  <thead>\n",
       "    <tr style=\"text-align: right;\">\n",
       "      <th></th>\n",
       "      <th>Reviews</th>\n",
       "      <th>Source</th>\n",
       "      <th>Sentiment</th>\n",
       "      <th>Topic</th>\n",
       "    </tr>\n",
       "  </thead>\n",
       "  <tbody>\n",
       "    <tr>\n",
       "      <th>309</th>\n",
       "      <td>from qc citymy parcel arrived and received by poste canada montreal on  nov that i should get it by today is  dec but i never got my product still waiting its the service too slow and troublesome</td>\n",
       "      <td>Trustpilot</td>\n",
       "      <td>-0.6652</td>\n",
       "      <td>1</td>\n",
       "    </tr>\n",
       "    <tr>\n",
       "      <th>2671</th>\n",
       "      <td>i have been waiting  weeks for a package that came from europe at point of shipping it indicates that its in canada nowhas gone into the black hole called canada post this organization should be labelled a criminal organization for the prices they charge for the worlds worst postal service hey trudeau get your act together canada post hires the most incompetent management in the country</td>\n",
       "      <td>Trustpilot</td>\n",
       "      <td>-0.8977</td>\n",
       "      <td>1</td>\n",
       "    </tr>\n",
       "    <tr>\n",
       "      <th>2953</th>\n",
       "      <td>so today i was expecting a package i did not go to work today and i was waiting the whole day they said it would arrive by pm today and currently it is  with no notice when i ordered the package on amazon it has said it shipped and is arriving today canada post workers are lazy there customer service is very very poor this will be the last time with this dog poo of a mail service pathetic</td>\n",
       "      <td>Trustpilot</td>\n",
       "      <td>-0.8852</td>\n",
       "      <td>1</td>\n",
       "    </tr>\n",
       "  </tbody>\n",
       "</table>\n",
       "</div>"
      ],
      "text/plain": [
       "                                                                                                                                                                                                                                                                                                                                                                                                      Reviews  \\\n",
       "309                                                                                                                                                                                                       from qc citymy parcel arrived and received by poste canada montreal on  nov that i should get it by today is  dec but i never got my product still waiting its the service too slow and troublesome   \n",
       "2671    i have been waiting  weeks for a package that came from europe at point of shipping it indicates that its in canada nowhas gone into the black hole called canada post this organization should be labelled a criminal organization for the prices they charge for the worlds worst postal service hey trudeau get your act together canada post hires the most incompetent management in the country   \n",
       "2953  so today i was expecting a package i did not go to work today and i was waiting the whole day they said it would arrive by pm today and currently it is  with no notice when i ordered the package on amazon it has said it shipped and is arriving today canada post workers are lazy there customer service is very very poor this will be the last time with this dog poo of a mail service pathetic   \n",
       "\n",
       "          Source  Sentiment  Topic  \n",
       "309   Trustpilot    -0.6652      1  \n",
       "2671  Trustpilot    -0.8977      1  \n",
       "2953  Trustpilot    -0.8852      1  "
      ]
     },
     "execution_count": 25,
     "metadata": {},
     "output_type": "execute_result"
    }
   ],
   "source": [
    "# User experience analysis\n",
    "waiting_time_reviews = df[df['Reviews'].str.contains('wait', case=False)]\n",
    "convenience_reviews = df[df['Reviews'].str.contains('convenient', case=False)]\n",
    "damages_reviews = df[df['Reviews'].str.contains('damage', case=False)]\n",
    "\n",
    "waiting_time_reviews.sample(3)"
   ]
  },
  {
   "cell_type": "code",
   "execution_count": 26,
   "id": "bbcee64f",
   "metadata": {
    "scrolled": true
   },
   "outputs": [
    {
     "data": {
      "text/html": [
       "<div>\n",
       "<style scoped>\n",
       "    .dataframe tbody tr th:only-of-type {\n",
       "        vertical-align: middle;\n",
       "    }\n",
       "\n",
       "    .dataframe tbody tr th {\n",
       "        vertical-align: top;\n",
       "    }\n",
       "\n",
       "    .dataframe thead th {\n",
       "        text-align: right;\n",
       "    }\n",
       "</style>\n",
       "<table border=\"1\" class=\"dataframe\">\n",
       "  <thead>\n",
       "    <tr style=\"text-align: right;\">\n",
       "      <th></th>\n",
       "      <th>Reviews</th>\n",
       "      <th>Source</th>\n",
       "      <th>Sentiment</th>\n",
       "      <th>Topic</th>\n",
       "    </tr>\n",
       "  </thead>\n",
       "  <tbody>\n",
       "    <tr>\n",
       "      <th>2851</th>\n",
       "      <td>i understand delays from covid  but the fact that theyre focusing on new orders and letting old orders just sit there is completely obsurd ive been waiting for a month with no updates what i ordered loses freshness over time so this is very inconvenient</td>\n",
       "      <td>Trustpilot</td>\n",
       "      <td>-0.8515</td>\n",
       "      <td>1</td>\n",
       "    </tr>\n",
       "    <tr>\n",
       "      <th>1964</th>\n",
       "      <td>talk about convenient logged in created a label paid and printed drop off to my closest cp outlet compared to purolator who gave me inaccurate info on the phone so i wasted my entire lunch hour</td>\n",
       "      <td>Trustpilot</td>\n",
       "      <td>-0.6389</td>\n",
       "      <td>1</td>\n",
       "    </tr>\n",
       "    <tr>\n",
       "      <th>3780</th>\n",
       "      <td>when i lived in a condo i constantly had to travel kms to pick up my packages from their inconvenient pickup locations because their delivery person missed me they do not deliver to my apartment door and do not try to contact me on the intercom so i can come down and receive my package this meant that the literally only way to not miss me was if i literally waited in the lobby for the  hour window they give for the deliveries if i wanted to pick up my purchases kms away i would not have ordered them online in contrast other services such as ups not only contacted me when they arrive for delivery but they even come up to my apartment directly to deliver the package\\n\\ntheir delivery times are also extremely slow and their delivery people from my experience generally do not care about the packages they are delivering i once ordered a rare large print from texas the delivery person literally damaged the package by forcefully stuffing it into the small mailbox in my building for mail instead of literally walking  meters over and dropping off the package at the lobby front desk after contacting their customer support i was given a case number and told that the manager will speak with the delivery person so that it does not occur in the future they did not even offer to followup or to compensate for their incompetence absolutely ridiculous\\n\\nonly reason they are still in business is because they are a crown corporation</td>\n",
       "      <td>Trustpilot</td>\n",
       "      <td>-0.9233</td>\n",
       "      <td>1</td>\n",
       "    </tr>\n",
       "  </tbody>\n",
       "</table>\n",
       "</div>"
      ],
      "text/plain": [
       "                                                                                                                                                                                                                                                                                                                                                                                                                                                                                                                                                                                                                                                                                                                                                                                                                                                                                                                                                                                                                                                                                                                                                                                                                                                                                                                                                                                                                                                                                            Reviews  \\\n",
       "2851                                                                                                                                                                                                                                                                                                                                                                                                                                                                                                                                                                                                                                                                                                                                                                                                                                                                                                                                                                                                                                                                                                                                                                                                                                  i understand delays from covid  but the fact that theyre focusing on new orders and letting old orders just sit there is completely obsurd ive been waiting for a month with no updates what i ordered loses freshness over time so this is very inconvenient   \n",
       "1964                                                                                                                                                                                                                                                                                                                                                                                                                                                                                                                                                                                                                                                                                                                                                                                                                                                                                                                                                                                                                                                                                                                                                                                                                                                                                              talk about convenient logged in created a label paid and printed drop off to my closest cp outlet compared to purolator who gave me inaccurate info on the phone so i wasted my entire lunch hour   \n",
       "3780  when i lived in a condo i constantly had to travel kms to pick up my packages from their inconvenient pickup locations because their delivery person missed me they do not deliver to my apartment door and do not try to contact me on the intercom so i can come down and receive my package this meant that the literally only way to not miss me was if i literally waited in the lobby for the  hour window they give for the deliveries if i wanted to pick up my purchases kms away i would not have ordered them online in contrast other services such as ups not only contacted me when they arrive for delivery but they even come up to my apartment directly to deliver the package\\n\\ntheir delivery times are also extremely slow and their delivery people from my experience generally do not care about the packages they are delivering i once ordered a rare large print from texas the delivery person literally damaged the package by forcefully stuffing it into the small mailbox in my building for mail instead of literally walking  meters over and dropping off the package at the lobby front desk after contacting their customer support i was given a case number and told that the manager will speak with the delivery person so that it does not occur in the future they did not even offer to followup or to compensate for their incompetence absolutely ridiculous\\n\\nonly reason they are still in business is because they are a crown corporation   \n",
       "\n",
       "          Source  Sentiment  Topic  \n",
       "2851  Trustpilot    -0.8515      1  \n",
       "1964  Trustpilot    -0.6389      1  \n",
       "3780  Trustpilot    -0.9233      1  "
      ]
     },
     "execution_count": 26,
     "metadata": {},
     "output_type": "execute_result"
    }
   ],
   "source": [
    "convenience_reviews.sample(3)"
   ]
  },
  {
   "cell_type": "code",
   "execution_count": 27,
   "id": "6675013a",
   "metadata": {
    "scrolled": true
   },
   "outputs": [
    {
     "data": {
      "text/html": [
       "<div>\n",
       "<style scoped>\n",
       "    .dataframe tbody tr th:only-of-type {\n",
       "        vertical-align: middle;\n",
       "    }\n",
       "\n",
       "    .dataframe tbody tr th {\n",
       "        vertical-align: top;\n",
       "    }\n",
       "\n",
       "    .dataframe thead th {\n",
       "        text-align: right;\n",
       "    }\n",
       "</style>\n",
       "<table border=\"1\" class=\"dataframe\">\n",
       "  <thead>\n",
       "    <tr style=\"text-align: right;\">\n",
       "      <th></th>\n",
       "      <th>Reviews</th>\n",
       "      <th>Source</th>\n",
       "      <th>Sentiment</th>\n",
       "      <th>Topic</th>\n",
       "    </tr>\n",
       "  </thead>\n",
       "  <tbody>\n",
       "    <tr>\n",
       "      <th>1263</th>\n",
       "      <td>they damaged my package totally then i got nothing</td>\n",
       "      <td>Trustpilot</td>\n",
       "      <td>-0.4404</td>\n",
       "      <td>1</td>\n",
       "    </tr>\n",
       "    <tr>\n",
       "      <th>3113</th>\n",
       "      <td>i really dont like canada post i would recommend using any other postal  shipping service that is available to you before canada post\\n\\nthere are a few reasons why i would say this but first id like to clarify that not all of my experiences with canada post are negative most of the people at the canada post locations are pleasant and helpful and i know of one mail carrier that is excellent\\n\\nhowever overall the service is unreliable their tracking information sucks and the canada post employees that arent good are very very bad\\n\\nwe used to live in a triplex and our front door was at the bottom of a small flight of stairs  steps our mail carrier would throw any mail or parcels down those stairs and take off he disregarded our mailbox at the top of the steps he disregarded any damage that may be done to packages or the door on one occasion and if it was something we had to receive in person he would not even knock or leave a delivery notice we would have to find the tracking number and try to see if the package was ready for pickup and most of the time the counter person would complain that we didnt have the little delivery notice that he was supposed to leave\\n\\nwe brought the problem up with canada post a few times and eventually we had a new mail carrier we were happy that canada post took our problem seriously but as it turns out the new mail carrier was almost as lazy as the first one we no longer had flying mail and packages but they still wouldnt knock or leave delivery notices\\n\\nwe now live in a house in a rural community and we are still having some problems\\n\\nour mail carrier rarely comes down our\\ndriveway to knock on our door to see if we are home instead they just automatically leave delivery notice in our mailbox and if they believe that they can cram the parcel in our mailbox they give that a tryi swear it sometimes looks like they stomped the box to get it in there\\n\\nanother problem we have is that any time it snows the mail carrier will refuse to deliver at all i have called to ask about it and the reason they gave me is that our mailbox and driveway are inaccessible and need to be cleared well thats a lie i always clear our driveway and mailbox and maintain it for the duration of the storm there is never an issue for any one else including my wife in her super low vw beetle who can drive right up to the mailbox to check if it contains any mail thats another thing they never raise the flag its just a convenient excuse that they use because they are lazy\\n\\nin general any package that i receive by canada post takes at least double the time of any other shipping company they also have useless tracking information\\n\\ni will receive a shipping confirmation and for a few days it will say item processed then maybe i get another item processed at my local canada post but most of the time it changes to out for delivery and it gives me an expected delivery date of the same day on average i have to wait another  days before i actually receive the package or a delivery slip in my mailbox\\n\\nin the past i have tried to bypass the mail carrier and go directly to the post office when i see that the item has reached the local post office but they either dont want to help me at all or the package actually never got there yet i really dont understand how their tracking works\\n\\ni have switched to always using either fedex dhl or ups whenever possible they are always on time or ahead of schedule they also have the most friendly delivery people and tracking that is accurate</td>\n",
       "      <td>Trustpilot</td>\n",
       "      <td>-0.9850</td>\n",
       "      <td>1</td>\n",
       "    </tr>\n",
       "    <tr>\n",
       "      <th>3813</th>\n",
       "      <td>my parcel got damaged and it took them  weeks to figure it out their customer service is a joke i have contacted them x regarding this parcel and have been given different information or directions every single time</td>\n",
       "      <td>Trustpilot</td>\n",
       "      <td>-0.1779</td>\n",
       "      <td>1</td>\n",
       "    </tr>\n",
       "  </tbody>\n",
       "</table>\n",
       "</div>"
      ],
      "text/plain": [
       "                                                                                                                                                                                                                                                                                                                                                                                                                                                                                                                                                                                                                                                                                                                                                                                                                                                                                                                                                                                                                                                                                                                                                                                                                                                                                                                                                                                                                                                                                                                                                                                                                                                                                                                                                                                                                                                                                                                                                                                                                                                                                                                                                                                                                                                                                                                                                                                                                                                                                                                                                                                                                                                                                                                                                                                                                                                                                                                                                                                                                                                                                                                                                                                                                                                                                                                                                                                                                                                                                                                                                                                                                                                                                    Reviews  \\\n",
       "1263                                                                                                                                                                                                                                                                                                                                                                                                                                                                                                                                                                                                                                                                                                                                                                                                                                                                                                                                                                                                                                                                                                                                                                                                                                                                                                                                                                                                                                                                                                                                                                                                                                                                                                                                                                                                                                                                                                                                                                                                                                                                                                                                                                                                                                                                                                                                                                                                                                                                                                                                                                                                                                                                                                                                                                                                                                                                                                                                                                                                                                                                                                                                                                                                                                                                                                                                                                                                                                                                                                                                                                                                                                     they damaged my package totally then i got nothing   \n",
       "3113  i really dont like canada post i would recommend using any other postal  shipping service that is available to you before canada post\\n\\nthere are a few reasons why i would say this but first id like to clarify that not all of my experiences with canada post are negative most of the people at the canada post locations are pleasant and helpful and i know of one mail carrier that is excellent\\n\\nhowever overall the service is unreliable their tracking information sucks and the canada post employees that arent good are very very bad\\n\\nwe used to live in a triplex and our front door was at the bottom of a small flight of stairs  steps our mail carrier would throw any mail or parcels down those stairs and take off he disregarded our mailbox at the top of the steps he disregarded any damage that may be done to packages or the door on one occasion and if it was something we had to receive in person he would not even knock or leave a delivery notice we would have to find the tracking number and try to see if the package was ready for pickup and most of the time the counter person would complain that we didnt have the little delivery notice that he was supposed to leave\\n\\nwe brought the problem up with canada post a few times and eventually we had a new mail carrier we were happy that canada post took our problem seriously but as it turns out the new mail carrier was almost as lazy as the first one we no longer had flying mail and packages but they still wouldnt knock or leave delivery notices\\n\\nwe now live in a house in a rural community and we are still having some problems\\n\\nour mail carrier rarely comes down our\\ndriveway to knock on our door to see if we are home instead they just automatically leave delivery notice in our mailbox and if they believe that they can cram the parcel in our mailbox they give that a tryi swear it sometimes looks like they stomped the box to get it in there\\n\\nanother problem we have is that any time it snows the mail carrier will refuse to deliver at all i have called to ask about it and the reason they gave me is that our mailbox and driveway are inaccessible and need to be cleared well thats a lie i always clear our driveway and mailbox and maintain it for the duration of the storm there is never an issue for any one else including my wife in her super low vw beetle who can drive right up to the mailbox to check if it contains any mail thats another thing they never raise the flag its just a convenient excuse that they use because they are lazy\\n\\nin general any package that i receive by canada post takes at least double the time of any other shipping company they also have useless tracking information\\n\\ni will receive a shipping confirmation and for a few days it will say item processed then maybe i get another item processed at my local canada post but most of the time it changes to out for delivery and it gives me an expected delivery date of the same day on average i have to wait another  days before i actually receive the package or a delivery slip in my mailbox\\n\\nin the past i have tried to bypass the mail carrier and go directly to the post office when i see that the item has reached the local post office but they either dont want to help me at all or the package actually never got there yet i really dont understand how their tracking works\\n\\ni have switched to always using either fedex dhl or ups whenever possible they are always on time or ahead of schedule they also have the most friendly delivery people and tracking that is accurate   \n",
       "3813                                                                                                                                                                                                                                                                                                                                                                                                                                                                                                                                                                                                                                                                                                                                                                                                                                                                                                                                                                                                                                                                                                                                                                                                                                                                                                                                                                                                                                                                                                                                                                                                                                                                                                                                                                                                                                                                                                                                                                                                                                                                                                                                                                                                                                                                                                                                                                                                                                                                                                                                                                                                                                                                                                                                                                                                                                                                                                                                                                                                                                                                                                                                                                                                                                                                                                                                                                                                                                                                my parcel got damaged and it took them  weeks to figure it out their customer service is a joke i have contacted them x regarding this parcel and have been given different information or directions every single time   \n",
       "\n",
       "          Source  Sentiment  Topic  \n",
       "1263  Trustpilot    -0.4404      1  \n",
       "3113  Trustpilot    -0.9850      1  \n",
       "3813  Trustpilot    -0.1779      1  "
      ]
     },
     "execution_count": 27,
     "metadata": {},
     "output_type": "execute_result"
    }
   ],
   "source": [
    "damages_reviews.sample(3)"
   ]
  },
  {
   "cell_type": "code",
   "execution_count": 28,
   "id": "59927cf1",
   "metadata": {},
   "outputs": [
    {
     "name": "stdout",
     "output_type": "stream",
     "text": [
      "Overall Sentiment: -0.3621\n",
      "Complaints: -0.6580\n",
      "Customer Service Reviews: -0.4380\n",
      "Waiting Time Reviews: -0.3750\n",
      "Convenience Reviews: -0.4293\n",
      "Damages Reviews: -0.6213\n"
     ]
    }
   ],
   "source": [
    "avg_overall_sent     = df['Sentiment'].mean()\n",
    "avg_complaint_sent   = complaints['Sentiment'].mean()\n",
    "avg_customer_sent    = customer_service_reviews['Sentiment'].mean()\n",
    "avg_wait_sent        =  waiting_time_reviews['Sentiment'].mean()\n",
    "avg_convenience_sent = convenience_reviews['Sentiment'].mean()\n",
    "avg_damage_sent      = damages_reviews['Sentiment'].mean()\n",
    "\n",
    "# Output\n",
    "print(f\"Overall Sentiment: { avg_overall_sent : .4f}\")\n",
    "print(f\"Complaints: { avg_complaint_sent : .4f}\")\n",
    "print(f\"Customer Service Reviews: { avg_customer_sent : .4f}\")\n",
    "print(f\"Waiting Time Reviews: { avg_wait_sent : .4f}\")\n",
    "print(f\"Convenience Reviews: { avg_convenience_sent : .4f}\")\n",
    "print(f\"Damages Reviews: { avg_damage_sent : .4f}\")"
   ]
  },
  {
   "cell_type": "code",
   "execution_count": 29,
   "id": "0600bb51",
   "metadata": {},
   "outputs": [
    {
     "data": {
      "image/png": "[encoded data removed]",
      "text/plain": [
       "<Figure size 500x400 with 1 Axes>"
      ]
     },
     "metadata": {},
     "output_type": "display_data"
    }
   ],
   "source": [
    "labels = ['Overall', \n",
    "          'Complaints', \n",
    "          'Customer Service',\n",
    "          'Waiting Time',\n",
    "          'Convenience',\n",
    "          'Damages' \n",
    "         ]\n",
    "\n",
    "data =  [avg_overall_sent, \n",
    "         avg_complaint_sent, \n",
    "         avg_customer_sent,\n",
    "         avg_wait_sent,\n",
    "         avg_convenience_sent,\n",
    "         avg_damage_sent\n",
    "         ]\n",
    "\n",
    "plt.figure(figsize = (5, 4))\n",
    "\n",
    "sns.barplot(x=labels, y=data)\n",
    "plt.ylabel('Sentiment')\n",
    "plt.title('Sentiment by topic - Canada Post in Trustpilot')\n",
    "plt.xticks(rotation=45)\n",
    "plt.grid(axis='y', linestyle='--', alpha=0.6)\n",
    "\n",
    "plt.show()"
   ]
  },
  {
   "cell_type": "code",
   "execution_count": 30,
   "id": "accf26ec",
   "metadata": {
    "scrolled": true
   },
   "outputs": [
    {
     "name": "stdout",
     "output_type": "stream",
     "text": [
      "Percentage of positive reviews:  23.29%\n",
      "Percentage of neutral reviews:  4.31%\n",
      "Percentage of negative reviews:  72.40%\n"
     ]
    }
   ],
   "source": [
    "percentage_positive_rev = df[df['Sentiment'] > 0].shape[0] / df.shape[0] * 100\n",
    "percentage_neutral_rev = df[df['Sentiment'] == 0].shape[0] / df.shape[0] * 100\n",
    "percentage_negative_rev = df[df['Sentiment'] < 0].shape[0] / df.shape[0] * 100\n",
    "\n",
    "print(f\"Percentage of positive reviews: {percentage_positive_rev : .2f}%\")\n",
    "print(f\"Percentage of neutral reviews: {percentage_neutral_rev : .2f}%\")\n",
    "print(f\"Percentage of negative reviews: {percentage_negative_rev : .2f}%\")"
   ]
  },
  {
   "cell_type": "code",
   "execution_count": 31,
   "id": "2e314078",
   "metadata": {},
   "outputs": [
    {
     "data": {
      "image/png": "[encoded data removed]",
      "text/plain": [
       "<Figure size 400x300 with 1 Axes>"
      ]
     },
     "metadata": {},
     "output_type": "display_data"
    }
   ],
   "source": [
    "labels = ['Positive Revs', 'Neutral Rev', 'Negative Rev']\n",
    "\n",
    "data = [percentage_positive_rev, \n",
    "        percentage_neutral_rev, \n",
    "        percentage_negative_rev]\n",
    "\n",
    "plt.figure(figsize = (4, 3))\n",
    "\n",
    "sns.barplot(x=labels, y=data)\n",
    "plt.ylabel('Percentage')\n",
    "plt.title('Sentiment - Canada Post in Trustpilot')\n",
    "plt.show()"
   ]
  },
  {
   "cell_type": "code",
   "execution_count": 32,
   "id": "ff24f881",
   "metadata": {
    "scrolled": true
   },
   "outputs": [
    {
     "data": {
      "text/html": [
       "<div>\n",
       "<style scoped>\n",
       "    .dataframe tbody tr th:only-of-type {\n",
       "        vertical-align: middle;\n",
       "    }\n",
       "\n",
       "    .dataframe tbody tr th {\n",
       "        vertical-align: top;\n",
       "    }\n",
       "\n",
       "    .dataframe thead th {\n",
       "        text-align: right;\n",
       "    }\n",
       "</style>\n",
       "<table border=\"1\" class=\"dataframe\">\n",
       "  <thead>\n",
       "    <tr style=\"text-align: right;\">\n",
       "      <th></th>\n",
       "      <th>Reviews</th>\n",
       "      <th>Source</th>\n",
       "      <th>Sentiment</th>\n",
       "      <th>Topic</th>\n",
       "    </tr>\n",
       "  </thead>\n",
       "  <tbody>\n",
       "    <tr>\n",
       "      <th>4128</th>\n",
       "      <td>their chat online system is a joke i wonder if other people had the same experience as me read the convo below keep in mind i waited patiently to get my answer also i gave my actual info but had to keep this confidential\\n\\n\\nin response to question hi  i am just wondering if you know where my package is currently located here is my number tracking number\\nit looks like it is in british columbia i just want to confirm\\nthanks\\nana\\n\\na\\nhi  i am just wondering if you know where my package is currently located here is my number tracking number\\nit looks like it is in british columbia i just want to confirm\\nthanks\\nana\\nsystem hi ana thank you for visiting\\nkeep in mind this conversation will end if left inactive for  minutes\\nsystem youre in line to chat with an agent customers are ahead of you\\nsystem youre in line to chat with an agent customers are ahead of you\\nsystem youre in line to chat with an agent customers are ahead of you\\nsystem youre in line to chat with an agent customers are ahead of you\\nsystem youre in line to chat with an agent customers are ahead of you\\nsystem youre in line to chat with an agent customers are ahead of you\\nsystem youre in line to chat with an agent customers are ahead of you\\nsystem youre in line to chat with an agent customers are ahead of you\\nsystem youre in line to chat with an agent customers are ahead of you\\nsystem youre in line to chat with an agent customers are ahead of you\\nsystem youre in line to chat with an agent customers are ahead of you\\nsystem youre in line to chat with an agent customers are ahead of you\\nsystem youre in line to chat with an agent customers are ahead of you\\nsystem youre in line to chat with an agent customers are ahead of you\\na\\nok i am still active\\nsystem youre in line to chat with an agent customers are ahead of you\\nsystem youre in line to chat with an agent customers are ahead of you\\nsystem youre in line to chat with an agent customers are ahead of you\\nsystem youre in line to chat with an agent customers are ahead of you\\nsystem youre in line to chat with an agent customers are ahead of you\\nsystem youre in line to chat with an agent customers are ahead of you\\nsystem youre in line to chat with an agent customers are ahead of you\\nsystem youre in line to chat with an agent customers are ahead of you\\nsystem youre in line to chat with an agent customers are ahead of you\\nsystem youre in line to chat with an agent customers are ahead of you\\na\\nok i am still active \\nsystem youre in line to chat with an agent customers are ahead of you\\nsystem youre in line to chat with an agent customers are ahead of you\\nsystem youre in line to chat with an agent customers are ahead of you\\nsystem youre in line to chat with an agent customers are ahead of you\\nsystem youre in line to chat with an agent customers are ahead of you\\nsystem youre in line to chat with an agent customers are ahead of you\\na\\nok i am still active\\nsystem youre in line to chat with an agent customers are ahead of you\\nsystem youre in line to chat with an agent customers are ahead of you\\nsystem youre in line to chat with an agent customers are ahead of you\\nsystem youre in line to chat with an agent customers are ahead of you\\na\\nok still active \\nsystem youre in line to chat with an agent customers are ahead of you\\nsystem youre in line to chat with an agent customers are ahead of you\\nsystem youre in line to chat with an agent customers are ahead of you\\nsystem youre in line to chat with an agent customers are ahead of you\\nsystem youre in line to chat with an agent customers are ahead of you\\nsystem youre in line to chat with an agent customers are ahead of you\\nsystem youre in line to chat with an agent customers are ahead of you\\nsystem youre in line to chat with an agent customers are ahead of you\\nsystem youre in line to chat with an agent customers are ahead of you\\nsystem youre in line to chat with an agent customers are ahead of you\\nsystem youre in line to chat with an agent customers are ahead of you\\na\\nok still active\\nsystem youre in line to chat with an agent customers are ahead of you\\nsystem youre in line to chat with an agent customers are ahead of you\\na\\nok still active\\nsystem youre in line to chat with an agent customers are ahead of you\\nsystem youre in line to chat with an agent customers are ahead of you\\nsystem youre in line to chat with an agent customers are ahead of you\\nsystem youre in line to chat with an agent customers are ahead of you\\nsystem youre in line to chat with an agent customers are ahead of you\\nsystem youre in line to chat with an agent customers are ahead of you\\na\\nok still active\\nsystem youre in line to chat with an agent customers are ahead of you\\nsystem youre in line to chat with an agent customers are ahead of you\\nsystem youre in line to chat with an agent customers are ahead of you\\nsystem you are second in the queue\\na\\nhi  i am just wondering if you know where my package is currently located here is my number tracking number\\nit looks like it is in british columbia i just want to confirm\\nthanks\\nana\\nsystem thanks for your patience youre second in line\\nsystem youll be connected to a customer service agent shortly\\na\\nok thanks \\na\\nmcmmcm keep offline processing blocked n until financial online approved txn\\na\\nhi  i am just wondering if you know where my package is currently located here is my number tracking number\\nit looks like it is in british columbia i just want to confirm\\nthanks\\nana\\nsystem youre connected to a customer service agent let us know how we can help\\nsystem youll be connected to a customer service agent shortly\\na\\nhello ana thank you for contacting canada post customer service my name is ashton i see that you are contacting us in regards to tracking a parcel\\na\\nto better assist you may i ask you some questions please\\na\\nhello are you still there\\na\\nyezs\\na\\nyes\\na\\nhi  i am just wondering if you know where my package is currently located here is my number tracking number\\nit looks like it is in british columbia i just want to confirm\\nthanks\\nana\\na\\nto better assist you may i ask you some questions please\\na\\nhi  i am just wondering if you know where my package is currently located here is my number tracking number\\nit looks like it is in british columbia i just want to confirm\\nthanks\\nana\\na\\ni cannot assist you unless you allow me to ask you the validation questions\\na\\nok feel free to ask the validation questions\\na\\nwhat is your first and last name\\nare you the sender or the receiver\\nis this business or personal\\ncan you provide your complete address\\na\\nname\\nreceiver\\npersonal\\naddress\\naddress\\naddress\\naddress\\na\\nthank you may i have three minutes to review this information\\na\\nyes of course\\na\\nunfortunately this item has been delayed due to the strikes canada post has no control over when where or how long these strikes occur\\na\\nalso you were unable to validate\\na\\ni just want to confirm where my item is\\na\\ni can no longer assist you with this issue\\na\\nis there anything else i can assist you with today\\na\\ni never asked about the strike\\na\\ni am asking about where the location of my package is currently\\na\\ni cannot provide any further information in regards to this item\\na\\ni never asked when my package will arrive\\na\\nis there anything else i can assist you with today\\na\\nwhy not\\na\\nyou were unable to validate\\na\\nyour system does not show where the item is\\na\\ni validated all your questions\\na\\nwhich question did no not validate\\na\\nis there anything else i can assist you with today\\na\\nyes please tell me what was i suppose to validate\\na\\none of the answers you provided was incorrect i cannot release which one due to security reasons\\na\\nif there is nothing else i can assist you with i will need to disconnect\\na\\nwhat do you mean\\na\\nname\\nreceiver\\npersonal\\naddress\\naddress\\naddress\\naddress\\na\\nwhat is incorrect about that\\na\\nis there anything else i can assist you with today\\na\\nall of that is correct\\na\\ni also gave you a tracking number\\na\\nas there is nothing else i can assist you with thank you for choosing canada post we appreciate your time and patience on the chat have a lovely day\\nsystem thanks for chatting with us today\\nsystem chat disconnected\\ncanada post</td>\n",
       "      <td>Trustpilot</td>\n",
       "      <td>0.9995</td>\n",
       "      <td>1</td>\n",
       "    </tr>\n",
       "    <tr>\n",
       "      <th>657</th>\n",
       "      <td>sincere appreciation of your staff at ave bonnie doon\\ni am pleased to inform canada post my daughter and i are very grateful  appreciative of ann marie manager  and her well trained and dedicated staff at the bonnie doon po ann marie treats her staff with respect trains them well and they all work together as a strong team day in and day out i have been a long term customer of this postal outlet since  we found your staff are very well trained loyal well respected professional and of high level of integrity they are taking pride in the job well done\\nann marie her staff are walking extra miles to provide quality service to all who access the postal service at this location thank you my name is nellie priya jeevan is my email address name canada post has an excellent reputation on an international level keep it up congratulations\\n\\nedit\\ndelete\\nshare</td>\n",
       "      <td>Trustpilot</td>\n",
       "      <td>0.9943</td>\n",
       "      <td>1</td>\n",
       "    </tr>\n",
       "    <tr>\n",
       "      <th>3491</th>\n",
       "      <td>terrible tracking for packages not as yet delivered\\n\\nmy parcel on the canada post website specifies a small almost innocuous package weighing less that  ounces also on the same website canada post announces to the world that my little package would be delivered on october th  at the end of business day a bold statement indeed but canada post  that mighty canadian institution i dare say  is up to the challenge\\n\\nunfortunately my dear readers it is now  days later  october   to be precise no package as yet has arrived from that beloved institution we hear so much about  the strikes the delay tactics the incompetence of management staff and workers etc shall i go on\\n\\nyet as a canadian in good standing i trudged through the expected canada post bureaucracy and  somewhat to my surprise  i discovered a canada post chat session  online mind you an encouraging sign i thought\\n\\nafter waiting more than  minutes i finally got to chat  you know like a friend with someone at canada post\\n\\ni explained my situation and bingo a service ticket was issued with promises of bliss and resolution to my little dilemma within  business hours as stated in the chat i would receive a call back within  business hours based on our current earth calendar by someone in charge or possibly a fixer of some sort i was delighted canada post has finally grown up well and strong and can be counted on as one of the big boys\\n\\nalas dear friends i did not receive any such call back\\n\\nthere must have been a very very rare computer glitch i thought to myself maybe a virus ate up my message\\n\\nwell never mind back to the chat we go once again a new service ticket was issued and the same promises made\\n\\nwhat could possibly go wrong i thought to myself after all it is a policy of canada post to call back within  business hours\\n\\nwell things did not go according to plan i gather no call back\\n\\nand the rest is history which i will summarize as follows\\n\\nfeeling treated like a fool i mustered up my courage and dialed canada post support number  on october    and after waiting that compulsory  minutes in queue i finally got to speak with a senior resolution specialist okay i thought to myself this is it finally i can have my problem resolved\\n\\nbut all my hopes were dashed another grand waste of time\\n\\nshe had no idea why canada post did not call back on  occasions within the requisite  business hours she had no idea where my package was beyond the information provided by canada post online tracking and finally had no idea what canada post could do for me\\n\\nmind you she is a senior resolution specialist maybe i should have asked for a seasoned senior resolution specialist\\n\\nyes call me naive i thought this would be a breeze for someone with a title like that i thought it simple enough i am located in montreal the item last scan of the parcel was in montreal on the  october  the due date of delivery on the canada post website is the th of october \\n\\nit is now october    days late  mind you in earth days\\n\\ni said to myself such a small problem for a senior resolution specialist like her peanuts she should tell me  without even breaking a sweat  where my parcel is located and when i should receive it\\n\\nyet my complete astonishment no one in canada post  even the senior resolution specialist could tell me where the parcel is  never mind when i will receive it\\n\\nto wrap this up i have spent well over  hours with canada post online chats dialing canada posts support number commiserating with canada post staff supervisors senior resolution specialists etc and i am no further along in receiving my parcel</td>\n",
       "      <td>Trustpilot</td>\n",
       "      <td>0.9938</td>\n",
       "      <td>1</td>\n",
       "    </tr>\n",
       "  </tbody>\n",
       "</table>\n",
       "</div>"
      ],
      "text/plain": [
       "                                                                                                                                                                                                                                                                                                                                                                                                                                                                                                                                                                                                                                                                                                                                                                                                                                                                                                                                                                                                                                                                                                                                                                                                                                                                                                                                                                                                                                                                                                                                                                                                                                                                                                                                                                                                                                                                                                                                                                                                                                                                                                                                                                                                                                                                                                                                                                                                                                                                                                                                                                                                                                                                                                                                                                                                                                                                                                                                                                                                                                                                                                                                                                                                                                                                                                                                                                                                                                                                                                                                                                                                                                                                                                                                                                                                                                                                                                                                                                                                                                                                                                                                                                                                                                                                                                                                                                                                                                                                                                                                                                                                                                                                                                                                                                                                                                                                                                                                                                                                                                                                                                                                                                                                                                                                                                                                                                                                                                                                                                                                                                                                                                                                                                                                                                                                                                                                                                                                                                                                                                                                                                                                                                                                                                                                                                                                                                                                                                                                                                                                                                                                                                                                                                                                                                                                                                                                                                                                                                                                                                                                                                                                                                                                                                                                                                                                                                                                                                                                                                                                                                                                                                                                                                                                                                                                                                                                                                                                                                                                                                                                                                                                                                                                                                                                                                                                                                                                                                                                                                                                                                                                                   Reviews  \\\n",
       "4128  their chat online system is a joke i wonder if other people had the same experience as me read the convo below keep in mind i waited patiently to get my answer also i gave my actual info but had to keep this confidential\\n\\n\\nin response to question hi  i am just wondering if you know where my package is currently located here is my number tracking number\\nit looks like it is in british columbia i just want to confirm\\nthanks\\nana\\n\\na\\nhi  i am just wondering if you know where my package is currently located here is my number tracking number\\nit looks like it is in british columbia i just want to confirm\\nthanks\\nana\\nsystem hi ana thank you for visiting\\nkeep in mind this conversation will end if left inactive for  minutes\\nsystem youre in line to chat with an agent customers are ahead of you\\nsystem youre in line to chat with an agent customers are ahead of you\\nsystem youre in line to chat with an agent customers are ahead of you\\nsystem youre in line to chat with an agent customers are ahead of you\\nsystem youre in line to chat with an agent customers are ahead of you\\nsystem youre in line to chat with an agent customers are ahead of you\\nsystem youre in line to chat with an agent customers are ahead of you\\nsystem youre in line to chat with an agent customers are ahead of you\\nsystem youre in line to chat with an agent customers are ahead of you\\nsystem youre in line to chat with an agent customers are ahead of you\\nsystem youre in line to chat with an agent customers are ahead of you\\nsystem youre in line to chat with an agent customers are ahead of you\\nsystem youre in line to chat with an agent customers are ahead of you\\nsystem youre in line to chat with an agent customers are ahead of you\\na\\nok i am still active\\nsystem youre in line to chat with an agent customers are ahead of you\\nsystem youre in line to chat with an agent customers are ahead of you\\nsystem youre in line to chat with an agent customers are ahead of you\\nsystem youre in line to chat with an agent customers are ahead of you\\nsystem youre in line to chat with an agent customers are ahead of you\\nsystem youre in line to chat with an agent customers are ahead of you\\nsystem youre in line to chat with an agent customers are ahead of you\\nsystem youre in line to chat with an agent customers are ahead of you\\nsystem youre in line to chat with an agent customers are ahead of you\\nsystem youre in line to chat with an agent customers are ahead of you\\na\\nok i am still active \\nsystem youre in line to chat with an agent customers are ahead of you\\nsystem youre in line to chat with an agent customers are ahead of you\\nsystem youre in line to chat with an agent customers are ahead of you\\nsystem youre in line to chat with an agent customers are ahead of you\\nsystem youre in line to chat with an agent customers are ahead of you\\nsystem youre in line to chat with an agent customers are ahead of you\\na\\nok i am still active\\nsystem youre in line to chat with an agent customers are ahead of you\\nsystem youre in line to chat with an agent customers are ahead of you\\nsystem youre in line to chat with an agent customers are ahead of you\\nsystem youre in line to chat with an agent customers are ahead of you\\na\\nok still active \\nsystem youre in line to chat with an agent customers are ahead of you\\nsystem youre in line to chat with an agent customers are ahead of you\\nsystem youre in line to chat with an agent customers are ahead of you\\nsystem youre in line to chat with an agent customers are ahead of you\\nsystem youre in line to chat with an agent customers are ahead of you\\nsystem youre in line to chat with an agent customers are ahead of you\\nsystem youre in line to chat with an agent customers are ahead of you\\nsystem youre in line to chat with an agent customers are ahead of you\\nsystem youre in line to chat with an agent customers are ahead of you\\nsystem youre in line to chat with an agent customers are ahead of you\\nsystem youre in line to chat with an agent customers are ahead of you\\na\\nok still active\\nsystem youre in line to chat with an agent customers are ahead of you\\nsystem youre in line to chat with an agent customers are ahead of you\\na\\nok still active\\nsystem youre in line to chat with an agent customers are ahead of you\\nsystem youre in line to chat with an agent customers are ahead of you\\nsystem youre in line to chat with an agent customers are ahead of you\\nsystem youre in line to chat with an agent customers are ahead of you\\nsystem youre in line to chat with an agent customers are ahead of you\\nsystem youre in line to chat with an agent customers are ahead of you\\na\\nok still active\\nsystem youre in line to chat with an agent customers are ahead of you\\nsystem youre in line to chat with an agent customers are ahead of you\\nsystem youre in line to chat with an agent customers are ahead of you\\nsystem you are second in the queue\\na\\nhi  i am just wondering if you know where my package is currently located here is my number tracking number\\nit looks like it is in british columbia i just want to confirm\\nthanks\\nana\\nsystem thanks for your patience youre second in line\\nsystem youll be connected to a customer service agent shortly\\na\\nok thanks \\na\\nmcmmcm keep offline processing blocked n until financial online approved txn\\na\\nhi  i am just wondering if you know where my package is currently located here is my number tracking number\\nit looks like it is in british columbia i just want to confirm\\nthanks\\nana\\nsystem youre connected to a customer service agent let us know how we can help\\nsystem youll be connected to a customer service agent shortly\\na\\nhello ana thank you for contacting canada post customer service my name is ashton i see that you are contacting us in regards to tracking a parcel\\na\\nto better assist you may i ask you some questions please\\na\\nhello are you still there\\na\\nyezs\\na\\nyes\\na\\nhi  i am just wondering if you know where my package is currently located here is my number tracking number\\nit looks like it is in british columbia i just want to confirm\\nthanks\\nana\\na\\nto better assist you may i ask you some questions please\\na\\nhi  i am just wondering if you know where my package is currently located here is my number tracking number\\nit looks like it is in british columbia i just want to confirm\\nthanks\\nana\\na\\ni cannot assist you unless you allow me to ask you the validation questions\\na\\nok feel free to ask the validation questions\\na\\nwhat is your first and last name\\nare you the sender or the receiver\\nis this business or personal\\ncan you provide your complete address\\na\\nname\\nreceiver\\npersonal\\naddress\\naddress\\naddress\\naddress\\na\\nthank you may i have three minutes to review this information\\na\\nyes of course\\na\\nunfortunately this item has been delayed due to the strikes canada post has no control over when where or how long these strikes occur\\na\\nalso you were unable to validate\\na\\ni just want to confirm where my item is\\na\\ni can no longer assist you with this issue\\na\\nis there anything else i can assist you with today\\na\\ni never asked about the strike\\na\\ni am asking about where the location of my package is currently\\na\\ni cannot provide any further information in regards to this item\\na\\ni never asked when my package will arrive\\na\\nis there anything else i can assist you with today\\na\\nwhy not\\na\\nyou were unable to validate\\na\\nyour system does not show where the item is\\na\\ni validated all your questions\\na\\nwhich question did no not validate\\na\\nis there anything else i can assist you with today\\na\\nyes please tell me what was i suppose to validate\\na\\none of the answers you provided was incorrect i cannot release which one due to security reasons\\na\\nif there is nothing else i can assist you with i will need to disconnect\\na\\nwhat do you mean\\na\\nname\\nreceiver\\npersonal\\naddress\\naddress\\naddress\\naddress\\na\\nwhat is incorrect about that\\na\\nis there anything else i can assist you with today\\na\\nall of that is correct\\na\\ni also gave you a tracking number\\na\\nas there is nothing else i can assist you with thank you for choosing canada post we appreciate your time and patience on the chat have a lovely day\\nsystem thanks for chatting with us today\\nsystem chat disconnected\\ncanada post   \n",
       "657                                                                                                                                                                                                                                                                                                                                                                                                                                                                                                                                                                                                                                                                                                                                                                                                                                                                                                                                                                                                                                                                                                                                                                                                                                                                                                                                                                                                                                                                                                                                                                                                                                                                                                                                                                                                                                                                                                                                                                                                                                                                                                                                                                                                                                                                                                                                                                                                                                                                                                                                                                                                                                                                                                                                                                                                                                                                                                                                                                                                                                                                                                                                                                                                                                                                                                                                                                                                                                                                                                                                                                                                                                                                                                                                                                                                                                                                                                                                                                                                                                                                                                                                                                                                                                                                                                                                                                                                                                                                                                                                                                                                                                                                                                                                                                                                                                                                                                                                                                                                                                                                                                                                                                                                                                                                                                                                                                                                                                                                                                                                                                                                                                                                                                                                                                                                                                                                                                                                                                                                                                                                                                                                                                                                                                                                                                                                                                                                                                                                                                                                                                                                                                                                                                                                                                                                                                                                                                                                                                                                                                                                                                                                                                                                                                                                                                                                                                                                                                                                                                                                                                                                                                                                                                                       sincere appreciation of your staff at ave bonnie doon\\ni am pleased to inform canada post my daughter and i are very grateful  appreciative of ann marie manager  and her well trained and dedicated staff at the bonnie doon po ann marie treats her staff with respect trains them well and they all work together as a strong team day in and day out i have been a long term customer of this postal outlet since  we found your staff are very well trained loyal well respected professional and of high level of integrity they are taking pride in the job well done\\nann marie her staff are walking extra miles to provide quality service to all who access the postal service at this location thank you my name is nellie priya jeevan is my email address name canada post has an excellent reputation on an international level keep it up congratulations\\n\\nedit\\ndelete\\nshare   \n",
       "3491                                                                                                                                                                                                                                                                                                                                                                                                                                                                                                                                                                                                                                                                                                                                                                                                                                                                                                                                                                                                                                                                                                                                                                                                                                                                                                                                                                                                                                                                                                                                                                                                                                                                                                                                                                                                                                                                                                                                                                                                                                                                                                                                                                                                                                                                                                                                                                                                                                                                                                                                                                                                                                                                                                                                                                                                                                                                                                                                                                                                                                                                                                                                                                                                                                                                                                                                                                                                                                                                                                                                                                                                                                                                                                                                                                                                                                                                                                                                                                                                                                                                                                                                                                                                                                                                                                                                                                                                                                                                                                                                                                                                                                                                                                                                                                                                                                     terrible tracking for packages not as yet delivered\\n\\nmy parcel on the canada post website specifies a small almost innocuous package weighing less that  ounces also on the same website canada post announces to the world that my little package would be delivered on october th  at the end of business day a bold statement indeed but canada post  that mighty canadian institution i dare say  is up to the challenge\\n\\nunfortunately my dear readers it is now  days later  october   to be precise no package as yet has arrived from that beloved institution we hear so much about  the strikes the delay tactics the incompetence of management staff and workers etc shall i go on\\n\\nyet as a canadian in good standing i trudged through the expected canada post bureaucracy and  somewhat to my surprise  i discovered a canada post chat session  online mind you an encouraging sign i thought\\n\\nafter waiting more than  minutes i finally got to chat  you know like a friend with someone at canada post\\n\\ni explained my situation and bingo a service ticket was issued with promises of bliss and resolution to my little dilemma within  business hours as stated in the chat i would receive a call back within  business hours based on our current earth calendar by someone in charge or possibly a fixer of some sort i was delighted canada post has finally grown up well and strong and can be counted on as one of the big boys\\n\\nalas dear friends i did not receive any such call back\\n\\nthere must have been a very very rare computer glitch i thought to myself maybe a virus ate up my message\\n\\nwell never mind back to the chat we go once again a new service ticket was issued and the same promises made\\n\\nwhat could possibly go wrong i thought to myself after all it is a policy of canada post to call back within  business hours\\n\\nwell things did not go according to plan i gather no call back\\n\\nand the rest is history which i will summarize as follows\\n\\nfeeling treated like a fool i mustered up my courage and dialed canada post support number  on october    and after waiting that compulsory  minutes in queue i finally got to speak with a senior resolution specialist okay i thought to myself this is it finally i can have my problem resolved\\n\\nbut all my hopes were dashed another grand waste of time\\n\\nshe had no idea why canada post did not call back on  occasions within the requisite  business hours she had no idea where my package was beyond the information provided by canada post online tracking and finally had no idea what canada post could do for me\\n\\nmind you she is a senior resolution specialist maybe i should have asked for a seasoned senior resolution specialist\\n\\nyes call me naive i thought this would be a breeze for someone with a title like that i thought it simple enough i am located in montreal the item last scan of the parcel was in montreal on the  october  the due date of delivery on the canada post website is the th of october \\n\\nit is now october    days late  mind you in earth days\\n\\ni said to myself such a small problem for a senior resolution specialist like her peanuts she should tell me  without even breaking a sweat  where my parcel is located and when i should receive it\\n\\nyet my complete astonishment no one in canada post  even the senior resolution specialist could tell me where the parcel is  never mind when i will receive it\\n\\nto wrap this up i have spent well over  hours with canada post online chats dialing canada posts support number commiserating with canada post staff supervisors senior resolution specialists etc and i am no further along in receiving my parcel   \n",
       "\n",
       "          Source  Sentiment  Topic  \n",
       "4128  Trustpilot     0.9995      1  \n",
       "657   Trustpilot     0.9943      1  \n",
       "3491  Trustpilot     0.9938      1  "
      ]
     },
     "execution_count": 32,
     "metadata": {},
     "output_type": "execute_result"
    }
   ],
   "source": [
    "# Top 3 best reviews\n",
    "df.sort_values(by = 'Sentiment', ascending = False).head(3)"
   ]
  },
  {
   "cell_type": "code",
   "execution_count": 33,
   "id": "f0e8c480",
   "metadata": {
    "scrolled": true
   },
   "outputs": [
    {
     "data": {
      "text/html": [
       "<div>\n",
       "<style scoped>\n",
       "    .dataframe tbody tr th:only-of-type {\n",
       "        vertical-align: middle;\n",
       "    }\n",
       "\n",
       "    .dataframe tbody tr th {\n",
       "        vertical-align: top;\n",
       "    }\n",
       "\n",
       "    .dataframe thead th {\n",
       "        text-align: right;\n",
       "    }\n",
       "</style>\n",
       "<table border=\"1\" class=\"dataframe\">\n",
       "  <thead>\n",
       "    <tr style=\"text-align: right;\">\n",
       "      <th></th>\n",
       "      <th>Reviews</th>\n",
       "      <th>Source</th>\n",
       "      <th>Sentiment</th>\n",
       "      <th>Topic</th>\n",
       "    </tr>\n",
       "  </thead>\n",
       "  <tbody>\n",
       "    <tr>\n",
       "      <th>1313</th>\n",
       "      <td>brutal\\ndont speak with customer service its a waste of time they cant answer any questions or get any more details on your parcel than the automated service can give you and that is no info\\nthe post offices arent scanning items properly so u never know when ur getting your things all my parcels are insanly late and its sitting  min away from me but i cant pick it up this service is the worst ive experienced the absolute worst\\nif you can avoid using them for your mail then ur better off\\nwhen the people cant even call the office your stuff is sitting at then thats lower than low\\ncanada post are thieves stealing money with false promis of delivering on time or close to ontime\\n\\nlies lies lies\\n\\nterrible terrible service not even  star guys   of a star\\n\\nvery poor very very poor services</td>\n",
       "      <td>Trustpilot</td>\n",
       "      <td>-0.9961</td>\n",
       "      <td>1</td>\n",
       "    </tr>\n",
       "    <tr>\n",
       "      <th>2309</th>\n",
       "      <td>every package that has been handed over to canada post has either been lost or delayed for months with no tracking information why is it that every other courier service has gotten their acts together and are able to get packages out on a timely manner but everyone thats been handed over to canada post is either lost delayed for months and you cant find any information on them whatsoever what the hell is going on with canada post they have failed miserably servicing their customers through covid  where every other business has gotten their acts together through this pandemic and are giving their customers good service no excuse i am really sick of my packages being lost or delayed for months with no tracking information availableand trying to speak to somebody or even post a complaint online on their web page is absolutely ridiculous canada post get your damn acts together and stop using the pandemic as an excuse for your s service no other courier service is having delays like you are its absolutely asinine when things are sitting in mississauga or kitchener for weeks on end get it together man people pay for service and you are not delivering your service you cant even get a hold of you to complain its b and its unacceptable get it together and stop using whats happening in the world as an excuse no other company that delivers parcels or mail are giving a horrible service like canada post you people are an absolute rip off ridiculous organization and i have to laugh because it seems amazon is no longer handing their parcels over to you as youve lost every one of my parcels from amazon that have been handed to you and im happy to say none of my parcels from amazon have been delivered by canada post anymore theyre using different courier services or theyre delivering the parcels themselves once again why are you the only ones failing in this industry miserably failing i might add get it together man</td>\n",
       "      <td>Trustpilot</td>\n",
       "      <td>-0.9962</td>\n",
       "      <td>1</td>\n",
       "    </tr>\n",
       "    <tr>\n",
       "      <th>3706</th>\n",
       "      <td>horrible horrible horrible horrible horrible horrible horrible horrible horrible horrible horrible horrible horrible horrible horrible horrible horrible horrible horrible horrible horrible horrible horrible horrible horrible horrible horrible horrible horrible horrible horrible horrible horrible horrible horrible horrible horrible horrible horrible horrible horrible horrible horrible horrible horrible horrible horrible horrible horrible horrible horrible horrible horrible horrible horrible horrible horrible horrible horrible horrible horrible horrible horrible horrible horrible horrible horrible horrible horrible horrible horrible horrible horrible horrible horrible horrible horrible horrible horrible horrible horrible horrible horrible horrible horrible horrible horrible horrible gahhhhhhhhhhhhhhhh</td>\n",
       "      <td>Trustpilot</td>\n",
       "      <td>-0.9998</td>\n",
       "      <td>1</td>\n",
       "    </tr>\n",
       "  </tbody>\n",
       "</table>\n",
       "</div>"
      ],
      "text/plain": [
       "                                                                                                                                                                                                                                                                                                                                                                                                                                                                                                                                                                                                                                                                                                                                                                                                                                                                                                                                                                                                                                                                                                                                                                                                                                                                                                                                                                                                                                                                                                                                                                                                                                                                                                                                                                                                                                                                                                                                                                                                           Reviews  \\\n",
       "1313                                                                                                                                                                                                                                                                                                                                                                                                                                                                                                                                                                                                                                                                                                                                                                                                                                                                                                                                                                                                                                                                                                                                                                            brutal\\ndont speak with customer service its a waste of time they cant answer any questions or get any more details on your parcel than the automated service can give you and that is no info\\nthe post offices arent scanning items properly so u never know when ur getting your things all my parcels are insanly late and its sitting  min away from me but i cant pick it up this service is the worst ive experienced the absolute worst\\nif you can avoid using them for your mail then ur better off\\nwhen the people cant even call the office your stuff is sitting at then thats lower than low\\ncanada post are thieves stealing money with false promis of delivering on time or close to ontime\\n\\nlies lies lies\\n\\nterrible terrible service not even  star guys   of a star\\n\\nvery poor very very poor services   \n",
       "2309  every package that has been handed over to canada post has either been lost or delayed for months with no tracking information why is it that every other courier service has gotten their acts together and are able to get packages out on a timely manner but everyone thats been handed over to canada post is either lost delayed for months and you cant find any information on them whatsoever what the hell is going on with canada post they have failed miserably servicing their customers through covid  where every other business has gotten their acts together through this pandemic and are giving their customers good service no excuse i am really sick of my packages being lost or delayed for months with no tracking information availableand trying to speak to somebody or even post a complaint online on their web page is absolutely ridiculous canada post get your damn acts together and stop using the pandemic as an excuse for your s service no other courier service is having delays like you are its absolutely asinine when things are sitting in mississauga or kitchener for weeks on end get it together man people pay for service and you are not delivering your service you cant even get a hold of you to complain its b and its unacceptable get it together and stop using whats happening in the world as an excuse no other company that delivers parcels or mail are giving a horrible service like canada post you people are an absolute rip off ridiculous organization and i have to laugh because it seems amazon is no longer handing their parcels over to you as youve lost every one of my parcels from amazon that have been handed to you and im happy to say none of my parcels from amazon have been delivered by canada post anymore theyre using different courier services or theyre delivering the parcels themselves once again why are you the only ones failing in this industry miserably failing i might add get it together man   \n",
       "3706                                                                                                                                                                                                                                                                                                                                                                                                                                                                                                                                                                                                                                                                                                                                                                                                                                                                                                                                                                                                                                                                                                                                                                    horrible horrible horrible horrible horrible horrible horrible horrible horrible horrible horrible horrible horrible horrible horrible horrible horrible horrible horrible horrible horrible horrible horrible horrible horrible horrible horrible horrible horrible horrible horrible horrible horrible horrible horrible horrible horrible horrible horrible horrible horrible horrible horrible horrible horrible horrible horrible horrible horrible horrible horrible horrible horrible horrible horrible horrible horrible horrible horrible horrible horrible horrible horrible horrible horrible horrible horrible horrible horrible horrible horrible horrible horrible horrible horrible horrible horrible horrible horrible horrible horrible horrible horrible horrible horrible horrible horrible horrible gahhhhhhhhhhhhhhhh   \n",
       "\n",
       "          Source  Sentiment  Topic  \n",
       "1313  Trustpilot    -0.9961      1  \n",
       "2309  Trustpilot    -0.9962      1  \n",
       "3706  Trustpilot    -0.9998      1  "
      ]
     },
     "execution_count": 33,
     "metadata": {},
     "output_type": "execute_result"
    }
   ],
   "source": [
    "# Top 3 worst reviews\n",
    "df.sort_values(by = 'Sentiment', ascending = False).tail(3)"
   ]
  },
  {
   "cell_type": "code",
   "execution_count": 34,
   "id": "b8987b7b",
   "metadata": {},
   "outputs": [],
   "source": [
    "df_trustpilot = df"
   ]
  },
  {
   "cell_type": "markdown",
   "id": "ba78eeb8",
   "metadata": {},
   "source": [
    "### From Reddit:"
   ]
  },
  {
   "cell_type": "code",
   "execution_count": 35,
   "id": "3edb1ac9",
   "metadata": {},
   "outputs": [
    {
     "data": {
      "text/html": [
       "<div>\n",
       "<style scoped>\n",
       "    .dataframe tbody tr th:only-of-type {\n",
       "        vertical-align: middle;\n",
       "    }\n",
       "\n",
       "    .dataframe tbody tr th {\n",
       "        vertical-align: top;\n",
       "    }\n",
       "\n",
       "    .dataframe thead th {\n",
       "        text-align: right;\n",
       "    }\n",
       "</style>\n",
       "<table border=\"1\" class=\"dataframe\">\n",
       "  <thead>\n",
       "    <tr style=\"text-align: right;\">\n",
       "      <th></th>\n",
       "      <th>Reviews</th>\n",
       "      <th>Source</th>\n",
       "    </tr>\n",
       "  </thead>\n",
       "  <tbody>\n",
       "    <tr>\n",
       "      <th>0</th>\n",
       "      <td>I had two parcels that had arrived in Mississauga customs on April 10th. They were just released this morning and scanned with Canada Post Mississauga. 26 days in customs in case anyone is wondering.</td>\n",
       "      <td>Reddit</td>\n",
       "    </tr>\n",
       "    <tr>\n",
       "      <th>1</th>\n",
       "      <td>Waiting for my package to be delivered - it says item accepted at post office @ Toronto on May 25th 7:31pm</td>\n",
       "      <td>Reddit</td>\n",
       "    </tr>\n",
       "    <tr>\n",
       "      <th>2</th>\n",
       "      <td>Odds of lettermail showing up after a month?</td>\n",
       "      <td>Reddit</td>\n",
       "    </tr>\n",
       "  </tbody>\n",
       "</table>\n",
       "</div>"
      ],
      "text/plain": [
       "                                                                                                                                                                                                   Reviews  \\\n",
       "0  I had two parcels that had arrived in Mississauga customs on April 10th. They were just released this morning and scanned with Canada Post Mississauga. 26 days in customs in case anyone is wondering.   \n",
       "1                                                                                               Waiting for my package to be delivered - it says item accepted at post office @ Toronto on May 25th 7:31pm   \n",
       "2                                                                                                                                                             Odds of lettermail showing up after a month?   \n",
       "\n",
       "   Source  \n",
       "0  Reddit  \n",
       "1  Reddit  \n",
       "2  Reddit  "
      ]
     },
     "execution_count": 35,
     "metadata": {},
     "output_type": "execute_result"
    }
   ],
   "source": [
    "# Load the dataset\n",
    "df = pd.read_csv(\"reviews_reddit_Canada_Post.csv\")\n",
    "df = df.rename(columns = {'Sender: Unavailable':'Reviews'})\n",
    "df[\"Source\"] = \"Reddit\"\n",
    "df = df.dropna()\n",
    "df.head(3)"
   ]
  },
  {
   "cell_type": "code",
   "execution_count": 36,
   "id": "caa4cddb",
   "metadata": {},
   "outputs": [
    {
     "data": {
      "text/html": [
       "<div>\n",
       "<style scoped>\n",
       "    .dataframe tbody tr th:only-of-type {\n",
       "        vertical-align: middle;\n",
       "    }\n",
       "\n",
       "    .dataframe tbody tr th {\n",
       "        vertical-align: top;\n",
       "    }\n",
       "\n",
       "    .dataframe thead th {\n",
       "        text-align: right;\n",
       "    }\n",
       "</style>\n",
       "<table border=\"1\" class=\"dataframe\">\n",
       "  <thead>\n",
       "    <tr style=\"text-align: right;\">\n",
       "      <th></th>\n",
       "      <th>Reviews</th>\n",
       "      <th>Source</th>\n",
       "      <th>Sentiment</th>\n",
       "      <th>Topic</th>\n",
       "    </tr>\n",
       "  </thead>\n",
       "  <tbody>\n",
       "    <tr>\n",
       "      <th>185</th>\n",
       "      <td>probably the last update for now</td>\n",
       "      <td>Reddit</td>\n",
       "      <td>0.0000</td>\n",
       "      <td>1</td>\n",
       "    </tr>\n",
       "    <tr>\n",
       "      <th>825</th>\n",
       "      <td>taped up mailboxes</td>\n",
       "      <td>Reddit</td>\n",
       "      <td>0.0000</td>\n",
       "      <td>1</td>\n",
       "    </tr>\n",
       "    <tr>\n",
       "      <th>926</th>\n",
       "      <td>conspiracy theory in mail</td>\n",
       "      <td>Reddit</td>\n",
       "      <td>-0.5267</td>\n",
       "      <td>2</td>\n",
       "    </tr>\n",
       "  </tbody>\n",
       "</table>\n",
       "</div>"
      ],
      "text/plain": [
       "                              Reviews  Source  Sentiment  Topic\n",
       "185  probably the last update for now  Reddit     0.0000      1\n",
       "825                taped up mailboxes  Reddit     0.0000      1\n",
       "926         conspiracy theory in mail  Reddit    -0.5267      2"
      ]
     },
     "execution_count": 36,
     "metadata": {},
     "output_type": "execute_result"
    }
   ],
   "source": [
    "# Applying preprocessing to the 'Reviews' column\n",
    "df['Reviews'] = df['Reviews'].apply(preprocess_text)\n",
    "\n",
    "# Sentiment analysis\n",
    "sia = SentimentIntensityAnalyzer()\n",
    "df['Sentiment'] = df['Reviews'].apply(lambda x: sia.polarity_scores(x)['compound'])\n",
    "\n",
    "# Applying TF-IDF vectorization\n",
    "stop_words = stopwords.words('english')\n",
    "vectorizer = TfidfVectorizer(stop_words=stop_words)\n",
    "tfidf_matrix = vectorizer.fit_transform(df['Reviews'])\n",
    "\n",
    "# Performing topic modeling using LDA\n",
    "lda_model = LatentDirichletAllocation(n_components=3, random_state=42)\n",
    "lda_matrix = lda_model.fit_transform(tfidf_matrix)\n",
    "\n",
    "# Finding dominant topic for each review\n",
    "dominant_topic = lda_matrix.argmax(axis=1)\n",
    "df['Topic'] = dominant_topic\n",
    "\n",
    "df.sample(3)"
   ]
  },
  {
   "cell_type": "code",
   "execution_count": 37,
   "id": "b5861a52",
   "metadata": {},
   "outputs": [
    {
     "data": {
      "text/html": [
       "<div>\n",
       "<style scoped>\n",
       "    .dataframe tbody tr th:only-of-type {\n",
       "        vertical-align: middle;\n",
       "    }\n",
       "\n",
       "    .dataframe tbody tr th {\n",
       "        vertical-align: top;\n",
       "    }\n",
       "\n",
       "    .dataframe thead th {\n",
       "        text-align: right;\n",
       "    }\n",
       "</style>\n",
       "<table border=\"1\" class=\"dataframe\">\n",
       "  <thead>\n",
       "    <tr style=\"text-align: right;\">\n",
       "      <th></th>\n",
       "      <th>Reviews</th>\n",
       "      <th>Sentiment</th>\n",
       "    </tr>\n",
       "  </thead>\n",
       "  <tbody>\n",
       "    <tr>\n",
       "      <th>56</th>\n",
       "      <td>i am starting to hate canada post</td>\n",
       "      <td>-0.5719</td>\n",
       "    </tr>\n",
       "    <tr>\n",
       "      <th>568</th>\n",
       "      <td>package stolen from post office</td>\n",
       "      <td>-0.4939</td>\n",
       "    </tr>\n",
       "    <tr>\n",
       "      <th>701</th>\n",
       "      <td>stuck in richmond since the th sal in transit for  days what do i do</td>\n",
       "      <td>-0.2500</td>\n",
       "    </tr>\n",
       "  </tbody>\n",
       "</table>\n",
       "</div>"
      ],
      "text/plain": [
       "                                                                   Reviews  \\\n",
       "56                                       i am starting to hate canada post   \n",
       "568                                        package stolen from post office   \n",
       "701  stuck in richmond since the th sal in transit for  days what do i do    \n",
       "\n",
       "     Sentiment  \n",
       "56     -0.5719  \n",
       "568    -0.4939  \n",
       "701    -0.2500  "
      ]
     },
     "execution_count": 37,
     "metadata": {},
     "output_type": "execute_result"
    }
   ],
   "source": [
    "# Complaint analysis\n",
    "negative_reviews = df[df['Sentiment'] < 0]\n",
    "complaints = negative_reviews[['Reviews','Sentiment']]\n",
    "complaints.sample(3)"
   ]
  },
  {
   "cell_type": "code",
   "execution_count": 38,
   "id": "21acd48d",
   "metadata": {},
   "outputs": [],
   "source": [
    "# Customer service analysis\n",
    "customer_service_reviews = df[df['Reviews'].str.contains('service', case=False)]\n",
    "\n",
    "# User experience analysis\n",
    "waiting_time_reviews = df[df['Reviews'].str.contains('wait', case=False)]\n",
    "convenience_reviews = df[df['Reviews'].str.contains('convenient', case=False)]\n",
    "damages_reviews = df[df['Reviews'].str.contains('damage', case=False)]"
   ]
  },
  {
   "cell_type": "code",
   "execution_count": 39,
   "id": "031e40ca",
   "metadata": {},
   "outputs": [
    {
     "data": {
      "text/html": [
       "<div>\n",
       "<style scoped>\n",
       "    .dataframe tbody tr th:only-of-type {\n",
       "        vertical-align: middle;\n",
       "    }\n",
       "\n",
       "    .dataframe tbody tr th {\n",
       "        vertical-align: top;\n",
       "    }\n",
       "\n",
       "    .dataframe thead th {\n",
       "        text-align: right;\n",
       "    }\n",
       "</style>\n",
       "<table border=\"1\" class=\"dataframe\">\n",
       "  <thead>\n",
       "    <tr style=\"text-align: right;\">\n",
       "      <th></th>\n",
       "      <th>Reviews</th>\n",
       "      <th>Source</th>\n",
       "      <th>Sentiment</th>\n",
       "      <th>Topic</th>\n",
       "    </tr>\n",
       "  </thead>\n",
       "  <tbody>\n",
       "    <tr>\n",
       "      <th>830</th>\n",
       "      <td>got a text this morning saying package was out for delivery then i saw that error ive called cp customer service and filed a ticket whats the odds my package could be returned back to sender</td>\n",
       "      <td>Reddit</td>\n",
       "      <td>-0.4019</td>\n",
       "      <td>0</td>\n",
       "    </tr>\n",
       "    <tr>\n",
       "      <th>939</th>\n",
       "      <td>hold mail service</td>\n",
       "      <td>Reddit</td>\n",
       "      <td>0.0000</td>\n",
       "      <td>0</td>\n",
       "    </tr>\n",
       "    <tr>\n",
       "      <th>429</th>\n",
       "      <td>package stuck on item has been presented to canada border services agency for customs review since april th</td>\n",
       "      <td>Reddit</td>\n",
       "      <td>-0.2500</td>\n",
       "      <td>1</td>\n",
       "    </tr>\n",
       "  </tbody>\n",
       "</table>\n",
       "</div>"
      ],
      "text/plain": [
       "                                                                                                                                                                                            Reviews  \\\n",
       "830  got a text this morning saying package was out for delivery then i saw that error ive called cp customer service and filed a ticket whats the odds my package could be returned back to sender   \n",
       "939                                                                                                                                                                               hold mail service   \n",
       "429                                                                                     package stuck on item has been presented to canada border services agency for customs review since april th   \n",
       "\n",
       "     Source  Sentiment  Topic  \n",
       "830  Reddit    -0.4019      0  \n",
       "939  Reddit     0.0000      0  \n",
       "429  Reddit    -0.2500      1  "
      ]
     },
     "execution_count": 39,
     "metadata": {},
     "output_type": "execute_result"
    }
   ],
   "source": [
    "customer_service_reviews.sample(3)"
   ]
  },
  {
   "cell_type": "code",
   "execution_count": 40,
   "id": "3b374483",
   "metadata": {},
   "outputs": [
    {
     "data": {
      "text/html": [
       "<div>\n",
       "<style scoped>\n",
       "    .dataframe tbody tr th:only-of-type {\n",
       "        vertical-align: middle;\n",
       "    }\n",
       "\n",
       "    .dataframe tbody tr th {\n",
       "        vertical-align: top;\n",
       "    }\n",
       "\n",
       "    .dataframe thead th {\n",
       "        text-align: right;\n",
       "    }\n",
       "</style>\n",
       "<table border=\"1\" class=\"dataframe\">\n",
       "  <thead>\n",
       "    <tr style=\"text-align: right;\">\n",
       "      <th></th>\n",
       "      <th>Reviews</th>\n",
       "      <th>Source</th>\n",
       "      <th>Sentiment</th>\n",
       "      <th>Topic</th>\n",
       "    </tr>\n",
       "  </thead>\n",
       "  <tbody>\n",
       "    <tr>\n",
       "      <th>744</th>\n",
       "      <td>how long does mail wait in the mailbox</td>\n",
       "      <td>Reddit</td>\n",
       "      <td>0.0000</td>\n",
       "      <td>2</td>\n",
       "    </tr>\n",
       "    <tr>\n",
       "      <th>709</th>\n",
       "      <td>this was canada posts response to my lost amazon return again although i mentioned this to amazon they have just told me its not processed and that i must wait until febuary been almost three weeks</td>\n",
       "      <td>Reddit</td>\n",
       "      <td>0.0258</td>\n",
       "      <td>2</td>\n",
       "    </tr>\n",
       "    <tr>\n",
       "      <th>894</th>\n",
       "      <td>delayed waiting for updates</td>\n",
       "      <td>Reddit</td>\n",
       "      <td>-0.2263</td>\n",
       "      <td>2</td>\n",
       "    </tr>\n",
       "  </tbody>\n",
       "</table>\n",
       "</div>"
      ],
      "text/plain": [
       "                                                                                                                                                                                                   Reviews  \\\n",
       "744                                                                                                                                                                 how long does mail wait in the mailbox   \n",
       "709  this was canada posts response to my lost amazon return again although i mentioned this to amazon they have just told me its not processed and that i must wait until febuary been almost three weeks   \n",
       "894                                                                                                                                                                            delayed waiting for updates   \n",
       "\n",
       "     Source  Sentiment  Topic  \n",
       "744  Reddit     0.0000      2  \n",
       "709  Reddit     0.0258      2  \n",
       "894  Reddit    -0.2263      2  "
      ]
     },
     "execution_count": 40,
     "metadata": {},
     "output_type": "execute_result"
    }
   ],
   "source": [
    "waiting_time_reviews.sample(3)"
   ]
  },
  {
   "cell_type": "code",
   "execution_count": 41,
   "id": "ef282863",
   "metadata": {},
   "outputs": [
    {
     "data": {
      "text/html": [
       "<div>\n",
       "<style scoped>\n",
       "    .dataframe tbody tr th:only-of-type {\n",
       "        vertical-align: middle;\n",
       "    }\n",
       "\n",
       "    .dataframe tbody tr th {\n",
       "        vertical-align: top;\n",
       "    }\n",
       "\n",
       "    .dataframe thead th {\n",
       "        text-align: right;\n",
       "    }\n",
       "</style>\n",
       "<table border=\"1\" class=\"dataframe\">\n",
       "  <thead>\n",
       "    <tr style=\"text-align: right;\">\n",
       "      <th></th>\n",
       "      <th>Reviews</th>\n",
       "      <th>Source</th>\n",
       "      <th>Sentiment</th>\n",
       "      <th>Topic</th>\n",
       "    </tr>\n",
       "  </thead>\n",
       "  <tbody>\n",
       "    <tr>\n",
       "      <th>179</th>\n",
       "      <td>canada post is literally the most inconvenient courier in the world</td>\n",
       "      <td>Reddit</td>\n",
       "      <td>-0.4005</td>\n",
       "      <td>0</td>\n",
       "    </tr>\n",
       "  </tbody>\n",
       "</table>\n",
       "</div>"
      ],
      "text/plain": [
       "                                                                 Reviews  \\\n",
       "179  canada post is literally the most inconvenient courier in the world   \n",
       "\n",
       "     Source  Sentiment  Topic  \n",
       "179  Reddit    -0.4005      0  "
      ]
     },
     "execution_count": 41,
     "metadata": {},
     "output_type": "execute_result"
    }
   ],
   "source": [
    "convenience_reviews.sample()"
   ]
  },
  {
   "cell_type": "code",
   "execution_count": 42,
   "id": "97c749dd",
   "metadata": {},
   "outputs": [
    {
     "data": {
      "text/html": [
       "<div>\n",
       "<style scoped>\n",
       "    .dataframe tbody tr th:only-of-type {\n",
       "        vertical-align: middle;\n",
       "    }\n",
       "\n",
       "    .dataframe tbody tr th {\n",
       "        vertical-align: top;\n",
       "    }\n",
       "\n",
       "    .dataframe thead th {\n",
       "        text-align: right;\n",
       "    }\n",
       "</style>\n",
       "<table border=\"1\" class=\"dataframe\">\n",
       "  <thead>\n",
       "    <tr style=\"text-align: right;\">\n",
       "      <th></th>\n",
       "      <th>Reviews</th>\n",
       "      <th>Source</th>\n",
       "      <th>Sentiment</th>\n",
       "      <th>Topic</th>\n",
       "    </tr>\n",
       "  </thead>\n",
       "  <tbody>\n",
       "    <tr>\n",
       "      <th>150</th>\n",
       "      <td>damaged package influx</td>\n",
       "      <td>Reddit</td>\n",
       "      <td>-0.4404</td>\n",
       "      <td>2</td>\n",
       "    </tr>\n",
       "    <tr>\n",
       "      <th>672</th>\n",
       "      <td>had an insured item that was damaged in delivery canada post saying they cant contact buyer so they cant proceed with refund</td>\n",
       "      <td>Reddit</td>\n",
       "      <td>-0.4404</td>\n",
       "      <td>2</td>\n",
       "    </tr>\n",
       "    <tr>\n",
       "      <th>891</th>\n",
       "      <td>how to handle a previous owners letter thats been severely damaged at reception</td>\n",
       "      <td>Reddit</td>\n",
       "      <td>-0.7096</td>\n",
       "      <td>1</td>\n",
       "    </tr>\n",
       "  </tbody>\n",
       "</table>\n",
       "</div>"
      ],
      "text/plain": [
       "                                                                                                                          Reviews  \\\n",
       "150                                                                                                        damaged package influx   \n",
       "672  had an insured item that was damaged in delivery canada post saying they cant contact buyer so they cant proceed with refund   \n",
       "891                                               how to handle a previous owners letter thats been severely damaged at reception   \n",
       "\n",
       "     Source  Sentiment  Topic  \n",
       "150  Reddit    -0.4404      2  \n",
       "672  Reddit    -0.4404      2  \n",
       "891  Reddit    -0.7096      1  "
      ]
     },
     "execution_count": 42,
     "metadata": {},
     "output_type": "execute_result"
    }
   ],
   "source": [
    "damages_reviews.sample(3)"
   ]
  },
  {
   "cell_type": "code",
   "execution_count": 43,
   "id": "e2117b55",
   "metadata": {},
   "outputs": [
    {
     "name": "stdout",
     "output_type": "stream",
     "text": [
      "Overall Sentiment: -0.0598\n",
      "Complaints: -0.3638\n",
      "Customer Service Reviews: -0.1255\n",
      "Waiting Time Reviews:  0.0243\n",
      "Convenience Reviews: -0.4005\n",
      "Damages Reviews: -0.5301\n"
     ]
    }
   ],
   "source": [
    "avg_overall_sent     = df['Sentiment'].mean()\n",
    "avg_complaint_sent   = complaints['Sentiment'].mean()\n",
    "avg_customer_sent    = customer_service_reviews['Sentiment'].mean()\n",
    "avg_wait_sent        =  waiting_time_reviews['Sentiment'].mean()\n",
    "avg_convenience_sent = convenience_reviews['Sentiment'].mean()\n",
    "avg_damage_sent      = damages_reviews['Sentiment'].mean()\n",
    "\n",
    "# Output\n",
    "print(f\"Overall Sentiment: { avg_overall_sent : .4f}\")\n",
    "print(f\"Complaints: { avg_complaint_sent : .4f}\")\n",
    "print(f\"Customer Service Reviews: { avg_customer_sent : .4f}\")\n",
    "print(f\"Waiting Time Reviews: { avg_wait_sent : .4f}\")\n",
    "print(f\"Convenience Reviews: { avg_convenience_sent : .4f}\")\n",
    "print(f\"Damages Reviews: { avg_damage_sent : .4f}\")"
   ]
  },
  {
   "cell_type": "code",
   "execution_count": 44,
   "id": "c3d2e01a",
   "metadata": {},
   "outputs": [
    {
     "data": {
      "image/png": "[encoded data removed]",
      "text/plain": [
       "<Figure size 500x400 with 1 Axes>"
      ]
     },
     "metadata": {},
     "output_type": "display_data"
    }
   ],
   "source": [
    "labels = ['Overall', \n",
    "          'Complaints', \n",
    "          'Customer Service',\n",
    "          'Waiting Time',\n",
    "          'Convenience',\n",
    "          'Damages' \n",
    "         ]\n",
    "\n",
    "data =  [avg_overall_sent, \n",
    "         avg_complaint_sent, \n",
    "         avg_customer_sent,\n",
    "         avg_wait_sent,\n",
    "         avg_convenience_sent,\n",
    "         avg_damage_sent\n",
    "         ]\n",
    "\n",
    "plt.figure(figsize = (5, 4))\n",
    "\n",
    "sns.barplot(x=labels, y=data)\n",
    "plt.ylabel('Sentiment')\n",
    "plt.title('Sentiment by topic - Canada Post in Reddit')\n",
    "plt.xticks(rotation=45)\n",
    "plt.grid(axis='y', linestyle='--', alpha=0.6)\n",
    "\n",
    "plt.show()"
   ]
  },
  {
   "cell_type": "code",
   "execution_count": 45,
   "id": "a5da2c26",
   "metadata": {},
   "outputs": [
    {
     "name": "stdout",
     "output_type": "stream",
     "text": [
      "Percentage of positive reviews:  16.53%\n",
      "Percentage of neutral reviews:  52.02%\n",
      "Percentage of negative reviews:  31.45%\n"
     ]
    }
   ],
   "source": [
    "percentage_positive_rev = df[df['Sentiment'] > 0].shape[0] / df.shape[0] * 100\n",
    "percentage_neutral_rev = df[df['Sentiment'] == 0].shape[0] / df.shape[0] * 100\n",
    "percentage_negative_rev = df[df['Sentiment'] < 0].shape[0] / df.shape[0] * 100\n",
    "\n",
    "print(f\"Percentage of positive reviews: {percentage_positive_rev : .2f}%\")\n",
    "print(f\"Percentage of neutral reviews: {percentage_neutral_rev : .2f}%\")\n",
    "print(f\"Percentage of negative reviews: {percentage_negative_rev : .2f}%\")"
   ]
  },
  {
   "cell_type": "code",
   "execution_count": 46,
   "id": "24838e2e",
   "metadata": {},
   "outputs": [
    {
     "data": {
      "image/png": "[encoded data removed]",
      "text/plain": [
       "<Figure size 400x300 with 1 Axes>"
      ]
     },
     "metadata": {},
     "output_type": "display_data"
    }
   ],
   "source": [
    "labels = ['Positive Revs', 'Neutral Rev', 'Negative Rev']\n",
    "\n",
    "data = [percentage_positive_rev, \n",
    "        percentage_neutral_rev, \n",
    "        percentage_negative_rev]\n",
    "\n",
    "plt.figure(figsize = (4, 3))\n",
    "\n",
    "sns.barplot(x=labels, y=data)\n",
    "plt.ylabel('Percentage')\n",
    "plt.title('Sentiment - Canada Post in Reddit')\n",
    "plt.show()"
   ]
  },
  {
   "cell_type": "code",
   "execution_count": 47,
   "id": "ec5146b7",
   "metadata": {},
   "outputs": [
    {
     "data": {
      "text/html": [
       "<div>\n",
       "<style scoped>\n",
       "    .dataframe tbody tr th:only-of-type {\n",
       "        vertical-align: middle;\n",
       "    }\n",
       "\n",
       "    .dataframe tbody tr th {\n",
       "        vertical-align: top;\n",
       "    }\n",
       "\n",
       "    .dataframe thead th {\n",
       "        text-align: right;\n",
       "    }\n",
       "</style>\n",
       "<table border=\"1\" class=\"dataframe\">\n",
       "  <thead>\n",
       "    <tr style=\"text-align: right;\">\n",
       "      <th></th>\n",
       "      <th>Reviews</th>\n",
       "      <th>Source</th>\n",
       "      <th>Sentiment</th>\n",
       "      <th>Topic</th>\n",
       "    </tr>\n",
       "  </thead>\n",
       "  <tbody>\n",
       "    <tr>\n",
       "      <th>664</th>\n",
       "      <td>cheer me up with your best late package story  mine has been missing  weeks and i want to believe there is hope it may still show up</td>\n",
       "      <td>Reddit</td>\n",
       "      <td>0.8591</td>\n",
       "      <td>0</td>\n",
       "    </tr>\n",
       "    <tr>\n",
       "      <th>480</th>\n",
       "      <td>what steps can i take to confirm my address and make sure i can pickup or receive my parcel it is very time sensitive im positive it was shipped to the correct address never had this happen before thank you</td>\n",
       "      <td>Reddit</td>\n",
       "      <td>0.8126</td>\n",
       "      <td>2</td>\n",
       "    </tr>\n",
       "    <tr>\n",
       "      <th>151</th>\n",
       "      <td>what the heck this is the second day a row they do this weather is perfectly clear out here non sense</td>\n",
       "      <td>Reddit</td>\n",
       "      <td>0.7783</td>\n",
       "      <td>1</td>\n",
       "    </tr>\n",
       "  </tbody>\n",
       "</table>\n",
       "</div>"
      ],
      "text/plain": [
       "                                                                                                                                                                                                            Reviews  \\\n",
       "664                                                                            cheer me up with your best late package story  mine has been missing  weeks and i want to believe there is hope it may still show up   \n",
       "480  what steps can i take to confirm my address and make sure i can pickup or receive my parcel it is very time sensitive im positive it was shipped to the correct address never had this happen before thank you   \n",
       "151                                                                                                           what the heck this is the second day a row they do this weather is perfectly clear out here non sense   \n",
       "\n",
       "     Source  Sentiment  Topic  \n",
       "664  Reddit     0.8591      0  \n",
       "480  Reddit     0.8126      2  \n",
       "151  Reddit     0.7783      1  "
      ]
     },
     "execution_count": 47,
     "metadata": {},
     "output_type": "execute_result"
    }
   ],
   "source": [
    "# Top 3 best reviews\n",
    "df.sort_values(by = 'Sentiment', ascending = False).head(3)"
   ]
  },
  {
   "cell_type": "code",
   "execution_count": 48,
   "id": "38848bdd",
   "metadata": {},
   "outputs": [
    {
     "data": {
      "text/html": [
       "<div>\n",
       "<style scoped>\n",
       "    .dataframe tbody tr th:only-of-type {\n",
       "        vertical-align: middle;\n",
       "    }\n",
       "\n",
       "    .dataframe tbody tr th {\n",
       "        vertical-align: top;\n",
       "    }\n",
       "\n",
       "    .dataframe thead th {\n",
       "        text-align: right;\n",
       "    }\n",
       "</style>\n",
       "<table border=\"1\" class=\"dataframe\">\n",
       "  <thead>\n",
       "    <tr style=\"text-align: right;\">\n",
       "      <th></th>\n",
       "      <th>Reviews</th>\n",
       "      <th>Source</th>\n",
       "      <th>Sentiment</th>\n",
       "      <th>Topic</th>\n",
       "    </tr>\n",
       "  </thead>\n",
       "  <tbody>\n",
       "    <tr>\n",
       "      <th>79</th>\n",
       "      <td>so why the hell arent we allowed to pay duties and taxes online anymore</td>\n",
       "      <td>Reddit</td>\n",
       "      <td>-0.7402</td>\n",
       "      <td>2</td>\n",
       "    </tr>\n",
       "    <tr>\n",
       "      <th>208</th>\n",
       "      <td>whats the point of having a delivery standard if it is never followed how is it called a standard when it never fucking happens express post is supposed to take  days it always takes a fucking week ridiculous bullshit</td>\n",
       "      <td>Reddit</td>\n",
       "      <td>-0.7809</td>\n",
       "      <td>0</td>\n",
       "    </tr>\n",
       "    <tr>\n",
       "      <th>372</th>\n",
       "      <td>been recieving these sometimes im expecting some canada post pkgs but i dont know if this is a scam or a legitimate attempt to contact gut tells me scam</td>\n",
       "      <td>Reddit</td>\n",
       "      <td>-0.9022</td>\n",
       "      <td>2</td>\n",
       "    </tr>\n",
       "  </tbody>\n",
       "</table>\n",
       "</div>"
      ],
      "text/plain": [
       "                                                                                                                                                                                                                       Reviews  \\\n",
       "79                                                                                                                                                     so why the hell arent we allowed to pay duties and taxes online anymore   \n",
       "208  whats the point of having a delivery standard if it is never followed how is it called a standard when it never fucking happens express post is supposed to take  days it always takes a fucking week ridiculous bullshit   \n",
       "372                                                                   been recieving these sometimes im expecting some canada post pkgs but i dont know if this is a scam or a legitimate attempt to contact gut tells me scam   \n",
       "\n",
       "     Source  Sentiment  Topic  \n",
       "79   Reddit    -0.7402      2  \n",
       "208  Reddit    -0.7809      0  \n",
       "372  Reddit    -0.9022      2  "
      ]
     },
     "execution_count": 48,
     "metadata": {},
     "output_type": "execute_result"
    }
   ],
   "source": [
    "# Top 3 worst reviews\n",
    "df.sort_values(by = 'Sentiment', ascending = False).tail(3)"
   ]
  },
  {
   "cell_type": "code",
   "execution_count": 49,
   "id": "ad27ee4b",
   "metadata": {},
   "outputs": [],
   "source": [
    "df_reddit = df"
   ]
  },
  {
   "cell_type": "code",
   "execution_count": 50,
   "id": "e4ed86d5",
   "metadata": {},
   "outputs": [],
   "source": [
    "df = pd.concat([df_google, df_trustpilot, df_reddit], ignore_index = True)"
   ]
  },
  {
   "cell_type": "code",
   "execution_count": 51,
   "id": "63734970",
   "metadata": {},
   "outputs": [],
   "source": [
    "df.to_csv('Canada Post consolidated.csv', index = False)"
   ]
  }
 ],
 "metadata": {
  "kernelspec": {
   "display_name": "Python 3 (ipykernel)",
   "language": "python",
   "name": "python3"
  },
  "language_info": {
   "codemirror_mode": {
    "name": "ipython",
    "version": 3
   },
   "file_extension": ".py",
   "mimetype": "text/x-python",
   "name": "python",
   "nbconvert_exporter": "python",
   "pygments_lexer": "ipython3",
   "version": "3.10.9"
  }
 },
 "nbformat": 4,
 "nbformat_minor": 5
}
