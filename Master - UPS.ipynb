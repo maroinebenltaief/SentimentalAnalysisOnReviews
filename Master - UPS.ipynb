{
 "cells": [
  {
   "cell_type": "code",
   "execution_count": 1,
   "id": "29a1b9a0",
   "metadata": {},
   "outputs": [],
   "source": [
    "import pandas as pd\n",
    "import re\n",
    "import nltk\n",
    "from nltk.corpus import stopwords\n",
    "from nltk.sentiment import SentimentIntensityAnalyzer\n",
    "from sklearn.feature_extraction.text import TfidfVectorizer\n",
    "from sklearn.decomposition import LatentDirichletAllocation\n",
    "\n",
    "import seaborn as sns\n",
    "import matplotlib.pyplot as plt\n",
    "\n",
    "pd.set_option('display.max_colwidth', None)"
   ]
  },
  {
   "cell_type": "markdown",
   "id": "4aa8506b",
   "metadata": {},
   "source": [
    "### From google reviews:"
   ]
  },
  {
   "cell_type": "code",
   "execution_count": 2,
   "id": "86dd83fe",
   "metadata": {
    "scrolled": true
   },
   "outputs": [
    {
     "data": {
      "text/html": [
       "<div>\n",
       "<style scoped>\n",
       "    .dataframe tbody tr th:only-of-type {\n",
       "        vertical-align: middle;\n",
       "    }\n",
       "\n",
       "    .dataframe tbody tr th {\n",
       "        vertical-align: top;\n",
       "    }\n",
       "\n",
       "    .dataframe thead th {\n",
       "        text-align: right;\n",
       "    }\n",
       "</style>\n",
       "<table border=\"1\" class=\"dataframe\">\n",
       "  <thead>\n",
       "    <tr style=\"text-align: right;\">\n",
       "      <th></th>\n",
       "      <th>Reviews</th>\n",
       "      <th>Source</th>\n",
       "    </tr>\n",
       "  </thead>\n",
       "  <tbody>\n",
       "    <tr>\n",
       "      <th>0</th>\n",
       "      <td>Daxeshkumar Patel was so very patient and very helpful for doing all our needs to be perfectly done. We are so very thankful to him to finished all our requirements on his store. He was so very kind hearted to connect us to his internet. God bless him to all his work! He was so approachable and smiling with his staff at work. We really appreciate all his kind and good work!!! Keep helping to others sir! We will make sure to came back again and recommend to our friends. God bless sir Daxeshkumar Patel!!! And thank you also to his Manager  Khalid Mankal! You are lucky to have them with you in your store!!!</td>\n",
       "      <td>Google reviews</td>\n",
       "    </tr>\n",
       "    <tr>\n",
       "      <th>1</th>\n",
       "      <td>I'm a local author and this store has been here for pretty much all of my personal and professional print needs for the last few years now. While I've never closely compared prices between stores/businesses, the times I have checked the prices have been comparable, while I feel I get a better level of service from the knowledgeable and friendly staff, as well as a better quality product, when I have signs, photos, and business cards made here. I've never had any negative experiences - keep up the great work!</td>\n",
       "      <td>Google reviews</td>\n",
       "    </tr>\n",
       "    <tr>\n",
       "      <th>2</th>\n",
       "      <td>I would like to thank Khalid Mankal for all of his time and effort in providing the best service ever.  So caring and understanding with three fragile shipments that were taken care of.  I would use UPS store #25  managed by Khalid Mankal any time.  So efficient .  There are not enough words to express my appreciation and gratitude.  P. Maxwell.</td>\n",
       "      <td>Google reviews</td>\n",
       "    </tr>\n",
       "  </tbody>\n",
       "</table>\n",
       "</div>"
      ],
      "text/plain": [
       "                                                                                                                                                                                                                                                                                                                                                                                                                                                                                                                                                                                                                               Reviews  \\\n",
       "0  Daxeshkumar Patel was so very patient and very helpful for doing all our needs to be perfectly done. We are so very thankful to him to finished all our requirements on his store. He was so very kind hearted to connect us to his internet. God bless him to all his work! He was so approachable and smiling with his staff at work. We really appreciate all his kind and good work!!! Keep helping to others sir! We will make sure to came back again and recommend to our friends. God bless sir Daxeshkumar Patel!!! And thank you also to his Manager  Khalid Mankal! You are lucky to have them with you in your store!!!   \n",
       "1                                                                                                    I'm a local author and this store has been here for pretty much all of my personal and professional print needs for the last few years now. While I've never closely compared prices between stores/businesses, the times I have checked the prices have been comparable, while I feel I get a better level of service from the knowledgeable and friendly staff, as well as a better quality product, when I have signs, photos, and business cards made here. I've never had any negative experiences - keep up the great work!   \n",
       "2                                                                                                                                                                                                                                                                          I would like to thank Khalid Mankal for all of his time and effort in providing the best service ever.  So caring and understanding with three fragile shipments that were taken care of.  I would use UPS store #25  managed by Khalid Mankal any time.  So efficient .  There are not enough words to express my appreciation and gratitude.  P. Maxwell.   \n",
       "\n",
       "           Source  \n",
       "0  Google reviews  \n",
       "1  Google reviews  \n",
       "2  Google reviews  "
      ]
     },
     "execution_count": 2,
     "metadata": {},
     "output_type": "execute_result"
    }
   ],
   "source": [
    "# Load the dataset\n",
    "df = pd.read_csv(\"upsgooglereviews_cleaned.csv\")\n",
    "df.rename(columns = {'REVIEWS':'Reviews'}, inplace = True)\n",
    "\n",
    "df[\"Source\"] = \"Google reviews\"\n",
    "df = df[[\"Reviews\", \"Source\"]]\n",
    "df = df.dropna()\n",
    "df.head(3)"
   ]
  },
  {
   "cell_type": "code",
   "execution_count": 3,
   "id": "a8d169c9",
   "metadata": {},
   "outputs": [],
   "source": [
    "def preprocess_text(text):\n",
    "    if isinstance(text, str):\n",
    "        \n",
    "        text = text.lower() # Convert to lowercase       \n",
    "        text = re.sub(r'[^a-zA-Z\\s]', '', text) # Remove special characters and digits\n",
    "        \n",
    "    return text"
   ]
  },
  {
   "cell_type": "code",
   "execution_count": 4,
   "id": "c6abe492",
   "metadata": {},
   "outputs": [],
   "source": [
    "# Applying preprocessing to the 'Reviews' column\n",
    "df['Reviews'] = df['Reviews'].apply(preprocess_text)"
   ]
  },
  {
   "cell_type": "code",
   "execution_count": 5,
   "id": "6d3c147b",
   "metadata": {},
   "outputs": [],
   "source": [
    "# Sentiment analysis\n",
    "sia = SentimentIntensityAnalyzer()\n",
    "df['Sentiment'] = df['Reviews'].apply(lambda x: sia.polarity_scores(x)['compound'])"
   ]
  },
  {
   "cell_type": "code",
   "execution_count": 6,
   "id": "11ef6018",
   "metadata": {},
   "outputs": [],
   "source": [
    "# Applying TF-IDF vectorization\n",
    "stop_words = stopwords.words('english')\n",
    "vectorizer = TfidfVectorizer(stop_words=stop_words)\n",
    "tfidf_matrix = vectorizer.fit_transform(df['Reviews'])"
   ]
  },
  {
   "cell_type": "code",
   "execution_count": 7,
   "id": "6e1ed2d2",
   "metadata": {},
   "outputs": [],
   "source": [
    "# Performing topic modeling using LDA\n",
    "lda_model = LatentDirichletAllocation(n_components=3, random_state=42)\n",
    "lda_matrix = lda_model.fit_transform(tfidf_matrix)"
   ]
  },
  {
   "cell_type": "code",
   "execution_count": 8,
   "id": "c226b36c",
   "metadata": {},
   "outputs": [],
   "source": [
    "# Finding dominant topic for each review\n",
    "dominant_topic = lda_matrix.argmax(axis=1)\n",
    "df['Topic'] = dominant_topic"
   ]
  },
  {
   "cell_type": "code",
   "execution_count": 9,
   "id": "a808a28a",
   "metadata": {
    "scrolled": true
   },
   "outputs": [
    {
     "data": {
      "text/html": [
       "<div>\n",
       "<style scoped>\n",
       "    .dataframe tbody tr th:only-of-type {\n",
       "        vertical-align: middle;\n",
       "    }\n",
       "\n",
       "    .dataframe tbody tr th {\n",
       "        vertical-align: top;\n",
       "    }\n",
       "\n",
       "    .dataframe thead th {\n",
       "        text-align: right;\n",
       "    }\n",
       "</style>\n",
       "<table border=\"1\" class=\"dataframe\">\n",
       "  <thead>\n",
       "    <tr style=\"text-align: right;\">\n",
       "      <th></th>\n",
       "      <th>Reviews</th>\n",
       "      <th>Sentiment</th>\n",
       "    </tr>\n",
       "  </thead>\n",
       "  <tbody>\n",
       "    <tr>\n",
       "      <th>345</th>\n",
       "      <td>i hate the staff here they left a laptop i was shipping on the counter and watched them place a large package right on top of it</td>\n",
       "      <td>-0.4404</td>\n",
       "    </tr>\n",
       "    <tr>\n",
       "      <th>347</th>\n",
       "      <td>poor service  processing fee for print ridiculous rip off</td>\n",
       "      <td>-0.6808</td>\n",
       "    </tr>\n",
       "    <tr>\n",
       "      <th>107</th>\n",
       "      <td>the lady who is working on mar  in the early morning shift was extremely rude and does not know how to respect customerimpatient rudewill not visit this location anymore</td>\n",
       "      <td>-0.0498</td>\n",
       "    </tr>\n",
       "  </tbody>\n",
       "</table>\n",
       "</div>"
      ],
      "text/plain": [
       "                                                                                                                                                                       Reviews  \\\n",
       "345                                           i hate the staff here they left a laptop i was shipping on the counter and watched them place a large package right on top of it   \n",
       "347                                                                                                                  poor service  processing fee for print ridiculous rip off   \n",
       "107  the lady who is working on mar  in the early morning shift was extremely rude and does not know how to respect customerimpatient rudewill not visit this location anymore   \n",
       "\n",
       "     Sentiment  \n",
       "345    -0.4404  \n",
       "347    -0.6808  \n",
       "107    -0.0498  "
      ]
     },
     "execution_count": 9,
     "metadata": {},
     "output_type": "execute_result"
    }
   ],
   "source": [
    "# Complaint analysis\n",
    "negative_reviews = df[df['Sentiment'] < 0]\n",
    "complaints = negative_reviews[['Reviews','Sentiment']]\n",
    "complaints.sample(3)"
   ]
  },
  {
   "cell_type": "code",
   "execution_count": 10,
   "id": "8f0e35d7",
   "metadata": {},
   "outputs": [],
   "source": [
    "# Customer service analysis\n",
    "customer_service_reviews = df[df['Reviews'].str.contains('service', case=False)]\n",
    "\n",
    "# User experience analysis\n",
    "waiting_time_reviews = df[df['Reviews'].str.contains('wait', case=False)]\n",
    "convenience_reviews = df[df['Reviews'].str.contains('convenient', case=False)]\n",
    "damages_reviews = df[df['Reviews'].str.contains('damage', case=False)]"
   ]
  },
  {
   "cell_type": "code",
   "execution_count": 11,
   "id": "677dd14b",
   "metadata": {
    "scrolled": true
   },
   "outputs": [
    {
     "data": {
      "text/html": [
       "<div>\n",
       "<style scoped>\n",
       "    .dataframe tbody tr th:only-of-type {\n",
       "        vertical-align: middle;\n",
       "    }\n",
       "\n",
       "    .dataframe tbody tr th {\n",
       "        vertical-align: top;\n",
       "    }\n",
       "\n",
       "    .dataframe thead th {\n",
       "        text-align: right;\n",
       "    }\n",
       "</style>\n",
       "<table border=\"1\" class=\"dataframe\">\n",
       "  <thead>\n",
       "    <tr style=\"text-align: right;\">\n",
       "      <th></th>\n",
       "      <th>Reviews</th>\n",
       "      <th>Source</th>\n",
       "      <th>Sentiment</th>\n",
       "      <th>Topic</th>\n",
       "    </tr>\n",
       "  </thead>\n",
       "  <tbody>\n",
       "    <tr>\n",
       "      <th>7</th>\n",
       "      <td>amazing servicehad my business cards printed within  hrs highly recommend</td>\n",
       "      <td>Google reviews</td>\n",
       "      <td>0.7645</td>\n",
       "      <td>0</td>\n",
       "    </tr>\n",
       "    <tr>\n",
       "      <th>264</th>\n",
       "      <td>i went to ups at  bloor west to get both canadian and irish passport photos they told me that the canadian size was uncommon so they looked up to see the correct size for the irish photos later i discovered on the irish embassy site that it was advised that i use digital photos so i called them to ask if that could be done nabila told me that if i emailed her a picture of the photo on her personal phone so as to be sure that they sent me the right one she would forward that and my email address to iman and he would email the electronic version to me in the morning a few minutes later nabila called me back  just after  when the store had closed  to say that they had found the correct photo and that it would be emailed asap great service thanks</td>\n",
       "      <td>Google reviews</td>\n",
       "      <td>0.8519</td>\n",
       "      <td>0</td>\n",
       "    </tr>\n",
       "    <tr>\n",
       "      <th>173</th>\n",
       "      <td>very convenient and all kinds of services</td>\n",
       "      <td>Google reviews</td>\n",
       "      <td>0.0000</td>\n",
       "      <td>0</td>\n",
       "    </tr>\n",
       "  </tbody>\n",
       "</table>\n",
       "</div>"
      ],
      "text/plain": [
       "                                                                                                                                                                                                                                                                                                                                                                                                                                                                                                                                                                                                                                                                                                                                                                              Reviews  \\\n",
       "7                                                                                                                                                                                                                                                                                                                                                                                                                                                                                                                                                                                                                                                                                                           amazing servicehad my business cards printed within  hrs highly recommend   \n",
       "264  i went to ups at  bloor west to get both canadian and irish passport photos they told me that the canadian size was uncommon so they looked up to see the correct size for the irish photos later i discovered on the irish embassy site that it was advised that i use digital photos so i called them to ask if that could be done nabila told me that if i emailed her a picture of the photo on her personal phone so as to be sure that they sent me the right one she would forward that and my email address to iman and he would email the electronic version to me in the morning a few minutes later nabila called me back  just after  when the store had closed  to say that they had found the correct photo and that it would be emailed asap great service thanks   \n",
       "173                                                                                                                                                                                                                                                                                                                                                                                                                                                                                                                                                                                                                                                                                                                                         very convenient and all kinds of services   \n",
       "\n",
       "             Source  Sentiment  Topic  \n",
       "7    Google reviews     0.7645      0  \n",
       "264  Google reviews     0.8519      0  \n",
       "173  Google reviews     0.0000      0  "
      ]
     },
     "execution_count": 11,
     "metadata": {},
     "output_type": "execute_result"
    }
   ],
   "source": [
    "customer_service_reviews.sample(3)"
   ]
  },
  {
   "cell_type": "code",
   "execution_count": 12,
   "id": "277a5b97",
   "metadata": {
    "scrolled": true
   },
   "outputs": [
    {
     "data": {
      "text/html": [
       "<div>\n",
       "<style scoped>\n",
       "    .dataframe tbody tr th:only-of-type {\n",
       "        vertical-align: middle;\n",
       "    }\n",
       "\n",
       "    .dataframe tbody tr th {\n",
       "        vertical-align: top;\n",
       "    }\n",
       "\n",
       "    .dataframe thead th {\n",
       "        text-align: right;\n",
       "    }\n",
       "</style>\n",
       "<table border=\"1\" class=\"dataframe\">\n",
       "  <thead>\n",
       "    <tr style=\"text-align: right;\">\n",
       "      <th></th>\n",
       "      <th>Reviews</th>\n",
       "      <th>Source</th>\n",
       "      <th>Sentiment</th>\n",
       "      <th>Topic</th>\n",
       "    </tr>\n",
       "  </thead>\n",
       "  <tbody>\n",
       "    <tr>\n",
       "      <th>137</th>\n",
       "      <td>rude is an understatement made me wait unnecessarily in an absolutely empty shop and when i asked about service and another delivery pretty much washed their hands and said to call customer service  isnt customer service about attending to the customer in front of you  apparently not</td>\n",
       "      <td>Google reviews</td>\n",
       "      <td>-0.2247</td>\n",
       "      <td>0</td>\n",
       "    </tr>\n",
       "    <tr>\n",
       "      <th>35</th>\n",
       "      <td>today i arrived at this ups location at am on a monday morning after checking the hours posted on their website on their voice messaging service and on their storefront i was extremely disappointed when the store did not open on time i waited until am in a line up with other customers and then gave up and walked over to the belsize location which was actually open as advertisedunprofessional and unreliable</td>\n",
       "      <td>Google reviews</td>\n",
       "      <td>-0.5256</td>\n",
       "      <td>0</td>\n",
       "    </tr>\n",
       "    <tr>\n",
       "      <th>10</th>\n",
       "      <td>have a ups return label on my phone they charged me  to print the label out to stick it on the box claiming its their paper and their ink apparently the ups store has no way to scan the ups return label and i had to send the label to an ups email address and pay to print it out as a print job this is after waiting around for  minutes while this guy works on printing for another customer without even an eye contact acknowledging that me and  other groups of people are waiting</td>\n",
       "      <td>Google reviews</td>\n",
       "      <td>-0.5267</td>\n",
       "      <td>0</td>\n",
       "    </tr>\n",
       "  </tbody>\n",
       "</table>\n",
       "</div>"
      ],
      "text/plain": [
       "                                                                                                                                                                                                                                                                                                                                                                                                                                                                                             Reviews  \\\n",
       "137                                                                                                                                                                                                     rude is an understatement made me wait unnecessarily in an absolutely empty shop and when i asked about service and another delivery pretty much washed their hands and said to call customer service  isnt customer service about attending to the customer in front of you  apparently not   \n",
       "35                                                                         today i arrived at this ups location at am on a monday morning after checking the hours posted on their website on their voice messaging service and on their storefront i was extremely disappointed when the store did not open on time i waited until am in a line up with other customers and then gave up and walked over to the belsize location which was actually open as advertisedunprofessional and unreliable   \n",
       "10   have a ups return label on my phone they charged me  to print the label out to stick it on the box claiming its their paper and their ink apparently the ups store has no way to scan the ups return label and i had to send the label to an ups email address and pay to print it out as a print job this is after waiting around for  minutes while this guy works on printing for another customer without even an eye contact acknowledging that me and  other groups of people are waiting   \n",
       "\n",
       "             Source  Sentiment  Topic  \n",
       "137  Google reviews    -0.2247      0  \n",
       "35   Google reviews    -0.5256      0  \n",
       "10   Google reviews    -0.5267      0  "
      ]
     },
     "execution_count": 12,
     "metadata": {},
     "output_type": "execute_result"
    }
   ],
   "source": [
    "waiting_time_reviews.sample(3)"
   ]
  },
  {
   "cell_type": "code",
   "execution_count": 13,
   "id": "65cdeea7",
   "metadata": {
    "scrolled": true
   },
   "outputs": [
    {
     "data": {
      "text/html": [
       "<div>\n",
       "<style scoped>\n",
       "    .dataframe tbody tr th:only-of-type {\n",
       "        vertical-align: middle;\n",
       "    }\n",
       "\n",
       "    .dataframe tbody tr th {\n",
       "        vertical-align: top;\n",
       "    }\n",
       "\n",
       "    .dataframe thead th {\n",
       "        text-align: right;\n",
       "    }\n",
       "</style>\n",
       "<table border=\"1\" class=\"dataframe\">\n",
       "  <thead>\n",
       "    <tr style=\"text-align: right;\">\n",
       "      <th></th>\n",
       "      <th>Reviews</th>\n",
       "      <th>Source</th>\n",
       "      <th>Sentiment</th>\n",
       "      <th>Topic</th>\n",
       "    </tr>\n",
       "  </thead>\n",
       "  <tbody>\n",
       "    <tr>\n",
       "      <th>282</th>\n",
       "      <td>this is a store with a very good customer service nazmus is friendly approachable and knowledgeable making it easy to complete your services i had the pleasure of having nazmus help me out twice so far for printing services related to fedex and amazon he also helped me figure out from the wayfair app how to sendemail them the shipping labels he went above and beyond this location also has amazon dropoff which makes it convenient i would highly recommend this ups store</td>\n",
       "      <td>Google reviews</td>\n",
       "      <td>0.9632</td>\n",
       "      <td>0</td>\n",
       "    </tr>\n",
       "    <tr>\n",
       "      <th>383</th>\n",
       "      <td>very convenient place friendly staff</td>\n",
       "      <td>Google reviews</td>\n",
       "      <td>0.5367</td>\n",
       "      <td>0</td>\n",
       "    </tr>\n",
       "    <tr>\n",
       "      <th>292</th>\n",
       "      <td>dont listen to the negative reviews they all relate to those who are waiting for deliveries to their door  with respect to this actual storei have some much fun coming in to check my mailbox  frank is now my friend and everytime i go in i can share a laugh with him  i have a personal mailbox in the store the highlights of the service include  access with my own set of keys will sign for every package i ship there  super convenient being able to not worry about receiving shipments frank et al are wonderful people  if you feel like you are receiving bad customer servicethen maybe get out of the house more and improve your social skills</td>\n",
       "      <td>Google reviews</td>\n",
       "      <td>0.9715</td>\n",
       "      <td>0</td>\n",
       "    </tr>\n",
       "  </tbody>\n",
       "</table>\n",
       "</div>"
      ],
      "text/plain": [
       "                                                                                                                                                                                                                                                                                                                                                                                                                                                                                                                                                                                                                                                                Reviews  \\\n",
       "282                                                                                                                                                                            this is a store with a very good customer service nazmus is friendly approachable and knowledgeable making it easy to complete your services i had the pleasure of having nazmus help me out twice so far for printing services related to fedex and amazon he also helped me figure out from the wayfair app how to sendemail them the shipping labels he went above and beyond this location also has amazon dropoff which makes it convenient i would highly recommend this ups store   \n",
       "383                                                                                                                                                                                                                                                                                                                                                                                                                                                                                                                                                                                                                                very convenient place friendly staff   \n",
       "292  dont listen to the negative reviews they all relate to those who are waiting for deliveries to their door  with respect to this actual storei have some much fun coming in to check my mailbox  frank is now my friend and everytime i go in i can share a laugh with him  i have a personal mailbox in the store the highlights of the service include  access with my own set of keys will sign for every package i ship there  super convenient being able to not worry about receiving shipments frank et al are wonderful people  if you feel like you are receiving bad customer servicethen maybe get out of the house more and improve your social skills    \n",
       "\n",
       "             Source  Sentiment  Topic  \n",
       "282  Google reviews     0.9632      0  \n",
       "383  Google reviews     0.5367      0  \n",
       "292  Google reviews     0.9715      0  "
      ]
     },
     "execution_count": 13,
     "metadata": {},
     "output_type": "execute_result"
    }
   ],
   "source": [
    "convenience_reviews.sample(3)"
   ]
  },
  {
   "cell_type": "code",
   "execution_count": 14,
   "id": "ea7f9a42",
   "metadata": {
    "scrolled": true
   },
   "outputs": [
    {
     "name": "stdout",
     "output_type": "stream",
     "text": [
      "Overall Sentiment:  0.3378\n",
      "Complaints: -0.5917\n",
      "Customer Service Reviews:  0.4636\n",
      "Waiting Time Reviews:  0.1481\n",
      "Convenience Reviews: -0.0337\n",
      "Damages Reviews:  0.0900\n"
     ]
    }
   ],
   "source": [
    "avg_overall_sent     = df['Sentiment'].mean()\n",
    "avg_complaint_sent   = complaints['Sentiment'].mean()\n",
    "avg_customer_sent    = customer_service_reviews['Sentiment'].mean()\n",
    "avg_wait_sent        =  waiting_time_reviews['Sentiment'].mean()\n",
    "avg_convenience_sent = convenience_reviews['Sentiment'].mean()\n",
    "avg_damage_sent      = damages_reviews['Sentiment'].mean()\n",
    "\n",
    "# Output\n",
    "print(f\"Overall Sentiment: { avg_overall_sent : .4f}\")\n",
    "print(f\"Complaints: { avg_complaint_sent : .4f}\")\n",
    "print(f\"Customer Service Reviews: { avg_customer_sent : .4f}\")\n",
    "print(f\"Waiting Time Reviews: { avg_wait_sent : .4f}\")\n",
    "print(f\"Convenience Reviews: { avg_convenience_sent : .4f}\")\n",
    "print(f\"Damages Reviews: { avg_damage_sent : .4f}\")"
   ]
  },
  {
   "cell_type": "code",
   "execution_count": 15,
   "id": "ac76b4fb",
   "metadata": {},
   "outputs": [
    {
     "data": {
      "image/png": "[encoded data removed]",
      "text/plain": [
       "<Figure size 500x400 with 1 Axes>"
      ]
     },
     "metadata": {},
     "output_type": "display_data"
    }
   ],
   "source": [
    "labels = ['Overall', \n",
    "          'Complaints', \n",
    "          'Customer Service',\n",
    "          'Waiting Time',\n",
    "          'Convenience',\n",
    "          'Damages' \n",
    "         ]\n",
    "\n",
    "data =  [avg_overall_sent, \n",
    "         avg_complaint_sent, \n",
    "         avg_customer_sent,\n",
    "         avg_wait_sent,\n",
    "         avg_convenience_sent,\n",
    "         avg_damage_sent\n",
    "         ]\n",
    "\n",
    "plt.figure(figsize = (5, 4))\n",
    "\n",
    "sns.barplot(x=labels, y=data)\n",
    "plt.ylabel('Sentiment')\n",
    "plt.title('Sentiment by topic - UPS in Google')\n",
    "plt.xticks(rotation=45)\n",
    "plt.grid(axis='y', linestyle='--', alpha=0.6)\n",
    "\n",
    "plt.show()"
   ]
  },
  {
   "cell_type": "code",
   "execution_count": 16,
   "id": "fa24aa6a",
   "metadata": {
    "scrolled": true
   },
   "outputs": [
    {
     "name": "stdout",
     "output_type": "stream",
     "text": [
      "Percentage of positive reviews:  68.94%\n",
      "Percentage of neutral reviews:  4.35%\n",
      "Percentage of negative reviews:  26.71%\n"
     ]
    }
   ],
   "source": [
    "percentage_positive_rev = df[df['Sentiment'] > 0].shape[0] / df.shape[0] * 100\n",
    "percentage_neutral_rev = df[df['Sentiment'] == 0].shape[0] / df.shape[0] * 100\n",
    "percentage_negative_rev = df[df['Sentiment'] < 0].shape[0] / df.shape[0] * 100\n",
    "\n",
    "print(f\"Percentage of positive reviews: {percentage_positive_rev : .2f}%\")\n",
    "print(f\"Percentage of neutral reviews: {percentage_neutral_rev : .2f}%\")\n",
    "print(f\"Percentage of negative reviews: {percentage_negative_rev : .2f}%\")"
   ]
  },
  {
   "cell_type": "code",
   "execution_count": 17,
   "id": "fb860915",
   "metadata": {},
   "outputs": [
    {
     "data": {
      "image/png": "[encoded data removed]",
      "text/plain": [
       "<Figure size 400x300 with 1 Axes>"
      ]
     },
     "metadata": {},
     "output_type": "display_data"
    }
   ],
   "source": [
    "labels = ['Positive Revs', 'Neutral Rev', 'Negative Rev']\n",
    "\n",
    "data = [percentage_positive_rev, \n",
    "        percentage_neutral_rev, \n",
    "        percentage_negative_rev]\n",
    "\n",
    "plt.figure(figsize = (4, 3))\n",
    "\n",
    "sns.barplot(x=labels, y=data)\n",
    "plt.ylabel('Percentage')\n",
    "plt.title('Sentiment - UPS in Google')\n",
    "plt.show()"
   ]
  },
  {
   "cell_type": "code",
   "execution_count": 18,
   "id": "4e5ebff8",
   "metadata": {
    "scrolled": true
   },
   "outputs": [
    {
     "data": {
      "text/html": [
       "<div>\n",
       "<style scoped>\n",
       "    .dataframe tbody tr th:only-of-type {\n",
       "        vertical-align: middle;\n",
       "    }\n",
       "\n",
       "    .dataframe tbody tr th {\n",
       "        vertical-align: top;\n",
       "    }\n",
       "\n",
       "    .dataframe thead th {\n",
       "        text-align: right;\n",
       "    }\n",
       "</style>\n",
       "<table border=\"1\" class=\"dataframe\">\n",
       "  <thead>\n",
       "    <tr style=\"text-align: right;\">\n",
       "      <th></th>\n",
       "      <th>Reviews</th>\n",
       "      <th>Source</th>\n",
       "      <th>Sentiment</th>\n",
       "      <th>Topic</th>\n",
       "    </tr>\n",
       "  </thead>\n",
       "  <tbody>\n",
       "    <tr>\n",
       "      <th>0</th>\n",
       "      <td>daxeshkumar patel was so very patient and very helpful for doing all our needs to be perfectly done we are so very thankful to him to finished all our requirements on his store he was so very kind hearted to connect us to his internet god bless him to all his work he was so approachable and smiling with his staff at work we really appreciate all his kind and good work keep helping to others sir we will make sure to came back again and recommend to our friends god bless sir daxeshkumar patel and thank you also to his manager  khalid mankal you are lucky to have them with you in your store</td>\n",
       "      <td>Google reviews</td>\n",
       "      <td>0.9942</td>\n",
       "      <td>0</td>\n",
       "    </tr>\n",
       "    <tr>\n",
       "      <th>54</th>\n",
       "      <td>i recently had the pleasure of visiting this ups store branch and i must say it was an outstanding experience this store offers a wide range of shipping and mailbox services making it a onestop destination for all my shipping needsthe convenience of this ups store is unmatched situated in a prime location its easily accessible and has ample parking nearby making it hasslefree to drop off or pick up packages the store itself is wellmaintained clean and organized providing a professional atmosphereone aspect that sets this ups store apart is its exceptional customer service from the moment i walked through the door i was greeted warmly by the knowledgeable and friendly staff they were attentive patient and went above and beyond to address all my inquiries and concerns their expertise in shipping regulations and packaging options was evident ensuring that my package was handled with care and delivered securelymoreover the range of services offered at this ups store is impressive whether you need to ship packages locally or internationally they have various shipping options to suit your needs and budget additionally their mailbox services are convenient for individuals and businesses alike the staff is more than happy to assist in setting up a mailbox and managing incoming mail efficientlyduring my visit i found the store to be wellstocked with a variety of shipping supplies such as boxes tape and packing materials this saved me the hassle of running around searching for these essentials elsewhereoverall my experience at the ups store on  dundas st w was exceptional the combination of friendly staff convenient location comprehensive services and attention to detail made it a topnotch establishment for all my shipping and mailbox needs i highly recommend this ups store to anyone seeking reliable efficient and customeroriented shipping services in toronto</td>\n",
       "      <td>Google reviews</td>\n",
       "      <td>0.9918</td>\n",
       "      <td>0</td>\n",
       "    </tr>\n",
       "    <tr>\n",
       "      <th>245</th>\n",
       "      <td>i want to take a special moment and thank michelle and karim for everythingive been using ups for over a decade but i struggled to find an independent store that actually cares about its customersive been to other stores and i never had the same excellent customer service but im glad i came to this location and this will be my only toronto ups store location from now oni had to mail out two envelopes one to another province and one to the us the one couriered to the us arrived less than  hours and i was happy and shocked that it was delivered within such a short time however the montreal envelope oh boy thats was a crazy bizarre situationthe montreal envelope had legal documents intended for the civil division of the montreal superior court house before i mailed out the documents i confirmed with the civil department law clerks that the address and information on the envelope were correct the clerks informed me that everything was accurate and the department will be expected the envelopewhen i arrived at the ups store to ship it out michelle helped me throughout the whole process and i was able to get the envelope sent out overnight priorityeverything was okay once it left the storethe problem started when the envelope was out for delivery in montreal the next morning delivery was scheduled for  am friday well that didnt happen at allfor some reason the montreal ups driver wouldnt deliver the envelope the driver wrote a note on the delivery address needed updating wrong addressi was in complete shock and livid so i contacted the superior court house and connected with law clerks who were also baffled that the ups driver refused to deliver my envelope and then it occurred to me the reason why the driver didnt want to deliver because the driver either has a criminal record or was afraid that they would end up arrestedfrom the moment i saw the drivers bogus notes in the tracking log i was on the phone with the superior court from  am to closing i spoke to eight law clerks just to reassure that the address written on the envelope was correct and it was even one law clerk i spoke to was in shock because the clerk had just received an envelope delivered by ups while i waited for mine to be deliveredi couldnt believe it i was even connected over to the court house security department and the security officer couldnt believe the situation i was going through although the superior court was closed to the public courier deliveries were allowed to be deliveredthe guard gave me a name and room to ensure that the envelope would be delivered within the afternoon well that didnt happen the driver took my envelope and dropped it at the lachine depot adding another note pickup delivery attempted how can a delivery end up as a pickupeven michelle and karim repeatedly contacted and emailed ups directly to get through to the driver but the driver refused to respondi exhausted the entire friday trying and hoping that the ups driver would deliver but nothing was done so i had to wait until monday morning for another attempted deliverymichelle with the permission of karim seeing everything that the driver did to my delivery offered me a refund for all the mess monday was another hectic day hoping and waiting for the envelope to be deliveredonce i got the delivery notification michelle immediately contacted me and guaranteed that ups would be issuing me a refund due to the drivers refusal to do their jobafter this experience and all the help and compassion i received from both michelle and karim i will only continue to support ups store</td>\n",
       "      <td>Google reviews</td>\n",
       "      <td>0.9881</td>\n",
       "      <td>0</td>\n",
       "    </tr>\n",
       "  </tbody>\n",
       "</table>\n",
       "</div>"
      ],
      "text/plain": [
       "                                                                                                                                                                                                                                                                                                                                                                                                                                                                                                                                                                                                                                                                                                                                                                                                                                                                                                                                                                                                                                                                                                                                                                                                                                                                                                                                                                                                                                                                                                                                                                                                                                                                                                                                                                                                                                                                                                                                                                                                                                                                                                                                                                                                                                                                                                                                                                                                                                                                                                                                                                                                                                                                                                                                                                                                                                                                                                                                                                                                                                                                                                                                                                                                                                                                                                                                                                                                                                                                                                                                                                                                                                                                                                                         Reviews  \\\n",
       "0                                                                                                                                                                                                                                                                                                                                                                                                                                                                                                                                                                                                                                                                                                                                                                                                                                                                                                                                                                                                                                                                                                                                                                                                                                                                                                                                                                                                                                                                                                                                                                                                                                                                                                                                                                                                                                                                                                                                                                                                                                                                                                                                                                                                                                                                                                                                                                                                                                                                                                                                                                                                                                                                                                                                                                                                                                                                                                                                                                                                                                                                                                             daxeshkumar patel was so very patient and very helpful for doing all our needs to be perfectly done we are so very thankful to him to finished all our requirements on his store he was so very kind hearted to connect us to his internet god bless him to all his work he was so approachable and smiling with his staff at work we really appreciate all his kind and good work keep helping to others sir we will make sure to came back again and recommend to our friends god bless sir daxeshkumar patel and thank you also to his manager  khalid mankal you are lucky to have them with you in your store   \n",
       "54                                                                                                                                                                                                                                                                                                                                                                                                                                                                                                                                                                                                                                                                                                                                                                                                                                                                                                                                                                                                                                                                                                                                                                                                                                                                                                                                                                                                                                                                                                                                                                                                                                                                                                                                                                     i recently had the pleasure of visiting this ups store branch and i must say it was an outstanding experience this store offers a wide range of shipping and mailbox services making it a onestop destination for all my shipping needsthe convenience of this ups store is unmatched situated in a prime location its easily accessible and has ample parking nearby making it hasslefree to drop off or pick up packages the store itself is wellmaintained clean and organized providing a professional atmosphereone aspect that sets this ups store apart is its exceptional customer service from the moment i walked through the door i was greeted warmly by the knowledgeable and friendly staff they were attentive patient and went above and beyond to address all my inquiries and concerns their expertise in shipping regulations and packaging options was evident ensuring that my package was handled with care and delivered securelymoreover the range of services offered at this ups store is impressive whether you need to ship packages locally or internationally they have various shipping options to suit your needs and budget additionally their mailbox services are convenient for individuals and businesses alike the staff is more than happy to assist in setting up a mailbox and managing incoming mail efficientlyduring my visit i found the store to be wellstocked with a variety of shipping supplies such as boxes tape and packing materials this saved me the hassle of running around searching for these essentials elsewhereoverall my experience at the ups store on  dundas st w was exceptional the combination of friendly staff convenient location comprehensive services and attention to detail made it a topnotch establishment for all my shipping and mailbox needs i highly recommend this ups store to anyone seeking reliable efficient and customeroriented shipping services in toronto   \n",
       "245  i want to take a special moment and thank michelle and karim for everythingive been using ups for over a decade but i struggled to find an independent store that actually cares about its customersive been to other stores and i never had the same excellent customer service but im glad i came to this location and this will be my only toronto ups store location from now oni had to mail out two envelopes one to another province and one to the us the one couriered to the us arrived less than  hours and i was happy and shocked that it was delivered within such a short time however the montreal envelope oh boy thats was a crazy bizarre situationthe montreal envelope had legal documents intended for the civil division of the montreal superior court house before i mailed out the documents i confirmed with the civil department law clerks that the address and information on the envelope were correct the clerks informed me that everything was accurate and the department will be expected the envelopewhen i arrived at the ups store to ship it out michelle helped me throughout the whole process and i was able to get the envelope sent out overnight priorityeverything was okay once it left the storethe problem started when the envelope was out for delivery in montreal the next morning delivery was scheduled for  am friday well that didnt happen at allfor some reason the montreal ups driver wouldnt deliver the envelope the driver wrote a note on the delivery address needed updating wrong addressi was in complete shock and livid so i contacted the superior court house and connected with law clerks who were also baffled that the ups driver refused to deliver my envelope and then it occurred to me the reason why the driver didnt want to deliver because the driver either has a criminal record or was afraid that they would end up arrestedfrom the moment i saw the drivers bogus notes in the tracking log i was on the phone with the superior court from  am to closing i spoke to eight law clerks just to reassure that the address written on the envelope was correct and it was even one law clerk i spoke to was in shock because the clerk had just received an envelope delivered by ups while i waited for mine to be deliveredi couldnt believe it i was even connected over to the court house security department and the security officer couldnt believe the situation i was going through although the superior court was closed to the public courier deliveries were allowed to be deliveredthe guard gave me a name and room to ensure that the envelope would be delivered within the afternoon well that didnt happen the driver took my envelope and dropped it at the lachine depot adding another note pickup delivery attempted how can a delivery end up as a pickupeven michelle and karim repeatedly contacted and emailed ups directly to get through to the driver but the driver refused to respondi exhausted the entire friday trying and hoping that the ups driver would deliver but nothing was done so i had to wait until monday morning for another attempted deliverymichelle with the permission of karim seeing everything that the driver did to my delivery offered me a refund for all the mess monday was another hectic day hoping and waiting for the envelope to be deliveredonce i got the delivery notification michelle immediately contacted me and guaranteed that ups would be issuing me a refund due to the drivers refusal to do their jobafter this experience and all the help and compassion i received from both michelle and karim i will only continue to support ups store    \n",
       "\n",
       "             Source  Sentiment  Topic  \n",
       "0    Google reviews     0.9942      0  \n",
       "54   Google reviews     0.9918      0  \n",
       "245  Google reviews     0.9881      0  "
      ]
     },
     "execution_count": 18,
     "metadata": {},
     "output_type": "execute_result"
    }
   ],
   "source": [
    "# Top 3 best reviews\n",
    "df.sort_values(by = 'Sentiment', ascending = False).head(3)"
   ]
  },
  {
   "cell_type": "code",
   "execution_count": 19,
   "id": "17dc1a0b",
   "metadata": {
    "scrolled": true
   },
   "outputs": [
    {
     "data": {
      "text/html": [
       "<div>\n",
       "<style scoped>\n",
       "    .dataframe tbody tr th:only-of-type {\n",
       "        vertical-align: middle;\n",
       "    }\n",
       "\n",
       "    .dataframe tbody tr th {\n",
       "        vertical-align: top;\n",
       "    }\n",
       "\n",
       "    .dataframe thead th {\n",
       "        text-align: right;\n",
       "    }\n",
       "</style>\n",
       "<table border=\"1\" class=\"dataframe\">\n",
       "  <thead>\n",
       "    <tr style=\"text-align: right;\">\n",
       "      <th></th>\n",
       "      <th>Reviews</th>\n",
       "      <th>Source</th>\n",
       "      <th>Sentiment</th>\n",
       "      <th>Topic</th>\n",
       "    </tr>\n",
       "  </thead>\n",
       "  <tbody>\n",
       "    <tr>\n",
       "      <th>70</th>\n",
       "      <td>as someone that has been in the customer service industry for over a decade the people working at this location lack the basics in customer service theyre rude unprofessional and ungrateful to have customersclients  overpriced to say the least considering how much knowledge they lackjust based on my last visit the older man told me to print more copies cause one copy is just a waste of his time not to mention that when they make a mistake they charge or try to charge you for ithands down one of the worst ups store service ive seen receivedfrom the son mom and dad whether its a culture thing or not theyre in the wrong business</td>\n",
       "      <td>Google reviews</td>\n",
       "      <td>-0.9719</td>\n",
       "      <td>0</td>\n",
       "    </tr>\n",
       "    <tr>\n",
       "      <th>83</th>\n",
       "      <td>personally i have nothing against the employees here or the owner frank he is a nice guy albeit way too talkative however due to the streak of enormous ineptitude and incompetence resulting in financial loss i feel compelled to leave a negative review frank failed to include the signature required option on a shipment containing approximately  usd in cinema equipment leading to a snafu upon that package being left outside of a door in a business park in california luckily the package was recovered a similar incident the year before led to a package being stolen and a hard drive being lost the rd and final straw has been the ongoing disaster of a mismanaged intercompany shipment of equipment to the us for a gig frank demonstrated a complete lack of understanding of the basic fundamentals of cross border shipping and paperwork leading to delayed packages resulting in my team renting equipment on the other side not only that due to his poor paperwork i am being charged duties and am still trying to recover those funds from ups if he spent less time socializing with customers and telling stories and more time focusing on his work then perhaps this location might be usable for any professional or anyone interested in their package arriving properly this is not the place for you</td>\n",
       "      <td>Google reviews</td>\n",
       "      <td>-0.9761</td>\n",
       "      <td>1</td>\n",
       "    </tr>\n",
       "    <tr>\n",
       "      <th>251</th>\n",
       "      <td>this location deserves  stars i work with fedex often and ive never been treated as horribly as i was here the man who works at this ups location is so rude dismissive unprofessional and miserable to say the least not sure he realizes he works in customer service  because he offered none i asked for a specific slip and he ignored me proceeded to give me the wrong one and got angry with me because he gave me the wrong one</td>\n",
       "      <td>Google reviews</td>\n",
       "      <td>-0.9794</td>\n",
       "      <td>0</td>\n",
       "    </tr>\n",
       "  </tbody>\n",
       "</table>\n",
       "</div>"
      ],
      "text/plain": [
       "                                                                                                                                                                                                                                                                                                                                                                                                                                                                                                                                                                                                                                                                                                                                                                                                                                                                                                                                                                                                                                                                                                                                                                                                                                                                                                                                           Reviews  \\\n",
       "70                                                                                                                                                                                                                                                                                                                                                                                                                                                                                                                                                                                                                                                                                       as someone that has been in the customer service industry for over a decade the people working at this location lack the basics in customer service theyre rude unprofessional and ungrateful to have customersclients  overpriced to say the least considering how much knowledge they lackjust based on my last visit the older man told me to print more copies cause one copy is just a waste of his time not to mention that when they make a mistake they charge or try to charge you for ithands down one of the worst ups store service ive seen receivedfrom the son mom and dad whether its a culture thing or not theyre in the wrong business   \n",
       "83   personally i have nothing against the employees here or the owner frank he is a nice guy albeit way too talkative however due to the streak of enormous ineptitude and incompetence resulting in financial loss i feel compelled to leave a negative review frank failed to include the signature required option on a shipment containing approximately  usd in cinema equipment leading to a snafu upon that package being left outside of a door in a business park in california luckily the package was recovered a similar incident the year before led to a package being stolen and a hard drive being lost the rd and final straw has been the ongoing disaster of a mismanaged intercompany shipment of equipment to the us for a gig frank demonstrated a complete lack of understanding of the basic fundamentals of cross border shipping and paperwork leading to delayed packages resulting in my team renting equipment on the other side not only that due to his poor paperwork i am being charged duties and am still trying to recover those funds from ups if he spent less time socializing with customers and telling stories and more time focusing on his work then perhaps this location might be usable for any professional or anyone interested in their package arriving properly this is not the place for you   \n",
       "251                                                                                                                                                                                                                                                                                                                                                                                                                                                                                                                                                                                                                                                                                                                                                                                                                                                                                                       this location deserves  stars i work with fedex often and ive never been treated as horribly as i was here the man who works at this ups location is so rude dismissive unprofessional and miserable to say the least not sure he realizes he works in customer service  because he offered none i asked for a specific slip and he ignored me proceeded to give me the wrong one and got angry with me because he gave me the wrong one   \n",
       "\n",
       "             Source  Sentiment  Topic  \n",
       "70   Google reviews    -0.9719      0  \n",
       "83   Google reviews    -0.9761      1  \n",
       "251  Google reviews    -0.9794      0  "
      ]
     },
     "execution_count": 19,
     "metadata": {},
     "output_type": "execute_result"
    }
   ],
   "source": [
    "# Top 3 worst reviews\n",
    "df.sort_values(by = 'Sentiment', ascending = False).tail(3)"
   ]
  },
  {
   "cell_type": "code",
   "execution_count": 20,
   "id": "5da91585",
   "metadata": {},
   "outputs": [],
   "source": [
    "df_google = df"
   ]
  },
  {
   "cell_type": "markdown",
   "id": "de259937",
   "metadata": {},
   "source": [
    "### From Trustpilot:"
   ]
  },
  {
   "cell_type": "code",
   "execution_count": 21,
   "id": "f8b58982",
   "metadata": {
    "scrolled": false
   },
   "outputs": [
    {
     "data": {
      "text/html": [
       "<div>\n",
       "<style scoped>\n",
       "    .dataframe tbody tr th:only-of-type {\n",
       "        vertical-align: middle;\n",
       "    }\n",
       "\n",
       "    .dataframe tbody tr th {\n",
       "        vertical-align: top;\n",
       "    }\n",
       "\n",
       "    .dataframe thead th {\n",
       "        text-align: right;\n",
       "    }\n",
       "</style>\n",
       "<table border=\"1\" class=\"dataframe\">\n",
       "  <thead>\n",
       "    <tr style=\"text-align: right;\">\n",
       "      <th></th>\n",
       "      <th>Reviews</th>\n",
       "      <th>Source</th>\n",
       "    </tr>\n",
       "  </thead>\n",
       "  <tbody>\n",
       "    <tr>\n",
       "      <th>2676</th>\n",
       "      <td>I was happy with the service,prompt and in schedule.I like to ask if I am not home what are the procedures? I am asking because I am thinking to buy another one rug.</td>\n",
       "      <td>Trustpilot</td>\n",
       "    </tr>\n",
       "    <tr>\n",
       "      <th>3585</th>\n",
       "      <td>UPS deserves zero stars. It's hard to believe that a company as incompetent as this is still making money.\\nA driver came to my address, delivered everyone's packages, except mine. He arbitrarily decided that the name on the package was not my name. He decided to not deliver it. This was a time critical business package of supplies. My package was right there, I was right there in a separate room, the driver was right there, and he couldn't be bothered. Now we have nothing!! I was on the phone immediately. I spent HOURS, the rest of the afternoon, dropping everything to get absolutely nowhere. I dropped everything to deal with it and get that package, only to get continually tired to a call center that did nothing. I could not get a phone number for someone who would contact the driver.\\nThis company and its drivers who are smoking weed and not paying attention, just single handedly DESTROYED MY BUSINESS. that means, they destroyed my source of income!\\nDo they feel bad? No of course not. As long as their profits keep rising.\\nThis company business model is to suck b2b and b2consumer companies in to signing a contract with them, then only permitting customers to select ups for delivery. Nobody who has a choice, nobody who is a consumer, would voluntarily use them. Their retail prices are way too high.\\nThe only point of contact for help is a call center in some overseas Asian country, like Bangladesh. They basically don't know anything - they are just receptionists who can do nothing more than the customer can already do, like look up tracking numbers. And they listen to complaints, so customers can vent. It won't go anywhere, but ups prefers it if you complain to their call center than complain in a review.\\nWell, the dumb driver just cost my business, and cost the company that sold to me, some money. What do they care if they screw us over??</td>\n",
       "      <td>Trustpilot</td>\n",
       "    </tr>\n",
       "    <tr>\n",
       "      <th>3645</th>\n",
       "      <td>Unfortunately I had to give 1 star as no option for minus . This company is vile customer service is crap to the point they put the phone down on me waited all day for delivery and now told they can't deliver and need to reschedule. Took a day off work for this . Never will I entertain UPS again had nothing but issues . Vile company</td>\n",
       "      <td>Trustpilot</td>\n",
       "    </tr>\n",
       "  </tbody>\n",
       "</table>\n",
       "</div>"
      ],
      "text/plain": [
       "                                                                                                                                                                                                                                                                                                                                                                                                                                                                                                                                                                                                                                                                                                                                                                                                                                                                                                                                                                                                                                                                                                                                                                                                                                                                                                                                                                                                                                                                                                                                                                                                                                                                                                                                                                                                                                                                                                                                                  Reviews  \\\n",
       "2676                                                                                                                                                                                                                                                                                                                                                                                                                                                                                                                                                                                                                                                                                                                                                                                                                                                                                                                                                                                                                                                                                                                                                                                                                                                                                                                                                                                                                                                                                                                                                                                                                                                                                                                                                                                I was happy with the service,prompt and in schedule.I like to ask if I am not home what are the procedures? I am asking because I am thinking to buy another one rug.   \n",
       "3585  UPS deserves zero stars. It's hard to believe that a company as incompetent as this is still making money.\\nA driver came to my address, delivered everyone's packages, except mine. He arbitrarily decided that the name on the package was not my name. He decided to not deliver it. This was a time critical business package of supplies. My package was right there, I was right there in a separate room, the driver was right there, and he couldn't be bothered. Now we have nothing!! I was on the phone immediately. I spent HOURS, the rest of the afternoon, dropping everything to get absolutely nowhere. I dropped everything to deal with it and get that package, only to get continually tired to a call center that did nothing. I could not get a phone number for someone who would contact the driver.\\nThis company and its drivers who are smoking weed and not paying attention, just single handedly DESTROYED MY BUSINESS. that means, they destroyed my source of income!\\nDo they feel bad? No of course not. As long as their profits keep rising.\\nThis company business model is to suck b2b and b2consumer companies in to signing a contract with them, then only permitting customers to select ups for delivery. Nobody who has a choice, nobody who is a consumer, would voluntarily use them. Their retail prices are way too high.\\nThe only point of contact for help is a call center in some overseas Asian country, like Bangladesh. They basically don't know anything - they are just receptionists who can do nothing more than the customer can already do, like look up tracking numbers. And they listen to complaints, so customers can vent. It won't go anywhere, but ups prefers it if you complain to their call center than complain in a review.\\nWell, the dumb driver just cost my business, and cost the company that sold to me, some money. What do they care if they screw us over??   \n",
       "3645                                                                                                                                                                                                                                                                                                                                                                                                                                                                                                                                                                                                                                                                                                                                                                                                                                                                                                                                                                                                                                                                                                                                                                                                                                                                                                                                                                                                                                                                                                                                                                                                       Unfortunately I had to give 1 star as no option for minus . This company is vile customer service is crap to the point they put the phone down on me waited all day for delivery and now told they can't deliver and need to reschedule. Took a day off work for this . Never will I entertain UPS again had nothing but issues . Vile company   \n",
       "\n",
       "          Source  \n",
       "2676  Trustpilot  \n",
       "3585  Trustpilot  \n",
       "3645  Trustpilot  "
      ]
     },
     "execution_count": 21,
     "metadata": {},
     "output_type": "execute_result"
    }
   ],
   "source": [
    "# Load the dataset\n",
    "df = pd.read_csv(\"ups_reviews_trustpilot_clean.csv\")\n",
    "df[\"Source\"] = \"Trustpilot\"\n",
    "df.rename(columns = {'0':'Reviews'}, inplace = True)\n",
    "df = df.dropna()\n",
    "\n",
    "df.sample(3)"
   ]
  },
  {
   "cell_type": "code",
   "execution_count": 22,
   "id": "16495b4f",
   "metadata": {
    "scrolled": true
   },
   "outputs": [
    {
     "data": {
      "text/html": [
       "<div>\n",
       "<style scoped>\n",
       "    .dataframe tbody tr th:only-of-type {\n",
       "        vertical-align: middle;\n",
       "    }\n",
       "\n",
       "    .dataframe tbody tr th {\n",
       "        vertical-align: top;\n",
       "    }\n",
       "\n",
       "    .dataframe thead th {\n",
       "        text-align: right;\n",
       "    }\n",
       "</style>\n",
       "<table border=\"1\" class=\"dataframe\">\n",
       "  <thead>\n",
       "    <tr style=\"text-align: right;\">\n",
       "      <th></th>\n",
       "      <th>Reviews</th>\n",
       "      <th>Source</th>\n",
       "      <th>Sentiment</th>\n",
       "      <th>Topic</th>\n",
       "    </tr>\n",
       "  </thead>\n",
       "  <tbody>\n",
       "    <tr>\n",
       "      <th>1968</th>\n",
       "      <td>mi experiencia con ups fue la mejor sobrepas mis expectativas envi el paquete que deba mantener el fro y fue entregado antes de la hora programada estoy sper satisfecha con el servicio de ups desde la seorita stefan que me recibi una de las oficinas de ocala fl muy profesional y luego el rastreo y la entrega del paquete en austin texas gracias ups exelente servicio\\n\\n\\nmy experience with ups was the best it exceeded my expectations i sent the package that had to be kept cold and it was delivered before the scheduled time i am super satisfied with the ups service from miss stefan who received me at one of the offices in ocala fl very professional and then the tracking and delivery of the package in austin texas thank you ups excellent service</td>\n",
       "      <td>Trustpilot</td>\n",
       "      <td>0.9477</td>\n",
       "      <td>0</td>\n",
       "    </tr>\n",
       "    <tr>\n",
       "      <th>4297</th>\n",
       "      <td>package not arriving on christmas terrible service</td>\n",
       "      <td>Trustpilot</td>\n",
       "      <td>-0.4767</td>\n",
       "      <td>2</td>\n",
       "    </tr>\n",
       "    <tr>\n",
       "      <th>20</th>\n",
       "      <td>in the courier service category</td>\n",
       "      <td>Trustpilot</td>\n",
       "      <td>0.0000</td>\n",
       "      <td>2</td>\n",
       "    </tr>\n",
       "  </tbody>\n",
       "</table>\n",
       "</div>"
      ],
      "text/plain": [
       "                                                                                                                                                                                                                                                                                                                                                                                                                                                                                                                                                                                                                                                                                                                                                                               Reviews  \\\n",
       "1968  mi experiencia con ups fue la mejor sobrepas mis expectativas envi el paquete que deba mantener el fro y fue entregado antes de la hora programada estoy sper satisfecha con el servicio de ups desde la seorita stefan que me recibi una de las oficinas de ocala fl muy profesional y luego el rastreo y la entrega del paquete en austin texas gracias ups exelente servicio\\n\\n\\nmy experience with ups was the best it exceeded my expectations i sent the package that had to be kept cold and it was delivered before the scheduled time i am super satisfied with the ups service from miss stefan who received me at one of the offices in ocala fl very professional and then the tracking and delivery of the package in austin texas thank you ups excellent service   \n",
       "4297                                                                                                                                                                                                                                                                                                                                                                                                                                                                                                                                                                                                                                                                                                                                package not arriving on christmas terrible service   \n",
       "20                                                                                                                                                                                                                                                                                                                                                                                                                                                                                                                                                                                                                                                                                                                                                     in the courier service category   \n",
       "\n",
       "          Source  Sentiment  Topic  \n",
       "1968  Trustpilot     0.9477      0  \n",
       "4297  Trustpilot    -0.4767      2  \n",
       "20    Trustpilot     0.0000      2  "
      ]
     },
     "execution_count": 22,
     "metadata": {},
     "output_type": "execute_result"
    }
   ],
   "source": [
    "# Applying preprocessing to the 'Reviews' column\n",
    "df['Reviews'] = df['Reviews'].apply(preprocess_text)\n",
    "\n",
    "# Sentiment analysis\n",
    "sia = SentimentIntensityAnalyzer()\n",
    "df['Sentiment'] = df['Reviews'].apply(lambda x: sia.polarity_scores(x)['compound'])\n",
    "\n",
    "# Applying TF-IDF vectorization\n",
    "stop_words = stopwords.words('english')\n",
    "vectorizer = TfidfVectorizer(stop_words=stop_words)\n",
    "tfidf_matrix = vectorizer.fit_transform(df['Reviews'])\n",
    "\n",
    "# Performing topic modeling using LDA\n",
    "lda_model = LatentDirichletAllocation(n_components=3, random_state=42)\n",
    "lda_matrix = lda_model.fit_transform(tfidf_matrix)\n",
    "\n",
    "# Finding dominant topic for each review\n",
    "dominant_topic = lda_matrix.argmax(axis=1)\n",
    "df['Topic'] = dominant_topic\n",
    "\n",
    "df.sample(3)"
   ]
  },
  {
   "cell_type": "code",
   "execution_count": 23,
   "id": "17f76d2b",
   "metadata": {
    "scrolled": false
   },
   "outputs": [
    {
     "data": {
      "text/html": [
       "<div>\n",
       "<style scoped>\n",
       "    .dataframe tbody tr th:only-of-type {\n",
       "        vertical-align: middle;\n",
       "    }\n",
       "\n",
       "    .dataframe tbody tr th {\n",
       "        vertical-align: top;\n",
       "    }\n",
       "\n",
       "    .dataframe thead th {\n",
       "        text-align: right;\n",
       "    }\n",
       "</style>\n",
       "<table border=\"1\" class=\"dataframe\">\n",
       "  <thead>\n",
       "    <tr style=\"text-align: right;\">\n",
       "      <th></th>\n",
       "      <th>Reviews</th>\n",
       "      <th>Sentiment</th>\n",
       "    </tr>\n",
       "  </thead>\n",
       "  <tbody>\n",
       "    <tr>\n",
       "      <th>4540</th>\n",
       "      <td>tried sending  letter with ups failed ups internal security measures prevent the processing of this shipment contact ups on \\n\\ntried calling ups failed contact hours are from am  pm because of covid\\n\\ntried setting up an account failed sorry were unable to process this request\\n\\nafter wasting over an hour on this i can conclude ups do not want my business and that i should simply give up and try a competitor</td>\n",
       "      <td>-0.8915</td>\n",
       "    </tr>\n",
       "    <tr>\n",
       "      <th>4234</th>\n",
       "      <td>appalling service\\n\\ni have booked online a collection service the driver shows up outside the allocated timeslot and despite confirmation from the customer service team he fails to return my collection was delayed for up to a week and upon return the driver somehow manages to lose all  commercial invoices which i have handdelivered to him the agents on the phone for the most part are completely and utterly useless i have wasted over an hour on the phone with no avail to be pingponged from one agent to the other or to be placed on an endless loop of hold\\n\\noverall the whole experience and service were disgusting completely apathetic and screamed incompetence definitely to avoid in the future</td>\n",
       "      <td>-0.9802</td>\n",
       "    </tr>\n",
       "    <tr>\n",
       "      <th>2089</th>\n",
       "      <td>the ups serving the riverdale ga area is the worst i also dont like that the delivery service never has a solution that doesnt require an automated response the drivers are not held accountable for not delivering packages they will claim to redeliver and never do i wish businesses that work with them start holding drivers accountable its gotten out of hand</td>\n",
       "      <td>-0.7375</td>\n",
       "    </tr>\n",
       "  </tbody>\n",
       "</table>\n",
       "</div>"
      ],
      "text/plain": [
       "                                                                                                                                                                                                                                                                                                                                                                                                                                                                                                                                                                                                                                                                                                                            Reviews  \\\n",
       "4540                                                                                                                                                                                                                                                                                                 tried sending  letter with ups failed ups internal security measures prevent the processing of this shipment contact ups on \\n\\ntried calling ups failed contact hours are from am  pm because of covid\\n\\ntried setting up an account failed sorry were unable to process this request\\n\\nafter wasting over an hour on this i can conclude ups do not want my business and that i should simply give up and try a competitor   \n",
       "4234  appalling service\\n\\ni have booked online a collection service the driver shows up outside the allocated timeslot and despite confirmation from the customer service team he fails to return my collection was delayed for up to a week and upon return the driver somehow manages to lose all  commercial invoices which i have handdelivered to him the agents on the phone for the most part are completely and utterly useless i have wasted over an hour on the phone with no avail to be pingponged from one agent to the other or to be placed on an endless loop of hold\\n\\noverall the whole experience and service were disgusting completely apathetic and screamed incompetence definitely to avoid in the future   \n",
       "2089                                                                                                                                                                                                                                                                                                                                                         the ups serving the riverdale ga area is the worst i also dont like that the delivery service never has a solution that doesnt require an automated response the drivers are not held accountable for not delivering packages they will claim to redeliver and never do i wish businesses that work with them start holding drivers accountable its gotten out of hand   \n",
       "\n",
       "      Sentiment  \n",
       "4540    -0.8915  \n",
       "4234    -0.9802  \n",
       "2089    -0.7375  "
      ]
     },
     "execution_count": 23,
     "metadata": {},
     "output_type": "execute_result"
    }
   ],
   "source": [
    "# Complaint analysis\n",
    "negative_reviews = df[df['Sentiment'] < 0]\n",
    "complaints = negative_reviews[['Reviews','Sentiment']]\n",
    "\n",
    "complaints.sample(3)"
   ]
  },
  {
   "cell_type": "code",
   "execution_count": 24,
   "id": "0fb8ca85",
   "metadata": {
    "scrolled": true
   },
   "outputs": [
    {
     "data": {
      "text/html": [
       "<div>\n",
       "<style scoped>\n",
       "    .dataframe tbody tr th:only-of-type {\n",
       "        vertical-align: middle;\n",
       "    }\n",
       "\n",
       "    .dataframe tbody tr th {\n",
       "        vertical-align: top;\n",
       "    }\n",
       "\n",
       "    .dataframe thead th {\n",
       "        text-align: right;\n",
       "    }\n",
       "</style>\n",
       "<table border=\"1\" class=\"dataframe\">\n",
       "  <thead>\n",
       "    <tr style=\"text-align: right;\">\n",
       "      <th></th>\n",
       "      <th>Reviews</th>\n",
       "      <th>Source</th>\n",
       "      <th>Sentiment</th>\n",
       "      <th>Topic</th>\n",
       "    </tr>\n",
       "  </thead>\n",
       "  <tbody>\n",
       "    <tr>\n",
       "      <th>2108</th>\n",
       "      <td>generally my experience with ups is positive but like they say it only takes  bad experience to ruin it well that happened to me unfortunately i missed a delivery on  that required a signature the door tag said they would attempt delivery the next day but  delivery never happened does ups not attempt a nd delivery anymore instead i find out the attempted next day delivery was to one of their access points and that delivery was unsuccessful as well so now i get to wait until  and hope again that the delivery to this access point is successful like other reviewers have said calling customer service is a waste of time they have zero problem solving skills and all they can do is regurgitate what the tracking info says on their screen which is no different than the tracking info on their app or website that we all have access to so the moral of the storymake darn sure you are home if you are expecting a package that requires a signature otherwisegod speed in getting your package in a timely manner</td>\n",
       "      <td>Trustpilot</td>\n",
       "      <td>-0.2382</td>\n",
       "      <td>2</td>\n",
       "    </tr>\n",
       "    <tr>\n",
       "      <th>1155</th>\n",
       "      <td>if i can choose zero stars i would do it\\nunreliable service drivers with sticky fingers they scan the package but never deliver it\\nthe worst experience ever</td>\n",
       "      <td>Trustpilot</td>\n",
       "      <td>-0.7684</td>\n",
       "      <td>2</td>\n",
       "    </tr>\n",
       "    <tr>\n",
       "      <th>2862</th>\n",
       "      <td>am not at all impressed with ups delivery service this time it was left at a neighbours door down the road  was lucky last delivery never appeared</td>\n",
       "      <td>Trustpilot</td>\n",
       "      <td>0.0634</td>\n",
       "      <td>2</td>\n",
       "    </tr>\n",
       "  </tbody>\n",
       "</table>\n",
       "</div>"
      ],
      "text/plain": [
       "                                                                                                                                                                                                                                                                                                                                                                                                                                                                                                                                                                                                                                                                                                                                                                                                                                                                                                                                                                                                                                              Reviews  \\\n",
       "2108  generally my experience with ups is positive but like they say it only takes  bad experience to ruin it well that happened to me unfortunately i missed a delivery on  that required a signature the door tag said they would attempt delivery the next day but  delivery never happened does ups not attempt a nd delivery anymore instead i find out the attempted next day delivery was to one of their access points and that delivery was unsuccessful as well so now i get to wait until  and hope again that the delivery to this access point is successful like other reviewers have said calling customer service is a waste of time they have zero problem solving skills and all they can do is regurgitate what the tracking info says on their screen which is no different than the tracking info on their app or website that we all have access to so the moral of the storymake darn sure you are home if you are expecting a package that requires a signature otherwisegod speed in getting your package in a timely manner   \n",
       "1155                                                                                                                                                                                                                                                                                                                                                                                                                                                                                                                                                                                                                                                                                                                                                                                                                                                                                   if i can choose zero stars i would do it\\nunreliable service drivers with sticky fingers they scan the package but never deliver it\\nthe worst experience ever   \n",
       "2862                                                                                                                                                                                                                                                                                                                                                                                                                                                                                                                                                                                                                                                                                                                                                                                                                                                                                               am not at all impressed with ups delivery service this time it was left at a neighbours door down the road  was lucky last delivery never appeared   \n",
       "\n",
       "          Source  Sentiment  Topic  \n",
       "2108  Trustpilot    -0.2382      2  \n",
       "1155  Trustpilot    -0.7684      2  \n",
       "2862  Trustpilot     0.0634      2  "
      ]
     },
     "execution_count": 24,
     "metadata": {},
     "output_type": "execute_result"
    }
   ],
   "source": [
    "# Customer service analysis\n",
    "customer_service_reviews = df[df['Reviews'].str.contains('service', case=False)]\n",
    "customer_service_reviews.sample(3)"
   ]
  },
  {
   "cell_type": "code",
   "execution_count": 25,
   "id": "2bc60c54",
   "metadata": {
    "scrolled": true
   },
   "outputs": [
    {
     "data": {
      "text/html": [
       "<div>\n",
       "<style scoped>\n",
       "    .dataframe tbody tr th:only-of-type {\n",
       "        vertical-align: middle;\n",
       "    }\n",
       "\n",
       "    .dataframe tbody tr th {\n",
       "        vertical-align: top;\n",
       "    }\n",
       "\n",
       "    .dataframe thead th {\n",
       "        text-align: right;\n",
       "    }\n",
       "</style>\n",
       "<table border=\"1\" class=\"dataframe\">\n",
       "  <thead>\n",
       "    <tr style=\"text-align: right;\">\n",
       "      <th></th>\n",
       "      <th>Reviews</th>\n",
       "      <th>Source</th>\n",
       "      <th>Sentiment</th>\n",
       "      <th>Topic</th>\n",
       "    </tr>\n",
       "  </thead>\n",
       "  <tbody>\n",
       "    <tr>\n",
       "      <th>244</th>\n",
       "      <td>ill wait all day for a ups delivery and suddenly there will be an email saying they attempted delivery really i was home and the doorbell works how could that be hmm no paper notice of a failed delivery no sign at all that the driver actually was here then im told the package will be delivered days later at an access center miles away from me this has happened countless times complained to the manager and got nothing but condescension they are the worst</td>\n",
       "      <td>Trustpilot</td>\n",
       "      <td>-0.9144</td>\n",
       "      <td>2</td>\n",
       "    </tr>\n",
       "    <tr>\n",
       "      <th>203</th>\n",
       "      <td>colis jamais reu  entrepos dans un dpt ups en allemagne impossible de dbloquer la situation\\nen cours de livraison\\nvillerslelac the street number is incorrect this may delay delivery were attempting to update the address  the package is undeliverable and is in the process of being disposed of according to the local guidelines\\n \\ngmt\\nvillerslelac \\n \\ngmt\\nvillerslelac the street number is incorrect this may delay delivery were attempting to update the address\\n \\ngmt\\nthisethe street number is incorrect this may delay delivery were attempting to update the address\\n \\ngmt\\nthiseout for delivery\\n \\ngmt\\nen cours de ddouanement\\nroissy charles de gaulleimport scan\\n \\ngmt\\nyour package has been released by the government agency\\n \\ngmt\\nyour package is on the way\\n \\ngmt\\ndubai airportarrived at facility\\n \\ngmt\\nchek lap kokyour package is in transit were updating plans to schedule your delivery  the package will be forwarded to a ups facility in the destination city\\n \\ngmt\\nchek lap kokyour package is in transit were updating plans to schedule your delivery\\n \\ngmt\\nchek lap kokyour package is in transit were updating plans to schedule your delivery  the package will be forwarded to a ups facility in the destination city\\n \\ngmt\\nchek lap kokyour package is in transit were updating plans to schedule your delivery\\n \\ngmt\\nthe package is at the clearing agency awaiting final release\\n \\ngmt\\nthe package is at the clearing agency awaiting final release\\n \\ngmt\\nkwai chungdeparted from facility\\n \\ngmt\\nkwai chungorigin scan\\n</td>\n",
       "      <td>Trustpilot</td>\n",
       "      <td>-0.6124</td>\n",
       "      <td>0</td>\n",
       "    </tr>\n",
       "    <tr>\n",
       "      <th>236</th>\n",
       "      <td>ups have no idea whats going on  i had  people give me the runaround they said they would help me but all they did was lie to me  at the end result im going to have a bad mothers day which my package should of been delivered by wednesday now i have to wait until monday</td>\n",
       "      <td>Trustpilot</td>\n",
       "      <td>-0.6705</td>\n",
       "      <td>2</td>\n",
       "    </tr>\n",
       "  </tbody>\n",
       "</table>\n",
       "</div>"
      ],
      "text/plain": [
       "                                                                                                                                                                                                                                                                                                                                                                                                                                                                                                                                                                                                                                                                                                                                                                                                                                                                                                                                                                                                                                                                                                                                                                                                                                                                                                                                                                                                                                                                                                                                                                                                                 Reviews  \\\n",
       "244                                                                                                                                                                                                                                                                                                                                                                                                                                                                                                                                                                                                                                                                                                                                                                                                                                                                                                                                                                                                                                                                                                                                            ill wait all day for a ups delivery and suddenly there will be an email saying they attempted delivery really i was home and the doorbell works how could that be hmm no paper notice of a failed delivery no sign at all that the driver actually was here then im told the package will be delivered days later at an access center miles away from me this has happened countless times complained to the manager and got nothing but condescension they are the worst   \n",
       "203  colis jamais reu  entrepos dans un dpt ups en allemagne impossible de dbloquer la situation\\nen cours de livraison\\nvillerslelac the street number is incorrect this may delay delivery were attempting to update the address  the package is undeliverable and is in the process of being disposed of according to the local guidelines\\n \\ngmt\\nvillerslelac \\n \\ngmt\\nvillerslelac the street number is incorrect this may delay delivery were attempting to update the address\\n \\ngmt\\nthisethe street number is incorrect this may delay delivery were attempting to update the address\\n \\ngmt\\nthiseout for delivery\\n \\ngmt\\nen cours de ddouanement\\nroissy charles de gaulleimport scan\\n \\ngmt\\nyour package has been released by the government agency\\n \\ngmt\\nyour package is on the way\\n \\ngmt\\ndubai airportarrived at facility\\n \\ngmt\\nchek lap kokyour package is in transit were updating plans to schedule your delivery  the package will be forwarded to a ups facility in the destination city\\n \\ngmt\\nchek lap kokyour package is in transit were updating plans to schedule your delivery\\n \\ngmt\\nchek lap kokyour package is in transit were updating plans to schedule your delivery  the package will be forwarded to a ups facility in the destination city\\n \\ngmt\\nchek lap kokyour package is in transit were updating plans to schedule your delivery\\n \\ngmt\\nthe package is at the clearing agency awaiting final release\\n \\ngmt\\nthe package is at the clearing agency awaiting final release\\n \\ngmt\\nkwai chungdeparted from facility\\n \\ngmt\\nkwai chungorigin scan\\n    \n",
       "236                                                                                                                                                                                                                                                                                                                                                                                                                                                                                                                                                                                                                                                                                                                                                                                                                                                                                                                                                                                                                                                                                                                                                                                                                                                                                                                                        ups have no idea whats going on  i had  people give me the runaround they said they would help me but all they did was lie to me  at the end result im going to have a bad mothers day which my package should of been delivered by wednesday now i have to wait until monday   \n",
       "\n",
       "         Source  Sentiment  Topic  \n",
       "244  Trustpilot    -0.9144      2  \n",
       "203  Trustpilot    -0.6124      0  \n",
       "236  Trustpilot    -0.6705      2  "
      ]
     },
     "execution_count": 25,
     "metadata": {},
     "output_type": "execute_result"
    }
   ],
   "source": [
    "# User experience analysis\n",
    "waiting_time_reviews = df[df['Reviews'].str.contains('wait', case=False)]\n",
    "convenience_reviews = df[df['Reviews'].str.contains('convenient', case=False)]\n",
    "damages_reviews = df[df['Reviews'].str.contains('damage', case=False)]\n",
    "\n",
    "waiting_time_reviews.sample(3)"
   ]
  },
  {
   "cell_type": "code",
   "execution_count": 26,
   "id": "17a26559",
   "metadata": {
    "scrolled": true
   },
   "outputs": [
    {
     "data": {
      "text/html": [
       "<div>\n",
       "<style scoped>\n",
       "    .dataframe tbody tr th:only-of-type {\n",
       "        vertical-align: middle;\n",
       "    }\n",
       "\n",
       "    .dataframe tbody tr th {\n",
       "        vertical-align: top;\n",
       "    }\n",
       "\n",
       "    .dataframe thead th {\n",
       "        text-align: right;\n",
       "    }\n",
       "</style>\n",
       "<table border=\"1\" class=\"dataframe\">\n",
       "  <thead>\n",
       "    <tr style=\"text-align: right;\">\n",
       "      <th></th>\n",
       "      <th>Reviews</th>\n",
       "      <th>Source</th>\n",
       "      <th>Sentiment</th>\n",
       "      <th>Topic</th>\n",
       "    </tr>\n",
       "  </thead>\n",
       "  <tbody>\n",
       "    <tr>\n",
       "      <th>632</th>\n",
       "      <td>usp used to be okay but since a year or so their service has turn into a joke they continuosly claim that no one is home but theres always someone at home i had no issue whatsoever with any other carrier they then send my package to a random pick up point sometimes far away and incredibly inconvenient to reach businesses should steer clear of this company if you want to provide seamless shopping experiences</td>\n",
       "      <td>Trustpilot</td>\n",
       "      <td>-0.1265</td>\n",
       "      <td>2</td>\n",
       "    </tr>\n",
       "    <tr>\n",
       "      <th>2833</th>\n",
       "      <td>i am handicapped but that doesnt mean anything to ups i had   pound boxes arriving soon so i told the front desk i want ups to bring my boxes direct to my door but ups refused to do that and they simply dumped the boxes in the lobby ups has no concern for handicapped people or at least the drivers in my area i complained to ups and they said someone would respond but no one ever did respond after  plus days now one of those  pound boxes i want to return i told ups the box is in front of the door and they need to bring the return label and days later they never show up it is my address on the box but they insist on me bringing the box to the lobby even though i am handicapped a ups driver will do what is most convenient for themit is dissapointing that ups wont help and my box sits in front of my door for days i will try to call the local news since reporting this to ups does nothing</td>\n",
       "      <td>Trustpilot</td>\n",
       "      <td>-0.9450</td>\n",
       "      <td>2</td>\n",
       "    </tr>\n",
       "    <tr>\n",
       "      <th>1732</th>\n",
       "      <td>if i could give a zero i would ups is the worst the absolute worst if i could choose not to use them i would in a heartbeat but i cant choose what shipping services sellers use i have had so many expensive parcels lost conveniently never the inexpensive items only things that could fetch a price their customer service is nonexistent and they genuinely dont care they lost an expensive camera and when i asked where it was they said they handed it off but couldnt provide confirmation that it was successfully handed off and when i ask why not i was told that it wasnt their responsibility anymore and to deal with it</td>\n",
       "      <td>Trustpilot</td>\n",
       "      <td>-0.8459</td>\n",
       "      <td>2</td>\n",
       "    </tr>\n",
       "  </tbody>\n",
       "</table>\n",
       "</div>"
      ],
      "text/plain": [
       "                                                                                                                                                                                                                                                                                                                                                                                                                                                                                                                                                                                                                                                                                                                                                                                                                                                                                                                              Reviews  \\\n",
       "632                                                                                                                                                                                                                                                                                                                                                                                                                                                                                                        usp used to be okay but since a year or so their service has turn into a joke they continuosly claim that no one is home but theres always someone at home i had no issue whatsoever with any other carrier they then send my package to a random pick up point sometimes far away and incredibly inconvenient to reach businesses should steer clear of this company if you want to provide seamless shopping experiences   \n",
       "2833  i am handicapped but that doesnt mean anything to ups i had   pound boxes arriving soon so i told the front desk i want ups to bring my boxes direct to my door but ups refused to do that and they simply dumped the boxes in the lobby ups has no concern for handicapped people or at least the drivers in my area i complained to ups and they said someone would respond but no one ever did respond after  plus days now one of those  pound boxes i want to return i told ups the box is in front of the door and they need to bring the return label and days later they never show up it is my address on the box but they insist on me bringing the box to the lobby even though i am handicapped a ups driver will do what is most convenient for themit is dissapointing that ups wont help and my box sits in front of my door for days i will try to call the local news since reporting this to ups does nothing   \n",
       "1732                                                                                                                                                                                                                                                                                       if i could give a zero i would ups is the worst the absolute worst if i could choose not to use them i would in a heartbeat but i cant choose what shipping services sellers use i have had so many expensive parcels lost conveniently never the inexpensive items only things that could fetch a price their customer service is nonexistent and they genuinely dont care they lost an expensive camera and when i asked where it was they said they handed it off but couldnt provide confirmation that it was successfully handed off and when i ask why not i was told that it wasnt their responsibility anymore and to deal with it   \n",
       "\n",
       "          Source  Sentiment  Topic  \n",
       "632   Trustpilot    -0.1265      2  \n",
       "2833  Trustpilot    -0.9450      2  \n",
       "1732  Trustpilot    -0.8459      2  "
      ]
     },
     "execution_count": 26,
     "metadata": {},
     "output_type": "execute_result"
    }
   ],
   "source": [
    "convenience_reviews.sample(3)"
   ]
  },
  {
   "cell_type": "code",
   "execution_count": 27,
   "id": "da7be41a",
   "metadata": {
    "scrolled": true
   },
   "outputs": [
    {
     "data": {
      "text/html": [
       "<div>\n",
       "<style scoped>\n",
       "    .dataframe tbody tr th:only-of-type {\n",
       "        vertical-align: middle;\n",
       "    }\n",
       "\n",
       "    .dataframe tbody tr th {\n",
       "        vertical-align: top;\n",
       "    }\n",
       "\n",
       "    .dataframe thead th {\n",
       "        text-align: right;\n",
       "    }\n",
       "</style>\n",
       "<table border=\"1\" class=\"dataframe\">\n",
       "  <thead>\n",
       "    <tr style=\"text-align: right;\">\n",
       "      <th></th>\n",
       "      <th>Reviews</th>\n",
       "      <th>Source</th>\n",
       "      <th>Sentiment</th>\n",
       "      <th>Topic</th>\n",
       "    </tr>\n",
       "  </thead>\n",
       "  <tbody>\n",
       "    <tr>\n",
       "      <th>3312</th>\n",
       "      <td>horrible service i had an order that was partially delivered in april and i still havent gotten part of my order as well as the stuff i got was damaged i have attempted to file multiple claims but the website wont let me so i have resulted to emailing them multiple times with no response unfortunately i have another order with them and it has been delayed as well i would recommend to steer clear of ups as much as possible because of multiple issues with my orders with no solution or response from them</td>\n",
       "      <td>Trustpilot</td>\n",
       "      <td>-0.1154</td>\n",
       "      <td>2</td>\n",
       "    </tr>\n",
       "  </tbody>\n",
       "</table>\n",
       "</div>"
      ],
      "text/plain": [
       "                                                                                                                                                                                                                                                                                                                                                                                                                                                                                                                         Reviews  \\\n",
       "3312  horrible service i had an order that was partially delivered in april and i still havent gotten part of my order as well as the stuff i got was damaged i have attempted to file multiple claims but the website wont let me so i have resulted to emailing them multiple times with no response unfortunately i have another order with them and it has been delayed as well i would recommend to steer clear of ups as much as possible because of multiple issues with my orders with no solution or response from them   \n",
       "\n",
       "          Source  Sentiment  Topic  \n",
       "3312  Trustpilot    -0.1154      2  "
      ]
     },
     "execution_count": 27,
     "metadata": {},
     "output_type": "execute_result"
    }
   ],
   "source": [
    "damages_reviews.sample()"
   ]
  },
  {
   "cell_type": "code",
   "execution_count": 28,
   "id": "2ac0713c",
   "metadata": {},
   "outputs": [
    {
     "name": "stdout",
     "output_type": "stream",
     "text": [
      "Overall Sentiment: -0.3709\n",
      "Complaints: -0.6644\n",
      "Customer Service Reviews: -0.4350\n",
      "Waiting Time Reviews: -0.4182\n",
      "Convenience Reviews: -0.4317\n",
      "Damages Reviews: -0.6668\n"
     ]
    }
   ],
   "source": [
    "avg_overall_sent     = df['Sentiment'].mean()\n",
    "avg_complaint_sent   = complaints['Sentiment'].mean()\n",
    "avg_customer_sent    = customer_service_reviews['Sentiment'].mean()\n",
    "avg_wait_sent        =  waiting_time_reviews['Sentiment'].mean()\n",
    "avg_convenience_sent = convenience_reviews['Sentiment'].mean()\n",
    "avg_damage_sent      = damages_reviews['Sentiment'].mean()\n",
    "\n",
    "# Output\n",
    "print(f\"Overall Sentiment: { avg_overall_sent : .4f}\")\n",
    "print(f\"Complaints: { avg_complaint_sent : .4f}\")\n",
    "print(f\"Customer Service Reviews: { avg_customer_sent : .4f}\")\n",
    "print(f\"Waiting Time Reviews: { avg_wait_sent : .4f}\")\n",
    "print(f\"Convenience Reviews: { avg_convenience_sent : .4f}\")\n",
    "print(f\"Damages Reviews: { avg_damage_sent : .4f}\")"
   ]
  },
  {
   "cell_type": "code",
   "execution_count": 29,
   "id": "95e34a13",
   "metadata": {},
   "outputs": [
    {
     "data": {
      "image/png": "[encoded data removed]",
      "text/plain": [
       "<Figure size 500x400 with 1 Axes>"
      ]
     },
     "metadata": {},
     "output_type": "display_data"
    }
   ],
   "source": [
    "labels = ['Overall', \n",
    "          'Complaints', \n",
    "          'Customer Service',\n",
    "          'Waiting Time',\n",
    "          'Convenience',\n",
    "          'Damages' \n",
    "         ]\n",
    "\n",
    "data =  [avg_overall_sent, \n",
    "         avg_complaint_sent, \n",
    "         avg_customer_sent,\n",
    "         avg_wait_sent,\n",
    "         avg_convenience_sent,\n",
    "         avg_damage_sent\n",
    "         ]\n",
    "\n",
    "plt.figure(figsize = (5, 4))\n",
    "\n",
    "sns.barplot(x=labels, y=data)\n",
    "plt.ylabel('Sentiment')\n",
    "plt.title('Sentiment by topic - UPS in Trustpilot')\n",
    "plt.xticks(rotation=45)\n",
    "plt.grid(axis='y', linestyle='--', alpha=0.6)\n",
    "\n",
    "plt.show()"
   ]
  },
  {
   "cell_type": "code",
   "execution_count": 30,
   "id": "a5634963",
   "metadata": {
    "scrolled": true
   },
   "outputs": [
    {
     "name": "stdout",
     "output_type": "stream",
     "text": [
      "Percentage of positive reviews:  22.81%\n",
      "Percentage of neutral reviews:  3.76%\n",
      "Percentage of negative reviews:  73.43%\n"
     ]
    }
   ],
   "source": [
    "percentage_positive_rev = df[df['Sentiment'] > 0].shape[0] / df.shape[0] * 100\n",
    "percentage_neutral_rev = df[df['Sentiment'] == 0].shape[0] / df.shape[0] * 100\n",
    "percentage_negative_rev = df[df['Sentiment'] < 0].shape[0] / df.shape[0] * 100\n",
    "\n",
    "print(f\"Percentage of positive reviews: {percentage_positive_rev : .2f}%\")\n",
    "print(f\"Percentage of neutral reviews: {percentage_neutral_rev : .2f}%\")\n",
    "print(f\"Percentage of negative reviews: {percentage_negative_rev : .2f}%\")"
   ]
  },
  {
   "cell_type": "code",
   "execution_count": 31,
   "id": "0a161107",
   "metadata": {},
   "outputs": [
    {
     "data": {
      "image/png": "[encoded data removed]",
      "text/plain": [
       "<Figure size 400x300 with 1 Axes>"
      ]
     },
     "metadata": {},
     "output_type": "display_data"
    }
   ],
   "source": [
    "labels = ['Positive Revs', 'Neutral Rev', 'Negative Rev']\n",
    "\n",
    "data = [percentage_positive_rev, \n",
    "        percentage_neutral_rev, \n",
    "        percentage_negative_rev]\n",
    "\n",
    "plt.figure(figsize = (4, 3))\n",
    "\n",
    "sns.barplot(x=labels, y=data)\n",
    "plt.ylabel('Percentage')\n",
    "plt.title('Sentiment - UPS in Trustpilot')\n",
    "plt.show()"
   ]
  },
  {
   "cell_type": "code",
   "execution_count": 32,
   "id": "15ad2635",
   "metadata": {
    "scrolled": true
   },
   "outputs": [
    {
     "data": {
      "text/html": [
       "<div>\n",
       "<style scoped>\n",
       "    .dataframe tbody tr th:only-of-type {\n",
       "        vertical-align: middle;\n",
       "    }\n",
       "\n",
       "    .dataframe tbody tr th {\n",
       "        vertical-align: top;\n",
       "    }\n",
       "\n",
       "    .dataframe thead th {\n",
       "        text-align: right;\n",
       "    }\n",
       "</style>\n",
       "<table border=\"1\" class=\"dataframe\">\n",
       "  <thead>\n",
       "    <tr style=\"text-align: right;\">\n",
       "      <th></th>\n",
       "      <th>Reviews</th>\n",
       "      <th>Source</th>\n",
       "      <th>Sentiment</th>\n",
       "      <th>Topic</th>\n",
       "    </tr>\n",
       "  </thead>\n",
       "  <tbody>\n",
       "    <tr>\n",
       "      <th>3324</th>\n",
       "      <td>ups is absolutely horrible bad tracking finding help from their customer service is disaster\\nno one is able to tell you the exact status of your package\\nthey keeps on updating rotating the same information on the tracking reference and as anyone can see after  weeks of my package being at ups uk they keeps on saying the same things\\ni contacted them everyday as a sender but unfortunately they were not able to give me details about my package\\nthe receiver also contacted ups uk and they requested more details about the items hence information about all items was provided but nothing change\\n\\nyou can see that they repeatedly update the tracking number with the same information as you can see below\\n\\n\\n on the way\\nups initiated contact with the sender to obtain clearance information once received ups will submit for clearance\\nstanford le hope united kingdom\\n\\n ups has received the information needed to submit your parcel for clearance\\n\\n ups initiated contact with receiver or importer for clearance information once received ups will submit for clearance\\n\\n warehouse scan\\nstanford le hope united kingdom\\n\\n import scan\\nstanford le hope united kingdom\\n\\n warehouse scan\\nstanford le hope united kingdom\\n\\n import scan\\nstanford le hope united kingdom\\n\\n warehouse scan\\nstanford le hope united kingdom\\n\\n import scan\\nstanford le hope united kingdom\\n\\n import scan\\nstanford le hope united kingdom\\n\\n your parcel is prepared for clearance\\n\\n ups initiated contact with receiver or importer for clearance information once received ups will submit for clearance\\n\\n warehouse scan\\nstanford le hope united kingdom\\n\\n import scan\\nstanford le hope united kingdom\\n\\n warehouse scan\\nstanford le hope united kingdom\\n\\n import scan\\nstanford le hope united kingdom\\n\\n warehouse scan\\nstanford le hope united kingdom\\n\\n import scan\\nstanford le hope united kingdom\\n\\n warehouse scan\\nstanford le hope united kingdom\\n\\n import scan\\nstanford le hope united kingdom\\n\\n ups has received the information needed to submit your parcel for clearance\\n\\n ups is preparing your parcel for clearance we will notify you if additional information is needed\\n\\n import scan\\nstanford le hope united kingdom\\n\\n warehouse scan\\nstanford le hope united kingdom\\n\\n import scan\\nstanford le hope united kingdom\\n\\n your parcel is on the way\\n\\n warehouse scan\\nstanford le hope united kingdom\\n\\n import scan\\nstanford le hope united kingdom\\n\\n arrived at facility\\nstanford le hope united kingdom\\n\\n departed from facility\\nherneboernig germany\\n\\n arrived at facility\\nherneboernig germany\\n\\n departed from facility\\ndobra strykow poland\\n\\n export scan\\ndobra strykow poland\\n\\n ups has received the information needed to submit your parcel for clearance\\n\\n warehouse scan\\ndobra strykow poland\\n\\n ups has received the information needed to submit your parcel for clearance\\n\\n warehouse scan\\ndobra strykow poland\\n\\n ups initiated contact with receiver or importer for clearance information once received ups will submit for clearance\\n\\n your parcel is on the way\\n\\n your parcel is on the way\\n\\n warehouse scan\\ndobra strykow poland\\n\\n ups initiated contact with the sender to obtain clearance information once received ups will submit for clearance\\ndobra strykow poland\\n\\n your parcel is on the way\\n\\n export scan\\ndobra strykow poland\\n\\n departed from facility\\nmirkow poland\\n\\n origin scan\\nmirkow poland\\n\\n collection scan\\nmirkow poland\\n\\n your parcel is on the way\\n\\n label created\\nshipper created a label ups has not received the package yet\\npoland\\n\\nfyi i will definitely keeps you up to date till the final status of my case so then you will be able to take proper decisions when it comes to selecting a courier service and to avoid the same horrible experience many people are going through with ups  stanford le hope united kingdom</td>\n",
       "      <td>Trustpilot</td>\n",
       "      <td>0.9995</td>\n",
       "      <td>2</td>\n",
       "    </tr>\n",
       "    <tr>\n",
       "      <th>260</th>\n",
       "      <td>social security administration\\nbenefit verification letter\\ndate may  \\nbnc lqa\\nref c dc\\naaadfftfdtdfafaftdfttfadaatddtdfdddtffdafatattfffaddtddatffftdfdf\\ntiffany burton for\\naniya s burton womack\\n ne th avenue\\nhyjack my planes crake\\ngainesville fl \\nyou asked us for information from aniya samona burton womacks record\\nthe information that you requested is shown below  \\ninformation about current social security benefits\\nbeginning december  the full monthly social security benefit before any\\ndeductions is \\nwe deduct  for medical insurance premiums each month\\nthe regular monthly social security payment is \\nwe must round down to the whole dollar\\nsocial security benefits for a given month are paid the following month for\\nexample social security benefits for march are paid in april\\nyour social security benefits are paid on or about the second wednesday of each\\nmonth\\ninformation about past social security benefits\\nfrom december  to november  the full monthly social security benefit\\nbefore any deductions was \\nwe deducted  for medical insurance premiums each month\\nthe regular monthly social security payment was \\nwe must round down to the whole dollar\\ntype of social security benefit information\\nyou are entitled to monthly benefits as a dependent of the wage earner ne th avenuebevnfqs\\nsocial security administration\\nbenefit verification letter\\ndate may  \\nbnc yse\\nref e c dc\\ntdfafdadfaafdadfdaaftttftffataatatddtfaftfdaaafdftddtfafdtdfaaffd\\ntiffny monique burton scott\\n ne th dr\\ngaineville fl \\nyou asked us for information from your record the information that you requested\\nis shown below if you want anyone else to have this information you may send\\nthem this letter\\ninformation about current social security benefits\\nbeginning april  the full monthly social security benefit before any deductions\\nis \\nwe deduct  for medical insurance premiums each month\\nthe regular monthly social security payment is \\nwe must round down to the whole dollar\\nbenefits were suspended beginning april \\nsocial security benefits for a given month are paid the following month for\\nexample social security benefits for march are paid in april\\nyour social security benefits are paid on or about the second wednesday of each\\nmonth\\ntype of social security benefit information\\nyou are entitled to monthly benefits as a dependent of the wage earner\\ninformation about current social security benefits\\nbeginning june  the full monthly social security benefit before any deductions\\nis \\nwe deduct  for medical insurance premiums each month\\nthe regular monthly social security payment is \\nwe must round down to the whole dollar\\nbenefits were stopped beginning june \\nbevnfqs ccmmbevnr\\nsee next page ne th dr\\ngaineville fl</td>\n",
       "      <td>Trustpilot</td>\n",
       "      <td>0.9984</td>\n",
       "      <td>2</td>\n",
       "    </tr>\n",
       "    <tr>\n",
       "      <th>3687</th>\n",
       "      <td>terrible delivery company i was expecting  parcels while sitting at home waiting a ups van drives by and usually they do as its  way into my estate so i was expecting him to pull up on the left after turning around and he drove straight by then i got  notifications telling me my parcels were delivered at  and i have on our cctv the van driving by at  and driving back at  so i figured it was a typo and got delivered to the wrong address but it was  parcels and the driver signed it as received by  my name after  hrs of ringing and finally getting through to someone who could help cause when i rang straight away they sent me a claim form but it was a prize and a rd party picked the winners so the sponsors couldnt tell me what i won as it would of been a number of many different things cause i won  prizes that were shipped together so the woman on the phone said she tried ringing the driver but as it was pm she couldnt get through to him but she could tell me that he scanned it a couple doors down from my house so all she could tell me was the area where be scanned it no where near my house anyways i asked could she just get the driver to pick it back up and deliver it to me she said she told his supvisor and hed ring me the next day and pick it up and deliver it to me that was  days ago they never rang back to confirm but that night a person who lives the opposite side of the street about  metres away from mine her older mother just said a ups driver rang her bell and before she even answered her door he was in his van as soon as she answered he waved a drove off the woman was like well they must belong to my daughter hrs later the womans daughter dropped over my  parcels and explained what had happened and said she was sorry as i told her she might get a ups driver knocking on her door the next morning to get the parcel so i got my  ups parcels that were of considerable value dropped off by a neighbour i never met  hrs later so i tried ringinf the nice woman who tried getting through to the deiver but couldnt reach her so i waited for a call didnt come so i gave ups the benifit of doubt and thought they would have knocked in and found out she delivered thembut i was a bit taken aback that they nvr called to confirm it with me but wait surprise surprise i seen her today the woman who dropped my prizes over that ups was paid twice i made add with there highest shipping express and she said no  called nor have i yet to get q response from ups so the sponsors got back to me and later i told them that the parcel came so thought they might have told them so out of curiosity i messaged the person who tried helping me and she never got any response back neither as they also asked where both parcels had gone to so ups is a nightmare st i was given a claim form i explained after hrs of wasting euro phone credit after getting through some who said shed look into it jamie her name was thank you she rang me back before the hour she said shed ring me back and she was the  who told me where exactly my parcel was scanned if i was to go round house to house im sure id of found it but the drivers supvisor was informed and she told me she has done everything she could and she assumed her coworkers would do their job as good as her but sadly they didnt give a crap about my parcels the postage was an awful lot to compared to a trustworthy company like dpd these are not worth the hassle espically if you have a issue getting proof of the value of the item or if its something personal do not use these unless your sender can provide them with proof of value so you not also have to have proof of value you have to leave it down to the sender to pass on them details and sadly thats not very easy to do ups if you loose ppls stuff so often just ask them to tick a box in which they paid for the parcel and then refund if you cant get their parcel back after days sending proof of what the items are or if they are of a personal nature isnt right if you want to know what the value of the parcel is do what companies like dpd do you sign a form and value of products and at certain places they want to see the item which is fine but asking after the fact and the item been paid for and wanting proof from the sender not receiver is crazy this was my st and hopefully my last experience with ups if i buy or get anything again and see its ups i will ask for an alternative for sure and btw it wasnt a typo on both parcels my name and phone number were clear as day do see and u would say ok if the house number was similar but it wasnt they werent even the same value ours is odd numbers and theres was an even number and none of our numbers matched just our street address awful shipping company</td>\n",
       "      <td>Trustpilot</td>\n",
       "      <td>0.9979</td>\n",
       "      <td>2</td>\n",
       "    </tr>\n",
       "  </tbody>\n",
       "</table>\n",
       "</div>"
      ],
      "text/plain": [
       "                                                                                                                                                                                                                                                                                                                                                                                                                                                                                                                                                                                                                                                                                                                                                                                                                                                                                                                                                                                                                                                                                                                                                                                                                                                                                                                                                                                                                                                                                                                                                                                                                                                                                                                                                                                                                                                                                                                                                                                                                                                                                                                                                                                                                                                                                                                                                                                                                                                                                                                                                                                                                                                                                                                                                                                                                                                                                                                                                                                                                                                                                                                                                                                                                                                                                                                                                                                                                                                                                                                                                                                                                                                                                                                                                                                                                                                                                                                                                                                                                                                                                                                                                                                                                                                                                                                                                                                                                                                                                                                                                                                                                                                                                                                                                                                                                                                                                                                           Reviews  \\\n",
       "3324                                                                                                                                                                                                                                                                                                                                                                                                                                                                                                                                                                                                                                                                                                                                                                                                                                                                                   ups is absolutely horrible bad tracking finding help from their customer service is disaster\\nno one is able to tell you the exact status of your package\\nthey keeps on updating rotating the same information on the tracking reference and as anyone can see after  weeks of my package being at ups uk they keeps on saying the same things\\ni contacted them everyday as a sender but unfortunately they were not able to give me details about my package\\nthe receiver also contacted ups uk and they requested more details about the items hence information about all items was provided but nothing change\\n\\nyou can see that they repeatedly update the tracking number with the same information as you can see below\\n\\n\\n on the way\\nups initiated contact with the sender to obtain clearance information once received ups will submit for clearance\\nstanford le hope united kingdom\\n\\n ups has received the information needed to submit your parcel for clearance\\n\\n ups initiated contact with receiver or importer for clearance information once received ups will submit for clearance\\n\\n warehouse scan\\nstanford le hope united kingdom\\n\\n import scan\\nstanford le hope united kingdom\\n\\n warehouse scan\\nstanford le hope united kingdom\\n\\n import scan\\nstanford le hope united kingdom\\n\\n warehouse scan\\nstanford le hope united kingdom\\n\\n import scan\\nstanford le hope united kingdom\\n\\n import scan\\nstanford le hope united kingdom\\n\\n your parcel is prepared for clearance\\n\\n ups initiated contact with receiver or importer for clearance information once received ups will submit for clearance\\n\\n warehouse scan\\nstanford le hope united kingdom\\n\\n import scan\\nstanford le hope united kingdom\\n\\n warehouse scan\\nstanford le hope united kingdom\\n\\n import scan\\nstanford le hope united kingdom\\n\\n warehouse scan\\nstanford le hope united kingdom\\n\\n import scan\\nstanford le hope united kingdom\\n\\n warehouse scan\\nstanford le hope united kingdom\\n\\n import scan\\nstanford le hope united kingdom\\n\\n ups has received the information needed to submit your parcel for clearance\\n\\n ups is preparing your parcel for clearance we will notify you if additional information is needed\\n\\n import scan\\nstanford le hope united kingdom\\n\\n warehouse scan\\nstanford le hope united kingdom\\n\\n import scan\\nstanford le hope united kingdom\\n\\n your parcel is on the way\\n\\n warehouse scan\\nstanford le hope united kingdom\\n\\n import scan\\nstanford le hope united kingdom\\n\\n arrived at facility\\nstanford le hope united kingdom\\n\\n departed from facility\\nherneboernig germany\\n\\n arrived at facility\\nherneboernig germany\\n\\n departed from facility\\ndobra strykow poland\\n\\n export scan\\ndobra strykow poland\\n\\n ups has received the information needed to submit your parcel for clearance\\n\\n warehouse scan\\ndobra strykow poland\\n\\n ups has received the information needed to submit your parcel for clearance\\n\\n warehouse scan\\ndobra strykow poland\\n\\n ups initiated contact with receiver or importer for clearance information once received ups will submit for clearance\\n\\n your parcel is on the way\\n\\n your parcel is on the way\\n\\n warehouse scan\\ndobra strykow poland\\n\\n ups initiated contact with the sender to obtain clearance information once received ups will submit for clearance\\ndobra strykow poland\\n\\n your parcel is on the way\\n\\n export scan\\ndobra strykow poland\\n\\n departed from facility\\nmirkow poland\\n\\n origin scan\\nmirkow poland\\n\\n collection scan\\nmirkow poland\\n\\n your parcel is on the way\\n\\n label created\\nshipper created a label ups has not received the package yet\\npoland\\n\\nfyi i will definitely keeps you up to date till the final status of my case so then you will be able to take proper decisions when it comes to selecting a courier service and to avoid the same horrible experience many people are going through with ups  stanford le hope united kingdom   \n",
       "260                                                                                                                                                                                                                                                                                                                                                                                                                                                                                                                                                                                                                                                                                                                                                                                                                                                                                                                                                                                                                                                                                                                                                                                                                                                                                                                                                                                                                                                                                                                                                                                                                                                                                                                                                                                                                                                                                                                                                                                                                                                       social security administration\\nbenefit verification letter\\ndate may  \\nbnc lqa\\nref c dc\\naaadfftfdtdfafaftdfttfadaatddtdfdddtffdafatattfffaddtddatffftdfdf\\ntiffany burton for\\naniya s burton womack\\n ne th avenue\\nhyjack my planes crake\\ngainesville fl \\nyou asked us for information from aniya samona burton womacks record\\nthe information that you requested is shown below  \\ninformation about current social security benefits\\nbeginning december  the full monthly social security benefit before any\\ndeductions is \\nwe deduct  for medical insurance premiums each month\\nthe regular monthly social security payment is \\nwe must round down to the whole dollar\\nsocial security benefits for a given month are paid the following month for\\nexample social security benefits for march are paid in april\\nyour social security benefits are paid on or about the second wednesday of each\\nmonth\\ninformation about past social security benefits\\nfrom december  to november  the full monthly social security benefit\\nbefore any deductions was \\nwe deducted  for medical insurance premiums each month\\nthe regular monthly social security payment was \\nwe must round down to the whole dollar\\ntype of social security benefit information\\nyou are entitled to monthly benefits as a dependent of the wage earner ne th avenuebevnfqs\\nsocial security administration\\nbenefit verification letter\\ndate may  \\nbnc yse\\nref e c dc\\ntdfafdadfaafdadfdaaftttftffataatatddtfaftfdaaafdftddtfafdtdfaaffd\\ntiffny monique burton scott\\n ne th dr\\ngaineville fl \\nyou asked us for information from your record the information that you requested\\nis shown below if you want anyone else to have this information you may send\\nthem this letter\\ninformation about current social security benefits\\nbeginning april  the full monthly social security benefit before any deductions\\nis \\nwe deduct  for medical insurance premiums each month\\nthe regular monthly social security payment is \\nwe must round down to the whole dollar\\nbenefits were suspended beginning april \\nsocial security benefits for a given month are paid the following month for\\nexample social security benefits for march are paid in april\\nyour social security benefits are paid on or about the second wednesday of each\\nmonth\\ntype of social security benefit information\\nyou are entitled to monthly benefits as a dependent of the wage earner\\ninformation about current social security benefits\\nbeginning june  the full monthly social security benefit before any deductions\\nis \\nwe deduct  for medical insurance premiums each month\\nthe regular monthly social security payment is \\nwe must round down to the whole dollar\\nbenefits were stopped beginning june \\nbevnfqs ccmmbevnr\\nsee next page ne th dr\\ngaineville fl    \n",
       "3687  terrible delivery company i was expecting  parcels while sitting at home waiting a ups van drives by and usually they do as its  way into my estate so i was expecting him to pull up on the left after turning around and he drove straight by then i got  notifications telling me my parcels were delivered at  and i have on our cctv the van driving by at  and driving back at  so i figured it was a typo and got delivered to the wrong address but it was  parcels and the driver signed it as received by  my name after  hrs of ringing and finally getting through to someone who could help cause when i rang straight away they sent me a claim form but it was a prize and a rd party picked the winners so the sponsors couldnt tell me what i won as it would of been a number of many different things cause i won  prizes that were shipped together so the woman on the phone said she tried ringing the driver but as it was pm she couldnt get through to him but she could tell me that he scanned it a couple doors down from my house so all she could tell me was the area where be scanned it no where near my house anyways i asked could she just get the driver to pick it back up and deliver it to me she said she told his supvisor and hed ring me the next day and pick it up and deliver it to me that was  days ago they never rang back to confirm but that night a person who lives the opposite side of the street about  metres away from mine her older mother just said a ups driver rang her bell and before she even answered her door he was in his van as soon as she answered he waved a drove off the woman was like well they must belong to my daughter hrs later the womans daughter dropped over my  parcels and explained what had happened and said she was sorry as i told her she might get a ups driver knocking on her door the next morning to get the parcel so i got my  ups parcels that were of considerable value dropped off by a neighbour i never met  hrs later so i tried ringinf the nice woman who tried getting through to the deiver but couldnt reach her so i waited for a call didnt come so i gave ups the benifit of doubt and thought they would have knocked in and found out she delivered thembut i was a bit taken aback that they nvr called to confirm it with me but wait surprise surprise i seen her today the woman who dropped my prizes over that ups was paid twice i made add with there highest shipping express and she said no  called nor have i yet to get q response from ups so the sponsors got back to me and later i told them that the parcel came so thought they might have told them so out of curiosity i messaged the person who tried helping me and she never got any response back neither as they also asked where both parcels had gone to so ups is a nightmare st i was given a claim form i explained after hrs of wasting euro phone credit after getting through some who said shed look into it jamie her name was thank you she rang me back before the hour she said shed ring me back and she was the  who told me where exactly my parcel was scanned if i was to go round house to house im sure id of found it but the drivers supvisor was informed and she told me she has done everything she could and she assumed her coworkers would do their job as good as her but sadly they didnt give a crap about my parcels the postage was an awful lot to compared to a trustworthy company like dpd these are not worth the hassle espically if you have a issue getting proof of the value of the item or if its something personal do not use these unless your sender can provide them with proof of value so you not also have to have proof of value you have to leave it down to the sender to pass on them details and sadly thats not very easy to do ups if you loose ppls stuff so often just ask them to tick a box in which they paid for the parcel and then refund if you cant get their parcel back after days sending proof of what the items are or if they are of a personal nature isnt right if you want to know what the value of the parcel is do what companies like dpd do you sign a form and value of products and at certain places they want to see the item which is fine but asking after the fact and the item been paid for and wanting proof from the sender not receiver is crazy this was my st and hopefully my last experience with ups if i buy or get anything again and see its ups i will ask for an alternative for sure and btw it wasnt a typo on both parcels my name and phone number were clear as day do see and u would say ok if the house number was similar but it wasnt they werent even the same value ours is odd numbers and theres was an even number and none of our numbers matched just our street address awful shipping company   \n",
       "\n",
       "          Source  Sentiment  Topic  \n",
       "3324  Trustpilot     0.9995      2  \n",
       "260   Trustpilot     0.9984      2  \n",
       "3687  Trustpilot     0.9979      2  "
      ]
     },
     "execution_count": 32,
     "metadata": {},
     "output_type": "execute_result"
    }
   ],
   "source": [
    "# Top 3 best reviews\n",
    "df.sort_values(by = 'Sentiment', ascending = False).head(3)"
   ]
  },
  {
   "cell_type": "code",
   "execution_count": 33,
   "id": "fb79274c",
   "metadata": {
    "scrolled": true
   },
   "outputs": [
    {
     "data": {
      "text/html": [
       "<div>\n",
       "<style scoped>\n",
       "    .dataframe tbody tr th:only-of-type {\n",
       "        vertical-align: middle;\n",
       "    }\n",
       "\n",
       "    .dataframe tbody tr th {\n",
       "        vertical-align: top;\n",
       "    }\n",
       "\n",
       "    .dataframe thead th {\n",
       "        text-align: right;\n",
       "    }\n",
       "</style>\n",
       "<table border=\"1\" class=\"dataframe\">\n",
       "  <thead>\n",
       "    <tr style=\"text-align: right;\">\n",
       "      <th></th>\n",
       "      <th>Reviews</th>\n",
       "      <th>Source</th>\n",
       "      <th>Sentiment</th>\n",
       "      <th>Topic</th>\n",
       "    </tr>\n",
       "  </thead>\n",
       "  <tbody>\n",
       "    <tr>\n",
       "      <th>2384</th>\n",
       "      <td>as a past employee i feel like i have a unique perspective on this subject and would like to contribute so here goes the first thing its important to address is that this company could not care less about you im not saying that in the normal i couldnt care less saying kind of way they legitimately wouldnt flinch if you died receiving one of their packages\\n\\nfor clarity i used to work there they know that workers are unionized and do whatever they can to operate on the edges of that have specific days you need off for a funeral jokes on you enjoy using sick time and then getting a company disciplinary meeting for using less than your allotted sick days they will literally punish you for utilizing the very basics of your union contract but anyways im getting distracted by talking about their operations in a country with labor laws lets chat about the help lines these lines are outsourced mostly to women in hot crowded loud spaces mostly in india and pakistan who are forced to pretend they are american customer service reps they also have a script if you call asking about a package youre expecting that day theyre trained to guarantee that package will be delivered if its not who cares some other under paid lady gets screamed at not anyone important these poor women and probably men are getting verbally abused for cents on the dollar not only that but most often these poor people sound so tired and broken you know this isnt the first time theyve had this exact call its so sad\\n\\nnow lets talk about what happens when you make that call the majority of the work done for ups happens from am till around am these employees known as the sunset shift are the lifeblood of ups and most often the people who are in their first  years with the company once that call is placed the customer service rep record it and passes the details on those details go to a higher up in the us that person relays those details to a coordinator coordinators are non unionized people who for some reason oversee the operation of unionized workers they are spiteful  mean and angry because they dont get the perks they pass the info to a supervisor the last person on the chain of non union people and those people then punish the workers for circumstances beyond their control all because ups loves to lie and make promises they cant keep\\n\\nthis company is a joke and violates work laws daily if you have a choice avoid them</td>\n",
       "      <td>Trustpilot</td>\n",
       "      <td>-0.9943</td>\n",
       "      <td>2</td>\n",
       "    </tr>\n",
       "    <tr>\n",
       "      <th>2057</th>\n",
       "      <td>if you made it here please do yourself a favor and avoid at all cost i read the previous reviews and i thought people were just unlucky but it was beyond my imagination i was going to have such a terrible service\\n\\n missing information in their website you get an estimation in their website then they say that in the case of individuals you need to drop the shipment in their main warehouse in mascot they cant pick it up from your personal address\\n poor customer service you get to their office in mascot and they communicate its in a different location once you get there they say you have to be back to their office in mascot\\n misleading quote this was the main reason why i picked ups the quote i got online was cheaper than the rest of competitors what a mistake after dropping my stuff in the warehouse  boxes kg they said they would give me a call to confirm the price this was my last week before relocating overseas finally the day before jumping on that plane i got that call saying the amount was  in their website i got it for \\n damaging the delivery well maybe they have a terrible website and customer service but when it comes to their business shipping they should know their stuff right wrong they waterdamaged  out of  boxes my personal belongings came in different boxes to the heavyduty ones i supplied content was very damaged i had to throw away around  books because they were all wet had to run  or  laundries for the same reason all my clothes in the boxes were wet they also lost some small stuff they didnt even care to nicely put it back all of it in a new box the boxes they used were way subpar for an international delivery they also arrived broken terrible\\n extra charge the icing on the cake a few weeks after this nightmare service i got an sms from a debt recovery company solved collections group saying that i owe  by the looks of it they gave a wrong quote on the phone and now theyre saying i have to pay that extra asking for the tax invoice theres no reference to that extra amount its just a new random figure they came up with it couldve been million instead of hundred needless to say im disputing that as they have to prove they provided with that quote beforehand or i agreed to be liable for any mishandling on their accounting\\n\\n\\nall in all please avoid</td>\n",
       "      <td>Trustpilot</td>\n",
       "      <td>-0.9953</td>\n",
       "      <td>2</td>\n",
       "    </tr>\n",
       "    <tr>\n",
       "      <th>2084</th>\n",
       "      <td>if i could give ups a negitive  i would i ordered baking ingredients for my catering business and ups lost my  package because the sender didnt give me the option to fully insure my package as a buyer i am the one who had to eat the  loss im a disabled woman in a wheelchair living on disability trying to make it by doing some side work to pay for my medical treatments ups didnt care they refused to pay to order the product they lost we spent hours on the phone waiting on hold just to finally get someone on the phone who i could hardly understand the incompetence shown in this situation was stressful and i was so upset they cost me thousands that i could have made to pay for my medical care ups showed zero empathy for the situation i was so frustrated that i began having minor seizures and my fianc had to take over the calls a billion dollar company stole  from someone who lives on a measly disability check they are ruthless and heartless and i would never ship through them again there is a hot place in hell for heartless people like that because of their incompetence i cant afford my infusions and i will suffer pain from my health condition rsd the pain from my disease is the most painful condition known to man my life literally depends on my infusions because of ups i wont be able to continue my treatments the shipper is not willing to send me my order since it was not them that lost the package im literally writing this looking through tears and in panic attacks since i know the intense suffering that is coming i hate ups for their heartless way they have handled this situation i will never ship ups again if you have anything your life depends on i highly recommend that you use someone else</td>\n",
       "      <td>Trustpilot</td>\n",
       "      <td>-0.9966</td>\n",
       "      <td>2</td>\n",
       "    </tr>\n",
       "  </tbody>\n",
       "</table>\n",
       "</div>"
      ],
      "text/plain": [
       "                                                                                                                                                                                                                                                                                                                                                                                                                                                                                                                                                                                                                                                                                                                                                                                                                                                                                                                                                                                                                                                                                                                                                                                                                                                                                                                                                                                                                                                                                                                                                                                                                                                                                                                                                                                                                                                                                                                                                                                                                                                                                                                                                                                                                                                                                                                                                                                                                                                                                                                       Reviews  \\\n",
       "2384  as a past employee i feel like i have a unique perspective on this subject and would like to contribute so here goes the first thing its important to address is that this company could not care less about you im not saying that in the normal i couldnt care less saying kind of way they legitimately wouldnt flinch if you died receiving one of their packages\\n\\nfor clarity i used to work there they know that workers are unionized and do whatever they can to operate on the edges of that have specific days you need off for a funeral jokes on you enjoy using sick time and then getting a company disciplinary meeting for using less than your allotted sick days they will literally punish you for utilizing the very basics of your union contract but anyways im getting distracted by talking about their operations in a country with labor laws lets chat about the help lines these lines are outsourced mostly to women in hot crowded loud spaces mostly in india and pakistan who are forced to pretend they are american customer service reps they also have a script if you call asking about a package youre expecting that day theyre trained to guarantee that package will be delivered if its not who cares some other under paid lady gets screamed at not anyone important these poor women and probably men are getting verbally abused for cents on the dollar not only that but most often these poor people sound so tired and broken you know this isnt the first time theyve had this exact call its so sad\\n\\nnow lets talk about what happens when you make that call the majority of the work done for ups happens from am till around am these employees known as the sunset shift are the lifeblood of ups and most often the people who are in their first  years with the company once that call is placed the customer service rep record it and passes the details on those details go to a higher up in the us that person relays those details to a coordinator coordinators are non unionized people who for some reason oversee the operation of unionized workers they are spiteful  mean and angry because they dont get the perks they pass the info to a supervisor the last person on the chain of non union people and those people then punish the workers for circumstances beyond their control all because ups loves to lie and make promises they cant keep\\n\\nthis company is a joke and violates work laws daily if you have a choice avoid them   \n",
       "2057                                                                                                                     if you made it here please do yourself a favor and avoid at all cost i read the previous reviews and i thought people were just unlucky but it was beyond my imagination i was going to have such a terrible service\\n\\n missing information in their website you get an estimation in their website then they say that in the case of individuals you need to drop the shipment in their main warehouse in mascot they cant pick it up from your personal address\\n poor customer service you get to their office in mascot and they communicate its in a different location once you get there they say you have to be back to their office in mascot\\n misleading quote this was the main reason why i picked ups the quote i got online was cheaper than the rest of competitors what a mistake after dropping my stuff in the warehouse  boxes kg they said they would give me a call to confirm the price this was my last week before relocating overseas finally the day before jumping on that plane i got that call saying the amount was  in their website i got it for \\n damaging the delivery well maybe they have a terrible website and customer service but when it comes to their business shipping they should know their stuff right wrong they waterdamaged  out of  boxes my personal belongings came in different boxes to the heavyduty ones i supplied content was very damaged i had to throw away around  books because they were all wet had to run  or  laundries for the same reason all my clothes in the boxes were wet they also lost some small stuff they didnt even care to nicely put it back all of it in a new box the boxes they used were way subpar for an international delivery they also arrived broken terrible\\n extra charge the icing on the cake a few weeks after this nightmare service i got an sms from a debt recovery company solved collections group saying that i owe  by the looks of it they gave a wrong quote on the phone and now theyre saying i have to pay that extra asking for the tax invoice theres no reference to that extra amount its just a new random figure they came up with it couldve been million instead of hundred needless to say im disputing that as they have to prove they provided with that quote beforehand or i agreed to be liable for any mishandling on their accounting\\n\\n\\nall in all please avoid   \n",
       "2084                                                                                                                                                                                                                                                                                                                                                                                                                                                                                                                                                                                                                                                                                                                                 if i could give ups a negitive  i would i ordered baking ingredients for my catering business and ups lost my  package because the sender didnt give me the option to fully insure my package as a buyer i am the one who had to eat the  loss im a disabled woman in a wheelchair living on disability trying to make it by doing some side work to pay for my medical treatments ups didnt care they refused to pay to order the product they lost we spent hours on the phone waiting on hold just to finally get someone on the phone who i could hardly understand the incompetence shown in this situation was stressful and i was so upset they cost me thousands that i could have made to pay for my medical care ups showed zero empathy for the situation i was so frustrated that i began having minor seizures and my fianc had to take over the calls a billion dollar company stole  from someone who lives on a measly disability check they are ruthless and heartless and i would never ship through them again there is a hot place in hell for heartless people like that because of their incompetence i cant afford my infusions and i will suffer pain from my health condition rsd the pain from my disease is the most painful condition known to man my life literally depends on my infusions because of ups i wont be able to continue my treatments the shipper is not willing to send me my order since it was not them that lost the package im literally writing this looking through tears and in panic attacks since i know the intense suffering that is coming i hate ups for their heartless way they have handled this situation i will never ship ups again if you have anything your life depends on i highly recommend that you use someone else   \n",
       "\n",
       "          Source  Sentiment  Topic  \n",
       "2384  Trustpilot    -0.9943      2  \n",
       "2057  Trustpilot    -0.9953      2  \n",
       "2084  Trustpilot    -0.9966      2  "
      ]
     },
     "execution_count": 33,
     "metadata": {},
     "output_type": "execute_result"
    }
   ],
   "source": [
    "# Top 3 worst reviews\n",
    "df.sort_values(by = 'Sentiment', ascending = False).tail(3)"
   ]
  },
  {
   "cell_type": "code",
   "execution_count": 34,
   "id": "ab85d46d",
   "metadata": {},
   "outputs": [],
   "source": [
    "df_trustpilot = df"
   ]
  },
  {
   "cell_type": "markdown",
   "id": "28412449",
   "metadata": {},
   "source": [
    "### From Reddit:"
   ]
  },
  {
   "cell_type": "code",
   "execution_count": 35,
   "id": "633dd7ce",
   "metadata": {},
   "outputs": [
    {
     "data": {
      "text/html": [
       "<div>\n",
       "<style scoped>\n",
       "    .dataframe tbody tr th:only-of-type {\n",
       "        vertical-align: middle;\n",
       "    }\n",
       "\n",
       "    .dataframe tbody tr th {\n",
       "        vertical-align: top;\n",
       "    }\n",
       "\n",
       "    .dataframe thead th {\n",
       "        text-align: right;\n",
       "    }\n",
       "</style>\n",
       "<table border=\"1\" class=\"dataframe\">\n",
       "  <thead>\n",
       "    <tr style=\"text-align: right;\">\n",
       "      <th></th>\n",
       "      <th>Reviews</th>\n",
       "      <th>Source</th>\n",
       "    </tr>\n",
       "  </thead>\n",
       "  <tbody>\n",
       "    <tr>\n",
       "      <th>0</th>\n",
       "      <td>This has said this for about a day how much longer till delivered I thought it was one day ups shipping</td>\n",
       "      <td>Reddit</td>\n",
       "    </tr>\n",
       "    <tr>\n",
       "      <th>1</th>\n",
       "      <td>Anyone fired for use of Cannabis?</td>\n",
       "      <td>Reddit</td>\n",
       "    </tr>\n",
       "    <tr>\n",
       "      <th>2</th>\n",
       "      <td>Paying custom fees on an item that is being returned?</td>\n",
       "      <td>Reddit</td>\n",
       "    </tr>\n",
       "  </tbody>\n",
       "</table>\n",
       "</div>"
      ],
      "text/plain": [
       "                                                                                                   Reviews  \\\n",
       "0  This has said this for about a day how much longer till delivered I thought it was one day ups shipping   \n",
       "1                                                                        Anyone fired for use of Cannabis?   \n",
       "2                                                    Paying custom fees on an item that is being returned?   \n",
       "\n",
       "   Source  \n",
       "0  Reddit  \n",
       "1  Reddit  \n",
       "2  Reddit  "
      ]
     },
     "execution_count": 35,
     "metadata": {},
     "output_type": "execute_result"
    }
   ],
   "source": [
    "# Load the dataset\n",
    "df = pd.read_csv(\"Reviews_reddit_UPS.csv\")\n",
    "df[\"Source\"] = \"Reddit\"\n",
    "df = df.dropna()\n",
    "df.head(3)"
   ]
  },
  {
   "cell_type": "code",
   "execution_count": 36,
   "id": "aa940f0f",
   "metadata": {},
   "outputs": [
    {
     "data": {
      "text/html": [
       "<div>\n",
       "<style scoped>\n",
       "    .dataframe tbody tr th:only-of-type {\n",
       "        vertical-align: middle;\n",
       "    }\n",
       "\n",
       "    .dataframe tbody tr th {\n",
       "        vertical-align: top;\n",
       "    }\n",
       "\n",
       "    .dataframe thead th {\n",
       "        text-align: right;\n",
       "    }\n",
       "</style>\n",
       "<table border=\"1\" class=\"dataframe\">\n",
       "  <thead>\n",
       "    <tr style=\"text-align: right;\">\n",
       "      <th></th>\n",
       "      <th>Reviews</th>\n",
       "      <th>Source</th>\n",
       "      <th>Sentiment</th>\n",
       "      <th>Topic</th>\n",
       "    </tr>\n",
       "  </thead>\n",
       "  <tbody>\n",
       "    <tr>\n",
       "      <th>30</th>\n",
       "      <td>does anyone work at the portland terminal or nearby</td>\n",
       "      <td>Reddit</td>\n",
       "      <td>0.000</td>\n",
       "      <td>0</td>\n",
       "    </tr>\n",
       "    <tr>\n",
       "      <th>240</th>\n",
       "      <td>possible fraudscamphishing by an unknown company using ups</td>\n",
       "      <td>Reddit</td>\n",
       "      <td>0.000</td>\n",
       "      <td>0</td>\n",
       "    </tr>\n",
       "    <tr>\n",
       "      <th>786</th>\n",
       "      <td>package went missing and ups tracking shows a claim has been issued</td>\n",
       "      <td>Reddit</td>\n",
       "      <td>-0.296</td>\n",
       "      <td>1</td>\n",
       "    </tr>\n",
       "  </tbody>\n",
       "</table>\n",
       "</div>"
      ],
      "text/plain": [
       "                                                                 Reviews  \\\n",
       "30                   does anyone work at the portland terminal or nearby   \n",
       "240           possible fraudscamphishing by an unknown company using ups   \n",
       "786  package went missing and ups tracking shows a claim has been issued   \n",
       "\n",
       "     Source  Sentiment  Topic  \n",
       "30   Reddit      0.000      0  \n",
       "240  Reddit      0.000      0  \n",
       "786  Reddit     -0.296      1  "
      ]
     },
     "execution_count": 36,
     "metadata": {},
     "output_type": "execute_result"
    }
   ],
   "source": [
    "# Applying preprocessing to the 'Reviews' column\n",
    "df['Reviews'] = df['Reviews'].apply(preprocess_text)\n",
    "\n",
    "# Sentiment analysis\n",
    "sia = SentimentIntensityAnalyzer()\n",
    "df['Sentiment'] = df['Reviews'].apply(lambda x: sia.polarity_scores(x)['compound'])\n",
    "\n",
    "# Applying TF-IDF vectorization\n",
    "stop_words = stopwords.words('english')\n",
    "vectorizer = TfidfVectorizer(stop_words=stop_words)\n",
    "tfidf_matrix = vectorizer.fit_transform(df['Reviews'])\n",
    "\n",
    "# Performing topic modeling using LDA\n",
    "lda_model = LatentDirichletAllocation(n_components=3, random_state=42)\n",
    "lda_matrix = lda_model.fit_transform(tfidf_matrix)\n",
    "\n",
    "# Finding dominant topic for each review\n",
    "dominant_topic = lda_matrix.argmax(axis=1)\n",
    "df['Topic'] = dominant_topic\n",
    "\n",
    "df.sample(3)"
   ]
  },
  {
   "cell_type": "code",
   "execution_count": 37,
   "id": "70b244c3",
   "metadata": {},
   "outputs": [
    {
     "data": {
      "text/html": [
       "<div>\n",
       "<style scoped>\n",
       "    .dataframe tbody tr th:only-of-type {\n",
       "        vertical-align: middle;\n",
       "    }\n",
       "\n",
       "    .dataframe tbody tr th {\n",
       "        vertical-align: top;\n",
       "    }\n",
       "\n",
       "    .dataframe thead th {\n",
       "        text-align: right;\n",
       "    }\n",
       "</style>\n",
       "<table border=\"1\" class=\"dataframe\">\n",
       "  <thead>\n",
       "    <tr style=\"text-align: right;\">\n",
       "      <th></th>\n",
       "      <th>Reviews</th>\n",
       "      <th>Sentiment</th>\n",
       "    </tr>\n",
       "  </thead>\n",
       "  <tbody>\n",
       "    <tr>\n",
       "      <th>523</th>\n",
       "      <td>fire at ups in lakewood nj</td>\n",
       "      <td>-0.3400</td>\n",
       "    </tr>\n",
       "    <tr>\n",
       "      <th>452</th>\n",
       "      <td>lost package</td>\n",
       "      <td>-0.3182</td>\n",
       "    </tr>\n",
       "    <tr>\n",
       "      <th>560</th>\n",
       "      <td>heard you all might go on strike</td>\n",
       "      <td>-0.1280</td>\n",
       "    </tr>\n",
       "  </tbody>\n",
       "</table>\n",
       "</div>"
      ],
      "text/plain": [
       "                              Reviews  Sentiment\n",
       "523        fire at ups in lakewood nj    -0.3400\n",
       "452                      lost package    -0.3182\n",
       "560  heard you all might go on strike    -0.1280"
      ]
     },
     "execution_count": 37,
     "metadata": {},
     "output_type": "execute_result"
    }
   ],
   "source": [
    "# Complaint analysis\n",
    "negative_reviews = df[df['Sentiment'] < 0]\n",
    "complaints = negative_reviews[['Reviews','Sentiment']]\n",
    "complaints.sample(3)"
   ]
  },
  {
   "cell_type": "code",
   "execution_count": 38,
   "id": "7e3608ea",
   "metadata": {},
   "outputs": [],
   "source": [
    "# Customer service analysis\n",
    "customer_service_reviews = df[df['Reviews'].str.contains('service', case=False)]\n",
    "\n",
    "# User experience analysis\n",
    "waiting_time_reviews = df[df['Reviews'].str.contains('wait', case=False)]\n",
    "convenience_reviews = df[df['Reviews'].str.contains('convenient', case=False)]\n",
    "damages_reviews = df[df['Reviews'].str.contains('damage', case=False)]"
   ]
  },
  {
   "cell_type": "code",
   "execution_count": 39,
   "id": "c2c97a35",
   "metadata": {},
   "outputs": [
    {
     "data": {
      "text/html": [
       "<div>\n",
       "<style scoped>\n",
       "    .dataframe tbody tr th:only-of-type {\n",
       "        vertical-align: middle;\n",
       "    }\n",
       "\n",
       "    .dataframe tbody tr th {\n",
       "        vertical-align: top;\n",
       "    }\n",
       "\n",
       "    .dataframe thead th {\n",
       "        text-align: right;\n",
       "    }\n",
       "</style>\n",
       "<table border=\"1\" class=\"dataframe\">\n",
       "  <thead>\n",
       "    <tr style=\"text-align: right;\">\n",
       "      <th></th>\n",
       "      <th>Reviews</th>\n",
       "      <th>Source</th>\n",
       "      <th>Sentiment</th>\n",
       "      <th>Topic</th>\n",
       "    </tr>\n",
       "  </thead>\n",
       "  <tbody>\n",
       "    <tr>\n",
       "      <th>621</th>\n",
       "      <td>anyone have the answer key for the hours of service knowledge check quiz</td>\n",
       "      <td>Reddit</td>\n",
       "      <td>0.0000</td>\n",
       "      <td>0</td>\n",
       "    </tr>\n",
       "    <tr>\n",
       "      <th>351</th>\n",
       "      <td>trying to find data on cep courier express and parcel services fraud</td>\n",
       "      <td>Reddit</td>\n",
       "      <td>-0.5859</td>\n",
       "      <td>2</td>\n",
       "    </tr>\n",
       "    <tr>\n",
       "      <th>497</th>\n",
       "      <td>worst customer service in the history of commerce</td>\n",
       "      <td>Reddit</td>\n",
       "      <td>-0.6249</td>\n",
       "      <td>2</td>\n",
       "    </tr>\n",
       "  </tbody>\n",
       "</table>\n",
       "</div>"
      ],
      "text/plain": [
       "                                                                      Reviews  \\\n",
       "621  anyone have the answer key for the hours of service knowledge check quiz   \n",
       "351      trying to find data on cep courier express and parcel services fraud   \n",
       "497                         worst customer service in the history of commerce   \n",
       "\n",
       "     Source  Sentiment  Topic  \n",
       "621  Reddit     0.0000      0  \n",
       "351  Reddit    -0.5859      2  \n",
       "497  Reddit    -0.6249      2  "
      ]
     },
     "execution_count": 39,
     "metadata": {},
     "output_type": "execute_result"
    }
   ],
   "source": [
    "customer_service_reviews.sample(3)"
   ]
  },
  {
   "cell_type": "code",
   "execution_count": 40,
   "id": "115bcc69",
   "metadata": {},
   "outputs": [
    {
     "data": {
      "text/html": [
       "<div>\n",
       "<style scoped>\n",
       "    .dataframe tbody tr th:only-of-type {\n",
       "        vertical-align: middle;\n",
       "    }\n",
       "\n",
       "    .dataframe tbody tr th {\n",
       "        vertical-align: top;\n",
       "    }\n",
       "\n",
       "    .dataframe thead th {\n",
       "        text-align: right;\n",
       "    }\n",
       "</style>\n",
       "<table border=\"1\" class=\"dataframe\">\n",
       "  <thead>\n",
       "    <tr style=\"text-align: right;\">\n",
       "      <th></th>\n",
       "      <th>Reviews</th>\n",
       "      <th>Source</th>\n",
       "      <th>Sentiment</th>\n",
       "      <th>Topic</th>\n",
       "    </tr>\n",
       "  </thead>\n",
       "  <tbody>\n",
       "    <tr>\n",
       "      <th>729</th>\n",
       "      <td>my package was shipped according to nintendo but on the ups app it still says that the package is waiting for ups to collect it</td>\n",
       "      <td>Reddit</td>\n",
       "      <td>0.0000</td>\n",
       "      <td>0</td>\n",
       "    </tr>\n",
       "    <tr>\n",
       "      <th>402</th>\n",
       "      <td>am i not able to go to an access point and just pick up my package rather than waiting</td>\n",
       "      <td>Reddit</td>\n",
       "      <td>0.0000</td>\n",
       "      <td>1</td>\n",
       "    </tr>\n",
       "    <tr>\n",
       "      <th>888</th>\n",
       "      <td>so you mean to tell me the only reason ups hired me after waiting for a job alert for  years is because they are on strike and they want scabs wtf</td>\n",
       "      <td>Reddit</td>\n",
       "      <td>-0.4215</td>\n",
       "      <td>0</td>\n",
       "    </tr>\n",
       "  </tbody>\n",
       "</table>\n",
       "</div>"
      ],
      "text/plain": [
       "                                                                                                                                                Reviews  \\\n",
       "729                     my package was shipped according to nintendo but on the ups app it still says that the package is waiting for ups to collect it   \n",
       "402                                                              am i not able to go to an access point and just pick up my package rather than waiting   \n",
       "888  so you mean to tell me the only reason ups hired me after waiting for a job alert for  years is because they are on strike and they want scabs wtf   \n",
       "\n",
       "     Source  Sentiment  Topic  \n",
       "729  Reddit     0.0000      0  \n",
       "402  Reddit     0.0000      1  \n",
       "888  Reddit    -0.4215      0  "
      ]
     },
     "execution_count": 40,
     "metadata": {},
     "output_type": "execute_result"
    }
   ],
   "source": [
    "waiting_time_reviews.sample(3)"
   ]
  },
  {
   "cell_type": "code",
   "execution_count": 41,
   "id": "73eb37e8",
   "metadata": {},
   "outputs": [
    {
     "data": {
      "text/html": [
       "<div>\n",
       "<style scoped>\n",
       "    .dataframe tbody tr th:only-of-type {\n",
       "        vertical-align: middle;\n",
       "    }\n",
       "\n",
       "    .dataframe tbody tr th {\n",
       "        vertical-align: top;\n",
       "    }\n",
       "\n",
       "    .dataframe thead th {\n",
       "        text-align: right;\n",
       "    }\n",
       "</style>\n",
       "<table border=\"1\" class=\"dataframe\">\n",
       "  <thead>\n",
       "    <tr style=\"text-align: right;\">\n",
       "      <th></th>\n",
       "      <th>Reviews</th>\n",
       "      <th>Source</th>\n",
       "      <th>Sentiment</th>\n",
       "      <th>Topic</th>\n",
       "    </tr>\n",
       "  </thead>\n",
       "  <tbody>\n",
       "    <tr>\n",
       "      <th>882</th>\n",
       "      <td>damaged item</td>\n",
       "      <td>Reddit</td>\n",
       "      <td>-0.4404</td>\n",
       "      <td>1</td>\n",
       "    </tr>\n",
       "    <tr>\n",
       "      <th>278</th>\n",
       "      <td>small claims court for ups damage</td>\n",
       "      <td>Reddit</td>\n",
       "      <td>-0.4939</td>\n",
       "      <td>0</td>\n",
       "    </tr>\n",
       "    <tr>\n",
       "      <th>592</th>\n",
       "      <td>issues with submitting a damaged in transit claim</td>\n",
       "      <td>Reddit</td>\n",
       "      <td>-0.4404</td>\n",
       "      <td>1</td>\n",
       "    </tr>\n",
       "  </tbody>\n",
       "</table>\n",
       "</div>"
      ],
      "text/plain": [
       "                                               Reviews  Source  Sentiment  \\\n",
       "882                                       damaged item  Reddit    -0.4404   \n",
       "278                  small claims court for ups damage  Reddit    -0.4939   \n",
       "592  issues with submitting a damaged in transit claim  Reddit    -0.4404   \n",
       "\n",
       "     Topic  \n",
       "882      1  \n",
       "278      0  \n",
       "592      1  "
      ]
     },
     "execution_count": 41,
     "metadata": {},
     "output_type": "execute_result"
    }
   ],
   "source": [
    "damages_reviews.sample(3)"
   ]
  },
  {
   "cell_type": "code",
   "execution_count": 42,
   "id": "c49ba745",
   "metadata": {},
   "outputs": [
    {
     "name": "stdout",
     "output_type": "stream",
     "text": [
      "Overall Sentiment: -0.0386\n",
      "Complaints: -0.3252\n",
      "Customer Service Reviews: -0.0971\n",
      "Waiting Time Reviews: -0.1054\n",
      "Convenience Reviews:  nan\n",
      "Damages Reviews: -0.3779\n"
     ]
    }
   ],
   "source": [
    "avg_overall_sent     = df['Sentiment'].mean()\n",
    "avg_complaint_sent   = complaints['Sentiment'].mean()\n",
    "avg_customer_sent    = customer_service_reviews['Sentiment'].mean()\n",
    "avg_wait_sent        =  waiting_time_reviews['Sentiment'].mean()\n",
    "avg_convenience_sent = convenience_reviews['Sentiment'].mean()\n",
    "avg_damage_sent      = damages_reviews['Sentiment'].mean()\n",
    "\n",
    "# Output\n",
    "print(f\"Overall Sentiment: { avg_overall_sent : .4f}\")\n",
    "print(f\"Complaints: { avg_complaint_sent : .4f}\")\n",
    "print(f\"Customer Service Reviews: { avg_customer_sent : .4f}\")\n",
    "print(f\"Waiting Time Reviews: { avg_wait_sent : .4f}\")\n",
    "print(f\"Convenience Reviews: { avg_convenience_sent : .4f}\")\n",
    "print(f\"Damages Reviews: { avg_damage_sent : .4f}\")"
   ]
  },
  {
   "cell_type": "code",
   "execution_count": 43,
   "id": "8ac77b41",
   "metadata": {},
   "outputs": [
    {
     "data": {
      "image/png": "[encoded data removed]",
      "text/plain": [
       "<Figure size 500x400 with 1 Axes>"
      ]
     },
     "metadata": {},
     "output_type": "display_data"
    }
   ],
   "source": [
    "labels = ['Overall', \n",
    "          'Complaints', \n",
    "          'Customer Service',\n",
    "          'Waiting Time',\n",
    "          'Convenience',\n",
    "          'Damages' \n",
    "         ]\n",
    "\n",
    "data =  [avg_overall_sent, \n",
    "         avg_complaint_sent, \n",
    "         avg_customer_sent,\n",
    "         avg_wait_sent,\n",
    "         avg_convenience_sent,\n",
    "         avg_damage_sent\n",
    "         ]\n",
    "\n",
    "plt.figure(figsize = (5, 4))\n",
    "\n",
    "sns.barplot(x=labels, y=data)\n",
    "plt.ylabel('Sentiment')\n",
    "plt.title('Sentiment by topic - UPS in Reddit')\n",
    "plt.xticks(rotation=45)\n",
    "plt.grid(axis='y', linestyle='--', alpha=0.6)\n",
    "\n",
    "plt.show()"
   ]
  },
  {
   "cell_type": "code",
   "execution_count": 44,
   "id": "d13c2463",
   "metadata": {},
   "outputs": [
    {
     "name": "stdout",
     "output_type": "stream",
     "text": [
      "Percentage of positive reviews:  18.06%\n",
      "Percentage of neutral reviews:  51.39%\n",
      "Percentage of negative reviews:  30.56%\n"
     ]
    }
   ],
   "source": [
    "percentage_positive_rev = df[df['Sentiment'] > 0].shape[0] / df.shape[0] * 100\n",
    "percentage_neutral_rev = df[df['Sentiment'] == 0].shape[0] / df.shape[0] * 100\n",
    "percentage_negative_rev = df[df['Sentiment'] < 0].shape[0] / df.shape[0] * 100\n",
    "\n",
    "print(f\"Percentage of positive reviews: {percentage_positive_rev : .2f}%\")\n",
    "print(f\"Percentage of neutral reviews: {percentage_neutral_rev : .2f}%\")\n",
    "print(f\"Percentage of negative reviews: {percentage_negative_rev : .2f}%\")"
   ]
  },
  {
   "cell_type": "code",
   "execution_count": 45,
   "id": "72dd569d",
   "metadata": {},
   "outputs": [
    {
     "data": {
      "image/png": "[encoded data removed]",
      "text/plain": [
       "<Figure size 400x300 with 1 Axes>"
      ]
     },
     "metadata": {},
     "output_type": "display_data"
    }
   ],
   "source": [
    "labels = ['Positive Revs', 'Neutral Rev', 'Negative Rev']\n",
    "\n",
    "data = [percentage_positive_rev, \n",
    "        percentage_neutral_rev, \n",
    "        percentage_negative_rev]\n",
    "\n",
    "plt.figure(figsize = (4, 3))\n",
    "\n",
    "sns.barplot(x=labels, y=data)\n",
    "plt.ylabel('Percentage')\n",
    "plt.title('Sentiment - UPS in Reddit')\n",
    "plt.show()"
   ]
  },
  {
   "cell_type": "code",
   "execution_count": 46,
   "id": "08d5a003",
   "metadata": {},
   "outputs": [
    {
     "data": {
      "text/html": [
       "<div>\n",
       "<style scoped>\n",
       "    .dataframe tbody tr th:only-of-type {\n",
       "        vertical-align: middle;\n",
       "    }\n",
       "\n",
       "    .dataframe tbody tr th {\n",
       "        vertical-align: top;\n",
       "    }\n",
       "\n",
       "    .dataframe thead th {\n",
       "        text-align: right;\n",
       "    }\n",
       "</style>\n",
       "<table border=\"1\" class=\"dataframe\">\n",
       "  <thead>\n",
       "    <tr style=\"text-align: right;\">\n",
       "      <th></th>\n",
       "      <th>Reviews</th>\n",
       "      <th>Source</th>\n",
       "      <th>Sentiment</th>\n",
       "      <th>Topic</th>\n",
       "    </tr>\n",
       "  </thead>\n",
       "  <tbody>\n",
       "    <tr>\n",
       "      <th>415</th>\n",
       "      <td>best position for label is there a best spot for a label on a  x  x  box</td>\n",
       "      <td>Reddit</td>\n",
       "      <td>0.8555</td>\n",
       "      <td>2</td>\n",
       "    </tr>\n",
       "    <tr>\n",
       "      <th>78</th>\n",
       "      <td>best solution</td>\n",
       "      <td>Reddit</td>\n",
       "      <td>0.7579</td>\n",
       "      <td>2</td>\n",
       "    </tr>\n",
       "    <tr>\n",
       "      <th>456</th>\n",
       "      <td>join the live chat mmi showing love to teamsters workers of the world unite</td>\n",
       "      <td>Reddit</td>\n",
       "      <td>0.7506</td>\n",
       "      <td>1</td>\n",
       "    </tr>\n",
       "  </tbody>\n",
       "</table>\n",
       "</div>"
      ],
      "text/plain": [
       "                                                                         Reviews  \\\n",
       "415     best position for label is there a best spot for a label on a  x  x  box   \n",
       "78                                                                 best solution   \n",
       "456  join the live chat mmi showing love to teamsters workers of the world unite   \n",
       "\n",
       "     Source  Sentiment  Topic  \n",
       "415  Reddit     0.8555      2  \n",
       "78   Reddit     0.7579      2  \n",
       "456  Reddit     0.7506      1  "
      ]
     },
     "execution_count": 46,
     "metadata": {},
     "output_type": "execute_result"
    }
   ],
   "source": [
    "# Top 3 best reviews\n",
    "df.sort_values(by = 'Sentiment', ascending = False).head(3)"
   ]
  },
  {
   "cell_type": "code",
   "execution_count": 47,
   "id": "93c1d70c",
   "metadata": {},
   "outputs": [
    {
     "data": {
      "text/html": [
       "<div>\n",
       "<style scoped>\n",
       "    .dataframe tbody tr th:only-of-type {\n",
       "        vertical-align: middle;\n",
       "    }\n",
       "\n",
       "    .dataframe tbody tr th {\n",
       "        vertical-align: top;\n",
       "    }\n",
       "\n",
       "    .dataframe thead th {\n",
       "        text-align: right;\n",
       "    }\n",
       "</style>\n",
       "<table border=\"1\" class=\"dataframe\">\n",
       "  <thead>\n",
       "    <tr style=\"text-align: right;\">\n",
       "      <th></th>\n",
       "      <th>Reviews</th>\n",
       "      <th>Source</th>\n",
       "      <th>Sentiment</th>\n",
       "      <th>Topic</th>\n",
       "    </tr>\n",
       "  </thead>\n",
       "  <tbody>\n",
       "    <tr>\n",
       "      <th>803</th>\n",
       "      <td>paid for overnight from fl to az tracking is saying weather delay in louisville there is no weather i can see that is happening wtf</td>\n",
       "      <td>Reddit</td>\n",
       "      <td>-0.8074</td>\n",
       "      <td>0</td>\n",
       "    </tr>\n",
       "    <tr>\n",
       "      <th>870</th>\n",
       "      <td>what the hell is wrong with my choice</td>\n",
       "      <td>Reddit</td>\n",
       "      <td>-0.8271</td>\n",
       "      <td>1</td>\n",
       "    </tr>\n",
       "    <tr>\n",
       "      <th>439</th>\n",
       "      <td>ups lost two of my packages first my balenciaga shoes was lost now my dolce and gabbana shirt everything i buy expensive clothes from somewhere and they send it through ups its get lost i think someone is stealing my stuff</td>\n",
       "      <td>Reddit</td>\n",
       "      <td>-0.8625</td>\n",
       "      <td>2</td>\n",
       "    </tr>\n",
       "  </tbody>\n",
       "</table>\n",
       "</div>"
      ],
      "text/plain": [
       "                                                                                                                                                                                                                            Reviews  \\\n",
       "803                                                                                             paid for overnight from fl to az tracking is saying weather delay in louisville there is no weather i can see that is happening wtf   \n",
       "870                                                                                                                                                                                           what the hell is wrong with my choice   \n",
       "439  ups lost two of my packages first my balenciaga shoes was lost now my dolce and gabbana shirt everything i buy expensive clothes from somewhere and they send it through ups its get lost i think someone is stealing my stuff   \n",
       "\n",
       "     Source  Sentiment  Topic  \n",
       "803  Reddit    -0.8074      0  \n",
       "870  Reddit    -0.8271      1  \n",
       "439  Reddit    -0.8625      2  "
      ]
     },
     "execution_count": 47,
     "metadata": {},
     "output_type": "execute_result"
    }
   ],
   "source": [
    "# Top 3 worst reviews\n",
    "df.sort_values(by = 'Sentiment', ascending = False).tail(3)"
   ]
  },
  {
   "cell_type": "code",
   "execution_count": 48,
   "id": "ea66573b",
   "metadata": {},
   "outputs": [],
   "source": [
    "df_reddit = df"
   ]
  },
  {
   "cell_type": "code",
   "execution_count": 49,
   "id": "eebda2f5",
   "metadata": {},
   "outputs": [],
   "source": [
    "df = pd.concat([df_google, df_trustpilot, df_reddit], ignore_index = True)"
   ]
  },
  {
   "cell_type": "code",
   "execution_count": 50,
   "id": "1fb7ba93",
   "metadata": {},
   "outputs": [],
   "source": [
    "df.to_csv('UPS consolidated.csv', index = False)"
   ]
  }
 ],
 "metadata": {
  "kernelspec": {
   "display_name": "Python 3 (ipykernel)",
   "language": "python",
   "name": "python3"
  },
  "language_info": {
   "codemirror_mode": {
    "name": "ipython",
    "version": 3
   },
   "file_extension": ".py",
   "mimetype": "text/x-python",
   "name": "python",
   "nbconvert_exporter": "python",
   "pygments_lexer": "ipython3",
   "version": "3.10.9"
  }
 },
 "nbformat": 4,
 "nbformat_minor": 5
}
